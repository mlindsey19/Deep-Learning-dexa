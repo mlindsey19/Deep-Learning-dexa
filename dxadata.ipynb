{
  "nbformat": 4,
  "nbformat_minor": 0,
  "metadata": {
    "colab": {
      "name": "dxadata.ipynb",
      "version": "0.3.2",
      "provenance": [],
      "include_colab_link": true
    },
    "kernelspec": {
      "name": "python3",
      "display_name": "Python 3"
    }
  },
  "cells": [
    {
      "cell_type": "markdown",
      "metadata": {
        "id": "view-in-github",
        "colab_type": "text"
      },
      "source": [
        "<a href=\"https://colab.research.google.com/github/mlindsey19/dxa/blob/master/dxadata.ipynb\" target=\"_parent\"><img src=\"https://colab.research.google.com/assets/colab-badge.svg\" alt=\"Open In Colab\"/></a>"
      ]
    },
    {
      "metadata": {
        "id": "xSK0IId6wWZb",
        "colab_type": "text"
      },
      "cell_type": "markdown",
      "source": [
        "* Data was selected mulitple spreadsheets matching de-Identification number.\n",
        "* Easy clinical mesuments along side dual energy X-ray absorptiometry (DXA).\n",
        "* The puposed is to preditct the more expesive DXA test with simple clinical mesurements.\n",
        "* Data was transposed to single speadshee and uploaded to CSV file on github.\n",
        "* Measurements are muiltiple 4 or 5 visits per patient with new DXA data for each visit.\n",
        "\n",
        "[data reference table](https://calerie.duke.edu/sites/calerie.duke.edu/files/calerie2_analysis_dataset_details_0.pdf)"
      ]
    },
    {
      "metadata": {
        "id": "Fh1-dUwaP8eT",
        "colab_type": "code",
        "colab": {}
      },
      "cell_type": "code",
      "source": [
        "import pandas as pd\n",
        "\n",
        "url = 'https://raw.githubusercontent.com/mlindsey19/dxa/master/dxadl.csv?token=AIP6LNNC6IQE3JXDC6PVBWC42OT4Y'\n",
        "\n",
        "rdat = pd.read_csv(url)\n",
        "rdat.head()\n"
      ],
      "execution_count": 0,
      "outputs": []
    },
    {
      "metadata": {
        "id": "ZB1FGkF1xTXf",
        "colab_type": "text"
      },
      "cell_type": "markdown",
      "source": [
        "Separate and extract data: \n",
        "\n",
        "Hight, Weight and BMI calculation"
      ]
    },
    {
      "metadata": {
        "id": "nkTlncqai0bY",
        "colab_type": "code",
        "colab": {}
      },
      "cell_type": "code",
      "source": [
        "dat1 = pd.DataFrame()\n",
        "dat1 = rdat.iloc[0: , [0,2,3,4]]\n",
        "dat1.head()"
      ],
      "execution_count": 0,
      "outputs": []
    },
    {
      "metadata": {
        "id": "4QUtq86Bfa48",
        "colab_type": "text"
      },
      "cell_type": "markdown",
      "source": [
        "* Mean of the 2 closest natural waist measurements\n",
        "* Mean of the 2 closest umbilical waist measurements"
      ]
    },
    {
      "metadata": {
        "id": "qKifEATW3CJJ",
        "colab_type": "code",
        "colab": {}
      },
      "cell_type": "code",
      "source": [
        "dat2 = pd.DataFrame()\n",
        "dat2 = rdat.iloc[0: , 6 : 9]\n",
        "dat2.head()"
      ],
      "execution_count": 0,
      "outputs": []
    },
    {
      "metadata": {
        "id": "RgzAin_jivrx",
        "colab_type": "text"
      },
      "cell_type": "markdown",
      "source": [
        "* gender/age/race/ethinicy"
      ]
    },
    {
      "metadata": {
        "id": "pTRo9EHM21zv",
        "colab_type": "code",
        "colab": {}
      },
      "cell_type": "code",
      "source": [
        "dat3 = pd.DataFrame()\n",
        "dat3 = rdat.iloc[0: , [11, 13, 14, 18, 19]]\n",
        "dat3.head()"
      ],
      "execution_count": 0,
      "outputs": []
    },
    {
      "metadata": {
        "id": "BEimWVEqj5Mv",
        "colab_type": "text"
      },
      "cell_type": "markdown",
      "source": [
        "DXA (Dual-energy X-ray absorptiometry) is used to measure body composition: % body fat, fat mass (FM), fat free\n",
        "mass (FFM), bone mineral density (BMD), bone mineral content (BMC).\n",
        "\n"
      ]
    },
    {
      "metadata": {
        "id": "iZEpEXZe54pf",
        "colab_type": "code",
        "colab": {}
      },
      "cell_type": "code",
      "source": [
        "dat4 = pd.DataFrame()\n",
        "dat4 = rdat.iloc[0: , [21, 23, 24, 25]]\n",
        "dat4.head()"
      ],
      "execution_count": 0,
      "outputs": []
    },
    {
      "metadata": {
        "id": "2vldCBZKlUA1",
        "colab_type": "code",
        "colab": {
          "base_uri": "https://localhost:8080/",
          "height": 289
        },
        "outputId": "cf87f178-b909-4693-ca2e-d26d4c129f65"
      },
      "cell_type": "code",
      "source": [
        "cdat = pd.DataFrame()\n",
        "# merge data on combination of deidnum and visit (combined in speadsheet before upload to csv)\n",
        "cdat = pd.merge(dat1, dat2, left_on='deidnum visit', right_on='deidnum visit.1')\n",
        "cdat = pd.merge(cdat, dat4, left_on='deidnum visit', right_on='deidnum visit.2')\n",
        "#slpit deiednum from vist for merge with demographics\n",
        "new = cdat['deidnum visit.1'].str.split(n=1,expand=True)\n",
        "cc= pd.concat([new, cdat], axis=1)\n",
        "df = dat3.dropna(subset = ['deidnum'])\n",
        "df.loc['deidnum'] = df['deidnum'].apply(int) #slice error disregaurd\n",
        "cc[0] = cc[0].apply(int)\n",
        "aa = pd.merge(cc, df, left_on=0, right_on='deidnum' )\n",
        "\n",
        "aa = aa.drop(columns=['deidnum visit.2','deidnum visit.1', 'deidnum visit', 'deidnum']) \n",
        "#aa = aa.drop(columns=['ETHNIC']) \n",
        "bb = aa.drop(columns=[0, 1])\n",
        "\n",
        "bb.head()"
      ],
      "execution_count": 214,
      "outputs": [
        {
          "output_type": "stream",
          "text": [
            "/usr/local/lib/python3.6/dist-packages/ipykernel_launcher.py:9: SettingWithCopyWarning: \n",
            "A value is trying to be set on a copy of a slice from a DataFrame\n",
            "\n",
            "See the caveats in the documentation: http://pandas.pydata.org/pandas-docs/stable/indexing.html#indexing-view-versus-copy\n",
            "  if __name__ == '__main__':\n"
          ],
          "name": "stderr"
        },
        {
          "output_type": "execute_result",
          "data": {
            "text/html": [
              "<div>\n",
              "<style scoped>\n",
              "    .dataframe tbody tr th:only-of-type {\n",
              "        vertical-align: middle;\n",
              "    }\n",
              "\n",
              "    .dataframe tbody tr th {\n",
              "        vertical-align: top;\n",
              "    }\n",
              "\n",
              "    .dataframe thead th {\n",
              "        text-align: right;\n",
              "    }\n",
              "</style>\n",
              "<table border=\"1\" class=\"dataframe\">\n",
              "  <thead>\n",
              "    <tr style=\"text-align: right;\">\n",
              "      <th></th>\n",
              "      <th>mclinwt</th>\n",
              "      <th>height</th>\n",
              "      <th>mbmi</th>\n",
              "      <th>meanwst</th>\n",
              "      <th>meanumb</th>\n",
              "      <th>TRUNKFAT</th>\n",
              "      <th>fm</th>\n",
              "      <th>ffm</th>\n",
              "      <th>GENDER</th>\n",
              "      <th>ETHNIC</th>\n",
              "      <th>age</th>\n",
              "      <th>race</th>\n",
              "    </tr>\n",
              "  </thead>\n",
              "  <tbody>\n",
              "    <tr>\n",
              "      <th>0</th>\n",
              "      <td>59.18333333</td>\n",
              "      <td>159.00</td>\n",
              "      <td>23.41020266</td>\n",
              "      <td>72.25</td>\n",
              "      <td>80.5</td>\n",
              "      <td>7.367624579</td>\n",
              "      <td>18.52068867</td>\n",
              "      <td>40.77931133</td>\n",
              "      <td>Female</td>\n",
              "      <td>Not Hispanic or Latino</td>\n",
              "      <td>27.0</td>\n",
              "      <td>White</td>\n",
              "    </tr>\n",
              "    <tr>\n",
              "      <th>1</th>\n",
              "      <td>59.18333333</td>\n",
              "      <td>159.00</td>\n",
              "      <td>23.41020266</td>\n",
              "      <td>72.25</td>\n",
              "      <td>80.5</td>\n",
              "      <td>7.367624579</td>\n",
              "      <td>18.52068867</td>\n",
              "      <td>40.77931133</td>\n",
              "      <td>Female</td>\n",
              "      <td>Not Hispanic or Latino</td>\n",
              "      <td>27.0</td>\n",
              "      <td>White</td>\n",
              "    </tr>\n",
              "    <tr>\n",
              "      <th>2</th>\n",
              "      <td>51.81666667</td>\n",
              "      <td>147.65</td>\n",
              "      <td>23.76854347</td>\n",
              "      <td>72.25</td>\n",
              "      <td>82.5</td>\n",
              "      <td>7.916222507</td>\n",
              "      <td>18.44967646</td>\n",
              "      <td>33.20032355</td>\n",
              "      <td>Female</td>\n",
              "      <td>Not Hispanic or Latino</td>\n",
              "      <td>42.0</td>\n",
              "      <td>Asian</td>\n",
              "    </tr>\n",
              "    <tr>\n",
              "      <th>3</th>\n",
              "      <td>51.86666667</td>\n",
              "      <td>147.65</td>\n",
              "      <td>23.7914787</td>\n",
              "      <td>72.25</td>\n",
              "      <td>86</td>\n",
              "      <td>8.032587724</td>\n",
              "      <td>18.58043726</td>\n",
              "      <td>33.21956274</td>\n",
              "      <td>Female</td>\n",
              "      <td>Not Hispanic or Latino</td>\n",
              "      <td>42.0</td>\n",
              "      <td>Asian</td>\n",
              "    </tr>\n",
              "    <tr>\n",
              "      <th>4</th>\n",
              "      <td>51.76666667</td>\n",
              "      <td>147.65</td>\n",
              "      <td>23.74560824</td>\n",
              "      <td>72.25</td>\n",
              "      <td>79</td>\n",
              "      <td>7.799857291</td>\n",
              "      <td>18.31891565</td>\n",
              "      <td>33.18108435</td>\n",
              "      <td>Female</td>\n",
              "      <td>Not Hispanic or Latino</td>\n",
              "      <td>42.0</td>\n",
              "      <td>Asian</td>\n",
              "    </tr>\n",
              "  </tbody>\n",
              "</table>\n",
              "</div>"
            ],
            "text/plain": [
              "       mclinwt  height         mbmi meanwst meanumb     TRUNKFAT           fm  \\\n",
              "0  59.18333333  159.00  23.41020266   72.25    80.5  7.367624579  18.52068867   \n",
              "1  59.18333333  159.00  23.41020266   72.25    80.5  7.367624579  18.52068867   \n",
              "2  51.81666667  147.65  23.76854347   72.25    82.5  7.916222507  18.44967646   \n",
              "3  51.86666667  147.65   23.7914787   72.25      86  8.032587724  18.58043726   \n",
              "4  51.76666667  147.65  23.74560824   72.25      79  7.799857291  18.31891565   \n",
              "\n",
              "           ffm  GENDER                  ETHNIC   age   race  \n",
              "0  40.77931133  Female  Not Hispanic or Latino  27.0  White  \n",
              "1  40.77931133  Female  Not Hispanic or Latino  27.0  White  \n",
              "2  33.20032355  Female  Not Hispanic or Latino  42.0  Asian  \n",
              "3  33.21956274  Female  Not Hispanic or Latino  42.0  Asian  \n",
              "4  33.18108435  Female  Not Hispanic or Latino  42.0  Asian  "
            ]
          },
          "metadata": {
            "tags": []
          },
          "execution_count": 214
        }
      ]
    },
    {
      "metadata": {
        "id": "2n6Te9V46ar2",
        "colab_type": "code",
        "colab": {}
      },
      "cell_type": "code",
      "source": [
        "#enumerate\n",
        "bb['race'],enum_race = bb['race'].factorize()\n",
        "bb['GENDER'],enum_GENDER = bb['GENDER'].factorize()\n",
        "bb['ETHNIC'],enum_ETHNIC = bb['ETHNIC'].factorize()\n",
        "map_enums = [ [ enum_race, bb['race'] ], [ enum_GENDER, bb['GENDER']], [ enum_ETHNIC, bb['ETHNIC']  ] ]"
      ],
      "execution_count": 0,
      "outputs": []
    },
    {
      "metadata": {
        "id": "hnd_5kV1sZvD",
        "colab_type": "code",
        "colab": {
          "base_uri": "https://localhost:8080/",
          "height": 255
        },
        "outputId": "0baf6106-1b3d-4eef-f772-f9185014270e"
      },
      "cell_type": "code",
      "source": [
        "for en in map_enums:\n",
        "  print(\"\\n\\nNumeric Representation : \", en[1].unique()) \n",
        "  print(\"Unique Values : \", en[0].unique()) "
      ],
      "execution_count": 216,
      "outputs": [
        {
          "output_type": "stream",
          "text": [
            "\n",
            "\n",
            "Numeric Representation :  [0 1 2 3]\n",
            "Unique Values :  Index(['White', 'Asian', 'Other', 'Black or African American'], dtype='object')\n",
            "\n",
            "\n",
            "Numeric Representation :  [0 1]\n",
            "Unique Values :  Index(['Female', 'Male'], dtype='object')\n",
            "\n",
            "\n",
            "Numeric Representation :  [0 1 2]\n",
            "Unique Values :  Index(['Not Hispanic or Latino', 'Hispanic or Latino',\n",
            "       'Unknown (not reporting ethnicity'],\n",
            "      dtype='object')\n"
          ],
          "name": "stdout"
        }
      ]
    },
    {
      "metadata": {
        "id": "PgdLmhXvgtdT",
        "colab_type": "code",
        "colab": {
          "base_uri": "https://localhost:8080/",
          "height": 258
        },
        "outputId": "080551c9-f24d-47e2-e7c8-04243071ebe4"
      },
      "cell_type": "code",
      "source": [
        "#reorder and drop rows with \" \" in any value\n",
        "bb = bb[['mclinwt',\t'height',\t'mbmi',\t'meanwst',\t'meanumb', 'GENDER',\t'age',\t'race', 'ETHNIC',\t'TRUNKFAT',\t'fm',\t'ffm'\t]]\n",
        "bb =bb[bb['mclinwt'] != \" \"]\n",
        "bb =bb[bb['ETHNIC'] != \" \"]\n",
        "bb =bb[bb['height'] != \" \"]\n",
        "bb =bb[bb['mbmi'] != \" \"]\n",
        "bb =bb[bb['meanwst'] != \" \"]\n",
        "bb =bb[bb['meanumb'] != \" \"]\n",
        "bb =bb[bb['age'] != \" \"]\n",
        "bb =bb[bb['race'] != \" \"]\n",
        "bb =bb[bb['TRUNKFAT'] != \" \"]\n",
        "bb =bb[bb['fm'] != \" \"]\n",
        "bb =bb[bb['ffm'] != \" \"]\n",
        "ab = bb.apply(pd.to_numeric)\n",
        "ab.head()"
      ],
      "execution_count": 217,
      "outputs": [
        {
          "output_type": "stream",
          "text": [
            "/usr/local/lib/python3.6/dist-packages/pandas/core/ops.py:1649: FutureWarning: elementwise comparison failed; returning scalar instead, but in the future will perform elementwise comparison\n",
            "  result = method(y)\n"
          ],
          "name": "stderr"
        },
        {
          "output_type": "execute_result",
          "data": {
            "text/html": [
              "<div>\n",
              "<style scoped>\n",
              "    .dataframe tbody tr th:only-of-type {\n",
              "        vertical-align: middle;\n",
              "    }\n",
              "\n",
              "    .dataframe tbody tr th {\n",
              "        vertical-align: top;\n",
              "    }\n",
              "\n",
              "    .dataframe thead th {\n",
              "        text-align: right;\n",
              "    }\n",
              "</style>\n",
              "<table border=\"1\" class=\"dataframe\">\n",
              "  <thead>\n",
              "    <tr style=\"text-align: right;\">\n",
              "      <th></th>\n",
              "      <th>mclinwt</th>\n",
              "      <th>height</th>\n",
              "      <th>mbmi</th>\n",
              "      <th>meanwst</th>\n",
              "      <th>meanumb</th>\n",
              "      <th>GENDER</th>\n",
              "      <th>age</th>\n",
              "      <th>race</th>\n",
              "      <th>ETHNIC</th>\n",
              "      <th>TRUNKFAT</th>\n",
              "      <th>fm</th>\n",
              "      <th>ffm</th>\n",
              "    </tr>\n",
              "  </thead>\n",
              "  <tbody>\n",
              "    <tr>\n",
              "      <th>0</th>\n",
              "      <td>59.183333</td>\n",
              "      <td>159.00</td>\n",
              "      <td>23.410203</td>\n",
              "      <td>72.25</td>\n",
              "      <td>80.5</td>\n",
              "      <td>0</td>\n",
              "      <td>27.0</td>\n",
              "      <td>0</td>\n",
              "      <td>0</td>\n",
              "      <td>7.367625</td>\n",
              "      <td>18.520689</td>\n",
              "      <td>40.779311</td>\n",
              "    </tr>\n",
              "    <tr>\n",
              "      <th>1</th>\n",
              "      <td>59.183333</td>\n",
              "      <td>159.00</td>\n",
              "      <td>23.410203</td>\n",
              "      <td>72.25</td>\n",
              "      <td>80.5</td>\n",
              "      <td>0</td>\n",
              "      <td>27.0</td>\n",
              "      <td>0</td>\n",
              "      <td>0</td>\n",
              "      <td>7.367625</td>\n",
              "      <td>18.520689</td>\n",
              "      <td>40.779311</td>\n",
              "    </tr>\n",
              "    <tr>\n",
              "      <th>2</th>\n",
              "      <td>51.816667</td>\n",
              "      <td>147.65</td>\n",
              "      <td>23.768543</td>\n",
              "      <td>72.25</td>\n",
              "      <td>82.5</td>\n",
              "      <td>0</td>\n",
              "      <td>42.0</td>\n",
              "      <td>1</td>\n",
              "      <td>0</td>\n",
              "      <td>7.916223</td>\n",
              "      <td>18.449676</td>\n",
              "      <td>33.200324</td>\n",
              "    </tr>\n",
              "    <tr>\n",
              "      <th>3</th>\n",
              "      <td>51.866667</td>\n",
              "      <td>147.65</td>\n",
              "      <td>23.791479</td>\n",
              "      <td>72.25</td>\n",
              "      <td>86.0</td>\n",
              "      <td>0</td>\n",
              "      <td>42.0</td>\n",
              "      <td>1</td>\n",
              "      <td>0</td>\n",
              "      <td>8.032588</td>\n",
              "      <td>18.580437</td>\n",
              "      <td>33.219563</td>\n",
              "    </tr>\n",
              "    <tr>\n",
              "      <th>4</th>\n",
              "      <td>51.766667</td>\n",
              "      <td>147.65</td>\n",
              "      <td>23.745608</td>\n",
              "      <td>72.25</td>\n",
              "      <td>79.0</td>\n",
              "      <td>0</td>\n",
              "      <td>42.0</td>\n",
              "      <td>1</td>\n",
              "      <td>0</td>\n",
              "      <td>7.799857</td>\n",
              "      <td>18.318916</td>\n",
              "      <td>33.181084</td>\n",
              "    </tr>\n",
              "  </tbody>\n",
              "</table>\n",
              "</div>"
            ],
            "text/plain": [
              "     mclinwt  height       mbmi  meanwst  meanumb  GENDER   age  race  ETHNIC  \\\n",
              "0  59.183333  159.00  23.410203    72.25     80.5       0  27.0     0       0   \n",
              "1  59.183333  159.00  23.410203    72.25     80.5       0  27.0     0       0   \n",
              "2  51.816667  147.65  23.768543    72.25     82.5       0  42.0     1       0   \n",
              "3  51.866667  147.65  23.791479    72.25     86.0       0  42.0     1       0   \n",
              "4  51.766667  147.65  23.745608    72.25     79.0       0  42.0     1       0   \n",
              "\n",
              "   TRUNKFAT         fm        ffm  \n",
              "0  7.367625  18.520689  40.779311  \n",
              "1  7.367625  18.520689  40.779311  \n",
              "2  7.916223  18.449676  33.200324  \n",
              "3  8.032588  18.580437  33.219563  \n",
              "4  7.799857  18.318916  33.181084  "
            ]
          },
          "metadata": {
            "tags": []
          },
          "execution_count": 217
        }
      ]
    },
    {
      "metadata": {
        "id": "f174JyBRvfHo",
        "colab_type": "code",
        "colab": {
          "base_uri": "https://localhost:8080/",
          "height": 883
        },
        "outputId": "6ddd47a5-33ca-49af-e866-feb2d8ba7e57"
      },
      "cell_type": "code",
      "source": [
        "ab[ab.dtypes[(ab.dtypes==\"float64\")|(ab.dtypes==\"int64\")]\n",
        "                        .index.values].hist(figsize=[11,11])"
      ],
      "execution_count": 218,
      "outputs": [
        {
          "output_type": "execute_result",
          "data": {
            "text/plain": [
              "array([[<matplotlib.axes._subplots.AxesSubplot object at 0x7fec181caa90>,\n",
              "        <matplotlib.axes._subplots.AxesSubplot object at 0x7fec18538f60>,\n",
              "        <matplotlib.axes._subplots.AxesSubplot object at 0x7fec19511ac8>],\n",
              "       [<matplotlib.axes._subplots.AxesSubplot object at 0x7fec1957ae10>,\n",
              "        <matplotlib.axes._subplots.AxesSubplot object at 0x7fec1c34f3c8>,\n",
              "        <matplotlib.axes._subplots.AxesSubplot object at 0x7fec1c03c5f8>],\n",
              "       [<matplotlib.axes._subplots.AxesSubplot object at 0x7fec199c2898>,\n",
              "        <matplotlib.axes._subplots.AxesSubplot object at 0x7fec199c8048>,\n",
              "        <matplotlib.axes._subplots.AxesSubplot object at 0x7fec199639b0>],\n",
              "       [<matplotlib.axes._subplots.AxesSubplot object at 0x7fec180b4160>,\n",
              "        <matplotlib.axes._subplots.AxesSubplot object at 0x7fec180d76d8>,\n",
              "        <matplotlib.axes._subplots.AxesSubplot object at 0x7fec1807ac50>]],\n",
              "      dtype=object)"
            ]
          },
          "metadata": {
            "tags": []
          },
          "execution_count": 218
        },
        {
          "output_type": "display_data",
          "data": {
            "image/png": "[encoded data removed]",
            "text/plain": [
              "<Figure size 792x792 with 12 Axes>"
            ]
          },
          "metadata": {
            "tags": []
          }
        }
      ]
    },
    {
      "metadata": {
        "id": "GLNAQD7WKjXw",
        "colab_type": "code",
        "colab": {
          "base_uri": "https://localhost:8080/",
          "height": 139
        },
        "outputId": "4cbd2056-274b-4e81-d53a-edc32110d2f0"
      },
      "cell_type": "code",
      "source": [
        "from scipy import stats\n",
        "import sklearn.preprocessing as prp\n",
        "df=ab\n",
        "\n",
        "std_scale = prp.StandardScaler().fit(df[['mclinwt',\t'height',\t'mbmi',\t'meanwst',\t'meanumb', 'GENDER',\t'age',\t'race','ETHNIC',\t'TRUNKFAT',\t'fm',\t'ffm'\t]])\n",
        "df_std = std_scale.transform(df[['mclinwt',\t'height',\t'mbmi',\t'meanwst',\t'meanumb', 'GENDER',\t'age',\t'race','ETHNIC',\t'TRUNKFAT',\t'fm',\t'ffm'\t]])\n",
        "minmax_scale = prp.MinMaxScaler().fit(df[['mclinwt',\t'height',\t'mbmi',\t'meanwst',\t'meanumb', 'GENDER',\t'age',\t'race', 'ETHNIC',\t'TRUNKFAT',\t'fm',\t'ffm'\t]])\n",
        "df_minmax = minmax_scale.transform(df[['mclinwt',\t'height',\t'mbmi',\t'meanwst',\t'meanumb', 'GENDER',\t'age',\t'race','ETHNIC',\t'TRUNKFAT',\t'fm',\t'ffm'\t]])\n"
      ],
      "execution_count": 219,
      "outputs": [
        {
          "output_type": "stream",
          "text": [
            "/usr/local/lib/python3.6/dist-packages/sklearn/preprocessing/data.py:645: DataConversionWarning: Data with input dtype int64, float64 were all converted to float64 by StandardScaler.\n",
            "  return self.partial_fit(X, y)\n",
            "/usr/local/lib/python3.6/dist-packages/ipykernel_launcher.py:6: DataConversionWarning: Data with input dtype int64, float64 were all converted to float64 by StandardScaler.\n",
            "  \n",
            "/usr/local/lib/python3.6/dist-packages/sklearn/preprocessing/data.py:334: DataConversionWarning: Data with input dtype int64, float64 were all converted to float64 by MinMaxScaler.\n",
            "  return self.partial_fit(X, y)\n"
          ],
          "name": "stderr"
        }
      ]
    },
    {
      "metadata": {
        "id": "rixDR-lz0cSE",
        "colab_type": "text"
      },
      "cell_type": "markdown",
      "source": [
        "user plot to visualize at exact/standardized/normalized relationships"
      ]
    },
    {
      "metadata": {
        "id": "Ilm8eY4WQOmJ",
        "colab_type": "code",
        "colab": {
          "base_uri": "https://localhost:8080/",
          "height": 441
        },
        "outputId": "bb709326-d728-484b-cc2f-a43ee4e21ae3"
      },
      "cell_type": "code",
      "source": [
        "from matplotlib import pyplot as plt\n",
        "\n",
        "def plot(A,B,x,y): #A,B -> keys; x,y -> index of A,B\n",
        "    plt.figure(figsize=(8,6))\n",
        "\n",
        "    plt.scatter(df[A], df[B],\n",
        "            color='green', label='input scale', alpha=0.5)\n",
        "\n",
        "    plt.scatter(df_std[:,x], df_std[:,y], color='red',\n",
        "            label='Standardized mu=0, sigma=1', alpha=0.3)\n",
        "\n",
        "    plt.scatter(df_minmax[:,x], df_minmax[:,y],\n",
        "            color='blue', label='min-max scaled [min=0, max=1]', alpha=0.3)\n",
        "\n",
        "    plt.title(f'{A} vs {B}')\n",
        "    plt.xlabel(A)\n",
        "    plt.ylabel(B)\n",
        "    plt.legend(loc='upper left')\n",
        "    plt.grid()\n",
        "\n",
        "    plt.tight_layout()\n",
        "\n",
        "plot('age','TRUNKFAT', 6, 9)\n",
        "plt.show()"
      ],
      "execution_count": 234,
      "outputs": [
        {
          "output_type": "display_data",
          "data": {
            "image/png": "[encoded data removed]",
            "text/plain": [
              "<Figure size 576x432 with 1 Axes>"
            ]
          },
          "metadata": {
            "tags": []
          }
        }
      ]
    },
    {
      "metadata": {
        "id": "a9_j_3GgcXKF",
        "colab_type": "code",
        "colab": {
          "base_uri": "https://localhost:8080/",
          "height": 204
        },
        "outputId": "61f8e6ea-6308-4277-f47d-0e0466bbbad5"
      },
      "cell_type": "code",
      "source": [
        "dz['TRUNKFAT'],dz['fm'],dz['ffm'] = df_minmax[:,9],df_minmax[:,10],df_minmax[:,11]\n",
        "dz['mclinwt'],dz['height'],dz['mbmi'] ,dz['meanwst'],dz['meanumb'] ,dz['age']= df_std[:,0],df_std[:,1],df_std[:,2],df_std[:,3],df_std[:,4],df_std[:,6]\n",
        "dz.head()"
      ],
      "execution_count": 233,
      "outputs": [
        {
          "output_type": "execute_result",
          "data": {
            "text/html": [
              "<div>\n",
              "<style scoped>\n",
              "    .dataframe tbody tr th:only-of-type {\n",
              "        vertical-align: middle;\n",
              "    }\n",
              "\n",
              "    .dataframe tbody tr th {\n",
              "        vertical-align: top;\n",
              "    }\n",
              "\n",
              "    .dataframe thead th {\n",
              "        text-align: right;\n",
              "    }\n",
              "</style>\n",
              "<table border=\"1\" class=\"dataframe\">\n",
              "  <thead>\n",
              "    <tr style=\"text-align: right;\">\n",
              "      <th></th>\n",
              "      <th>mclinwt</th>\n",
              "      <th>height</th>\n",
              "      <th>mbmi</th>\n",
              "      <th>meanwst</th>\n",
              "      <th>meanumb</th>\n",
              "      <th>GENDER</th>\n",
              "      <th>age</th>\n",
              "      <th>race</th>\n",
              "      <th>ETHNIC</th>\n",
              "      <th>TRUNKFAT</th>\n",
              "      <th>fm</th>\n",
              "      <th>ffm</th>\n",
              "    </tr>\n",
              "  </thead>\n",
              "  <tbody>\n",
              "    <tr>\n",
              "      <th>0</th>\n",
              "      <td>-1.004507</td>\n",
              "      <td>-1.148936</td>\n",
              "      <td>-0.335524</td>\n",
              "      <td>-0.79921</td>\n",
              "      <td>-0.510340</td>\n",
              "      <td>0</td>\n",
              "      <td>-1.490195</td>\n",
              "      <td>0</td>\n",
              "      <td>0</td>\n",
              "      <td>0.269392</td>\n",
              "      <td>0.331101</td>\n",
              "      <td>0.214854</td>\n",
              "    </tr>\n",
              "    <tr>\n",
              "      <th>1</th>\n",
              "      <td>-1.004507</td>\n",
              "      <td>-1.148936</td>\n",
              "      <td>-0.335524</td>\n",
              "      <td>-0.79921</td>\n",
              "      <td>-0.510340</td>\n",
              "      <td>0</td>\n",
              "      <td>-1.490195</td>\n",
              "      <td>0</td>\n",
              "      <td>0</td>\n",
              "      <td>0.269392</td>\n",
              "      <td>0.331101</td>\n",
              "      <td>0.214854</td>\n",
              "    </tr>\n",
              "    <tr>\n",
              "      <th>2</th>\n",
              "      <td>-1.755932</td>\n",
              "      <td>-2.477331</td>\n",
              "      <td>-0.171149</td>\n",
              "      <td>-0.79921</td>\n",
              "      <td>-0.257665</td>\n",
              "      <td>0</td>\n",
              "      <td>0.580070</td>\n",
              "      <td>1</td>\n",
              "      <td>0</td>\n",
              "      <td>0.302549</td>\n",
              "      <td>0.328796</td>\n",
              "      <td>0.051988</td>\n",
              "    </tr>\n",
              "    <tr>\n",
              "      <th>3</th>\n",
              "      <td>-1.750831</td>\n",
              "      <td>-2.477331</td>\n",
              "      <td>-0.160629</td>\n",
              "      <td>-0.79921</td>\n",
              "      <td>0.184516</td>\n",
              "      <td>0</td>\n",
              "      <td>0.580070</td>\n",
              "      <td>1</td>\n",
              "      <td>0</td>\n",
              "      <td>0.309582</td>\n",
              "      <td>0.333041</td>\n",
              "      <td>0.052402</td>\n",
              "    </tr>\n",
              "    <tr>\n",
              "      <th>4</th>\n",
              "      <td>-1.761032</td>\n",
              "      <td>-2.477331</td>\n",
              "      <td>-0.181670</td>\n",
              "      <td>-0.79921</td>\n",
              "      <td>-0.699846</td>\n",
              "      <td>0</td>\n",
              "      <td>0.580070</td>\n",
              "      <td>1</td>\n",
              "      <td>0</td>\n",
              "      <td>0.295516</td>\n",
              "      <td>0.324552</td>\n",
              "      <td>0.051575</td>\n",
              "    </tr>\n",
              "  </tbody>\n",
              "</table>\n",
              "</div>"
            ],
            "text/plain": [
              "    mclinwt    height      mbmi  meanwst   meanumb  GENDER       age  race  \\\n",
              "0 -1.004507 -1.148936 -0.335524 -0.79921 -0.510340       0 -1.490195     0   \n",
              "1 -1.004507 -1.148936 -0.335524 -0.79921 -0.510340       0 -1.490195     0   \n",
              "2 -1.755932 -2.477331 -0.171149 -0.79921 -0.257665       0  0.580070     1   \n",
              "3 -1.750831 -2.477331 -0.160629 -0.79921  0.184516       0  0.580070     1   \n",
              "4 -1.761032 -2.477331 -0.181670 -0.79921 -0.699846       0  0.580070     1   \n",
              "\n",
              "   ETHNIC  TRUNKFAT        fm       ffm  \n",
              "0       0  0.269392  0.331101  0.214854  \n",
              "1       0  0.269392  0.331101  0.214854  \n",
              "2       0  0.302549  0.328796  0.051988  \n",
              "3       0  0.309582  0.333041  0.052402  \n",
              "4       0  0.295516  0.324552  0.051575  "
            ]
          },
          "metadata": {
            "tags": []
          },
          "execution_count": 233
        }
      ]
    },
    {
      "metadata": {
        "id": "fPMmoWZQWdI-",
        "colab_type": "code",
        "colab": {}
      },
      "cell_type": "code",
      "source": [
        "import numpy as np\n",
        "\n",
        "dataset = dz.to_numpy()\n",
        "np.set_printoptions(formatter={'float': lambda x: \"{0:0.2f}\".format(x)})\n",
        "\n",
        "\n",
        "#print(dataset[:1,:])\n",
        "#X = nrm.normalize(dataset[:,], axis=0)\n",
        "#Y = nrm.scale(dataset)\n",
        "#print(Y[:1,:])\n",
        "\n"
      ],
      "execution_count": 0,
      "outputs": []
    },
    {
      "metadata": {
        "id": "vFlJrnAjRXDm",
        "colab_type": "code",
        "colab": {}
      },
      "cell_type": "code",
      "source": [
        "from keras.models import Sequential\n",
        "from keras.layers import Dense\n",
        "from sklearn.metrics import accuracy_score, precision_score, recall_score, f1_score\n",
        "import tensorflow as tf\n",
        "\n",
        "np.random.seed(19)"
      ],
      "execution_count": 0,
      "outputs": []
    },
    {
      "metadata": {
        "id": "YrviccNvRmsg",
        "colab_type": "code",
        "colab": {
          "base_uri": "https://localhost:8080/",
          "height": 34
        },
        "outputId": "25179b98-0e4b-4cde-a4cf-0d6351d0c6d3"
      },
      "cell_type": "code",
      "source": [
        "print(dataset.shape)\n"
      ],
      "execution_count": 237,
      "outputs": [
        {
          "output_type": "stream",
          "text": [
            "(1326, 12)\n"
          ],
          "name": "stdout"
        }
      ]
    },
    {
      "metadata": {
        "id": "XdME8Vn3URTh",
        "colab_type": "code",
        "colab": {}
      },
      "cell_type": "code",
      "source": [
        ""
      ],
      "execution_count": 0,
      "outputs": []
    },
    {
      "metadata": {
        "id": "QM_RUuE-SoBs",
        "colab_type": "code",
        "colab": {}
      },
      "cell_type": "code",
      "source": [
        "XTRAIN = dataset[:795,0:9]\n",
        "YTRAIN = dataset[:795,9:]\n",
        "XVALIDATION = dataset[795:,0:9]\n",
        "YVALIDATION = dataset[795:,9:]\n",
        "\n"
      ],
      "execution_count": 0,
      "outputs": []
    },
    {
      "metadata": {
        "id": "xJXbOkABS3GQ",
        "colab_type": "code",
        "colab": {
          "base_uri": "https://localhost:8080/",
          "height": 221
        },
        "outputId": "3ca9d3a9-bba2-4042-9826-00d81f2ea3ab"
      },
      "cell_type": "code",
      "source": [
        "print(XTRAIN.shape)\n",
        "print(YTRAIN.shape)\n",
        "print(XVALIDATION.shape)\n",
        "print(YVALIDATION.shape)\n",
        "print(XTRAIN[0:2,])\n",
        "print(YTRAIN[0:2])\n",
        "print(XVALIDATION[0:2,])\n",
        "print(YVALIDATION[0:2])"
      ],
      "execution_count": 239,
      "outputs": [
        {
          "output_type": "stream",
          "text": [
            "(795, 9)\n",
            "(795, 3)\n",
            "(531, 9)\n",
            "(531, 3)\n",
            "[[-1.00 -1.15 -0.34 -0.80 -0.51 0.00 -1.49 0.00 0.00]\n",
            " [-1.00 -1.15 -0.34 -0.80 -0.51 0.00 -1.49 0.00 0.00]]\n",
            "[[0.27 0.33 0.21]\n",
            " [0.27 0.33 0.21]]\n",
            "[[-1.01 -1.06 -0.45 -0.64 -0.40 0.00 0.58 3.00 0.00]\n",
            " [-1.01 -1.06 -0.44 -0.58 -0.45 0.00 0.58 3.00 0.00]]\n",
            "[[0.34 0.41 0.17]\n",
            " [0.34 0.42 0.16]]\n"
          ],
          "name": "stdout"
        }
      ]
    },
    {
      "metadata": {
        "id": "9dFtEtqefoEy",
        "colab_type": "code",
        "colab": {
          "base_uri": "https://localhost:8080/",
          "height": 255
        },
        "outputId": "e10cef0b-9b7a-4c42-edef-1df3a2e21422"
      },
      "cell_type": "code",
      "source": [
        "model = Sequential()\n",
        "model.add(Dense(128, input_dim=9, activation='relu'))\n",
        "model.add(Dense(8, activation='relu'))\n",
        "model.add(Dense(3, activation='sigmoid'))\n",
        "print(model.summary())"
      ],
      "execution_count": 244,
      "outputs": [
        {
          "output_type": "stream",
          "text": [
            "_________________________________________________________________\n",
            "Layer (type)                 Output Shape              Param #   \n",
            "=================================================================\n",
            "dense_43 (Dense)             (None, 128)               1280      \n",
            "_________________________________________________________________\n",
            "dense_44 (Dense)             (None, 8)                 1032      \n",
            "_________________________________________________________________\n",
            "dense_45 (Dense)             (None, 3)                 27        \n",
            "=================================================================\n",
            "Total params: 2,339\n",
            "Trainable params: 2,339\n",
            "Non-trainable params: 0\n",
            "_________________________________________________________________\n",
            "None\n"
          ],
          "name": "stdout"
        }
      ]
    },
    {
      "metadata": {
        "id": "0uKKI668funB",
        "colab_type": "code",
        "colab": {}
      },
      "cell_type": "code",
      "source": [
        "model.compile(loss='mse', optimizer='adam', metrics=['accuracy','mse'])"
      ],
      "execution_count": 0,
      "outputs": []
    },
    {
      "metadata": {
        "id": "CY0m6PMHfwAI",
        "colab_type": "code",
        "colab": {
          "base_uri": "https://localhost:8080/",
          "height": 1122
        },
        "outputId": "e2d4386b-aa5f-442e-fc12-ff01cfc99929"
      },
      "cell_type": "code",
      "source": [
        "model.fit(XTRAIN, YTRAIN, epochs=32, batch_size=128)"
      ],
      "execution_count": 246,
      "outputs": [
        {
          "output_type": "stream",
          "text": [
            "Epoch 1/32\n",
            "795/795 [==============================] - 1s 1ms/step - loss: 0.0383 - acc: 0.3233 - mean_squared_error: 0.0383\n",
            "Epoch 2/32\n",
            "795/795 [==============================] - 0s 25us/step - loss: 0.0281 - acc: 0.4780 - mean_squared_error: 0.0281\n",
            "Epoch 3/32\n",
            "795/795 [==============================] - 0s 22us/step - loss: 0.0201 - acc: 0.5748 - mean_squared_error: 0.0201\n",
            "Epoch 4/32\n",
            "795/795 [==============================] - 0s 23us/step - loss: 0.0163 - acc: 0.6352 - mean_squared_error: 0.0163\n",
            "Epoch 5/32\n",
            "795/795 [==============================] - 0s 31us/step - loss: 0.0147 - acc: 0.6805 - mean_squared_error: 0.0147\n",
            "Epoch 6/32\n",
            "795/795 [==============================] - 0s 27us/step - loss: 0.0135 - acc: 0.7157 - mean_squared_error: 0.0135\n",
            "Epoch 7/32\n",
            "795/795 [==============================] - 0s 25us/step - loss: 0.0124 - acc: 0.7447 - mean_squared_error: 0.0124\n",
            "Epoch 8/32\n",
            "795/795 [==============================] - 0s 20us/step - loss: 0.0113 - acc: 0.7535 - mean_squared_error: 0.0113\n",
            "Epoch 9/32\n",
            "795/795 [==============================] - 0s 26us/step - loss: 0.0102 - acc: 0.7447 - mean_squared_error: 0.0102\n",
            "Epoch 10/32\n",
            "795/795 [==============================] - 0s 39us/step - loss: 0.0092 - acc: 0.7447 - mean_squared_error: 0.0092\n",
            "Epoch 11/32\n",
            "795/795 [==============================] - 0s 25us/step - loss: 0.0083 - acc: 0.7409 - mean_squared_error: 0.0083\n",
            "Epoch 12/32\n",
            "795/795 [==============================] - 0s 24us/step - loss: 0.0075 - acc: 0.7711 - mean_squared_error: 0.0075\n",
            "Epoch 13/32\n",
            "795/795 [==============================] - 0s 23us/step - loss: 0.0068 - acc: 0.8126 - mean_squared_error: 0.0068\n",
            "Epoch 14/32\n",
            "795/795 [==============================] - 0s 26us/step - loss: 0.0063 - acc: 0.8277 - mean_squared_error: 0.0063\n",
            "Epoch 15/32\n",
            "795/795 [==============================] - 0s 24us/step - loss: 0.0058 - acc: 0.8327 - mean_squared_error: 0.0058\n",
            "Epoch 16/32\n",
            "795/795 [==============================] - 0s 25us/step - loss: 0.0055 - acc: 0.8277 - mean_squared_error: 0.0055\n",
            "Epoch 17/32\n",
            "795/795 [==============================] - 0s 25us/step - loss: 0.0052 - acc: 0.8314 - mean_squared_error: 0.0052\n",
            "Epoch 18/32\n",
            "795/795 [==============================] - 0s 22us/step - loss: 0.0050 - acc: 0.8453 - mean_squared_error: 0.0050\n",
            "Epoch 19/32\n",
            "795/795 [==============================] - 0s 22us/step - loss: 0.0048 - acc: 0.8453 - mean_squared_error: 0.0048\n",
            "Epoch 20/32\n",
            "795/795 [==============================] - 0s 22us/step - loss: 0.0046 - acc: 0.8440 - mean_squared_error: 0.0046\n",
            "Epoch 21/32\n",
            "795/795 [==============================] - 0s 22us/step - loss: 0.0045 - acc: 0.8478 - mean_squared_error: 0.0045\n",
            "Epoch 22/32\n",
            "795/795 [==============================] - 0s 26us/step - loss: 0.0043 - acc: 0.8553 - mean_squared_error: 0.0043\n",
            "Epoch 23/32\n",
            "795/795 [==============================] - 0s 23us/step - loss: 0.0042 - acc: 0.8516 - mean_squared_error: 0.0042\n",
            "Epoch 24/32\n",
            "795/795 [==============================] - 0s 23us/step - loss: 0.0042 - acc: 0.8553 - mean_squared_error: 0.0042\n",
            "Epoch 25/32\n",
            "795/795 [==============================] - 0s 25us/step - loss: 0.0041 - acc: 0.8541 - mean_squared_error: 0.0041\n",
            "Epoch 26/32\n",
            "795/795 [==============================] - 0s 22us/step - loss: 0.0040 - acc: 0.8541 - mean_squared_error: 0.0040\n",
            "Epoch 27/32\n",
            "795/795 [==============================] - 0s 25us/step - loss: 0.0040 - acc: 0.8566 - mean_squared_error: 0.0040\n",
            "Epoch 28/32\n",
            "795/795 [==============================] - 0s 23us/step - loss: 0.0039 - acc: 0.8541 - mean_squared_error: 0.0039\n",
            "Epoch 29/32\n",
            "795/795 [==============================] - 0s 25us/step - loss: 0.0039 - acc: 0.8553 - mean_squared_error: 0.0039\n",
            "Epoch 30/32\n",
            "795/795 [==============================] - 0s 25us/step - loss: 0.0038 - acc: 0.8553 - mean_squared_error: 0.0038\n",
            "Epoch 31/32\n",
            "795/795 [==============================] - 0s 24us/step - loss: 0.0038 - acc: 0.8528 - mean_squared_error: 0.0038\n",
            "Epoch 32/32\n",
            "795/795 [==============================] - 0s 23us/step - loss: 0.0038 - acc: 0.8541 - mean_squared_error: 0.0038\n"
          ],
          "name": "stdout"
        },
        {
          "output_type": "execute_result",
          "data": {
            "text/plain": [
              "<keras.callbacks.History at 0x7fec17fe4278>"
            ]
          },
          "metadata": {
            "tags": []
          },
          "execution_count": 246
        }
      ]
    },
    {
      "metadata": {
        "id": "xKpkKsfPjVWY",
        "colab_type": "code",
        "colab": {
          "base_uri": "https://localhost:8080/",
          "height": 102
        },
        "outputId": "bfe252b0-827f-4c25-b9f5-4475635e2207"
      },
      "cell_type": "code",
      "source": [
        "scores = model.evaluate(XTRAIN, YTRAIN)\n",
        "print(model.metrics_names)\n",
        "print(scores)\n",
        "print(\"\\n%s: %.2f%%\" % (model.metrics_names[1], scores[1]*100))"
      ],
      "execution_count": 247,
      "outputs": [
        {
          "output_type": "stream",
          "text": [
            "795/795 [==============================] - 0s 415us/step\n",
            "['loss', 'acc', 'mean_squared_error']\n",
            "[0.003733820680224296, 0.8553459113498904, 0.003733820680224296]\n",
            "\n",
            "acc: 85.53%\n"
          ],
          "name": "stdout"
        }
      ]
    },
    {
      "metadata": {
        "id": "Ml4siFVQIUbN",
        "colab_type": "code",
        "colab": {}
      },
      "cell_type": "code",
      "source": [
        ""
      ],
      "execution_count": 0,
      "outputs": []
    }
  ]
}