{
  "nbformat": 4,
  "nbformat_minor": 0,
  "metadata": {
    "colab": {
      "name": "dxadata.ipynb",
      "version": "0.3.2",
      "provenance": [],
      "include_colab_link": true
    },
    "kernelspec": {
      "name": "python3",
      "display_name": "Python 3"
    }
  },
  "cells": [
    {
      "cell_type": "markdown",
      "metadata": {
        "id": "view-in-github",
        "colab_type": "text"
      },
      "source": [
        "<a href=\"https://colab.research.google.com/github/mlindsey19/dxa/blob/master/dxadata.ipynb\" target=\"_parent\"><img src=\"https://colab.research.google.com/assets/colab-badge.svg\" alt=\"Open In Colab\"/></a>"
      ]
    },
    {
      "metadata": {
        "id": "xSK0IId6wWZb",
        "colab_type": "text"
      },
      "cell_type": "markdown",
      "source": [
        "* Data was selected mulitple spreadsheets matching de-Identification number.\n",
        "* Easy clinical mesuments along side dual energy X-ray absorptiometry (DXA).\n",
        "* The puposed is to preditct the more expesive DXA test with simple clinical mesurements.\n",
        "* Data was transposed to single speadshee and uploaded to CSV file on github.\n",
        "* Measurements are muiltiple 4 or 5 visits per patient with new DXA data for each visit.\n",
        "\n",
        "[data reference table](https://calerie.duke.edu/sites/calerie.duke.edu/files/calerie2_analysis_dataset_details_0.pdf)"
      ]
    },
    {
      "metadata": {
        "id": "Fh1-dUwaP8eT",
        "colab_type": "code",
        "colab": {}
      },
      "cell_type": "code",
      "source": [
        "import pandas as pd\n",
        "\n",
        "url = 'https://raw.githubusercontent.com/mlindsey19/dxa/master/dxadl.csv?token=AIP6LNNC6IQE3JXDC6PVBWC42OT4Y'\n",
        "\n",
        "rdat = pd.read_csv(url)\n",
        "rdat.head()\n"
      ],
      "execution_count": 0,
      "outputs": []
    },
    {
      "metadata": {
        "id": "ZB1FGkF1xTXf",
        "colab_type": "text"
      },
      "cell_type": "markdown",
      "source": [
        "Separate and extract data: \n",
        "\n",
        "Hight, Weight and BMI calculation"
      ]
    },
    {
      "metadata": {
        "id": "nkTlncqai0bY",
        "colab_type": "code",
        "colab": {}
      },
      "cell_type": "code",
      "source": [
        "dat1 = pd.DataFrame()\n",
        "dat1 = rdat.iloc[0: , [0,2,3,4]]\n",
        "dat1.head()"
      ],
      "execution_count": 0,
      "outputs": []
    },
    {
      "metadata": {
        "id": "4QUtq86Bfa48",
        "colab_type": "text"
      },
      "cell_type": "markdown",
      "source": [
        "* Mean of the 2 closest natural waist measurements\n",
        "* Mean of the 2 closest umbilical waist measurements"
      ]
    },
    {
      "metadata": {
        "id": "qKifEATW3CJJ",
        "colab_type": "code",
        "colab": {}
      },
      "cell_type": "code",
      "source": [
        "dat2 = pd.DataFrame()\n",
        "dat2 = rdat.iloc[0: , 6 : 9]\n",
        "dat2.head()"
      ],
      "execution_count": 0,
      "outputs": []
    },
    {
      "metadata": {
        "id": "RgzAin_jivrx",
        "colab_type": "text"
      },
      "cell_type": "markdown",
      "source": [
        "* gender/age/race/ethinicy"
      ]
    },
    {
      "metadata": {
        "id": "pTRo9EHM21zv",
        "colab_type": "code",
        "outputId": "494a7531-e24d-41fd-db2e-820c3e0516c9",
        "colab": {
          "base_uri": "https://localhost:8080/",
          "height": 204
        }
      },
      "cell_type": "code",
      "source": [
        "dat3 = pd.DataFrame()\n",
        "dat3 = rdat.iloc[0: , [11, 13, 14, 18, 19]]\n",
        "dat3.head()"
      ],
      "execution_count": 142,
      "outputs": [
        {
          "output_type": "execute_result",
          "data": {
            "text/html": [
              "<div>\n",
              "<style scoped>\n",
              "    .dataframe tbody tr th:only-of-type {\n",
              "        vertical-align: middle;\n",
              "    }\n",
              "\n",
              "    .dataframe tbody tr th {\n",
              "        vertical-align: top;\n",
              "    }\n",
              "\n",
              "    .dataframe thead th {\n",
              "        text-align: right;\n",
              "    }\n",
              "</style>\n",
              "<table border=\"1\" class=\"dataframe\">\n",
              "  <thead>\n",
              "    <tr style=\"text-align: right;\">\n",
              "      <th></th>\n",
              "      <th>deidnum</th>\n",
              "      <th>GENDER</th>\n",
              "      <th>ETHNIC</th>\n",
              "      <th>age</th>\n",
              "      <th>race</th>\n",
              "    </tr>\n",
              "  </thead>\n",
              "  <tbody>\n",
              "    <tr>\n",
              "      <th>0</th>\n",
              "      <td>60.0</td>\n",
              "      <td>Male</td>\n",
              "      <td>Not Hispanic or Latino</td>\n",
              "      <td>47.0</td>\n",
              "      <td>Black or African American</td>\n",
              "    </tr>\n",
              "    <tr>\n",
              "      <th>1</th>\n",
              "      <td>231.0</td>\n",
              "      <td>Male</td>\n",
              "      <td>Not Hispanic or Latino</td>\n",
              "      <td>26.0</td>\n",
              "      <td>White</td>\n",
              "    </tr>\n",
              "    <tr>\n",
              "      <th>2</th>\n",
              "      <td>596.0</td>\n",
              "      <td>Male</td>\n",
              "      <td>Not Hispanic or Latino</td>\n",
              "      <td>32.0</td>\n",
              "      <td>White</td>\n",
              "    </tr>\n",
              "    <tr>\n",
              "      <th>3</th>\n",
              "      <td>823.0</td>\n",
              "      <td>Female</td>\n",
              "      <td>Unknown (not reporting ethnicity</td>\n",
              "      <td>21.0</td>\n",
              "      <td>Black or African American</td>\n",
              "    </tr>\n",
              "    <tr>\n",
              "      <th>4</th>\n",
              "      <td>867.0</td>\n",
              "      <td>Male</td>\n",
              "      <td>Not Hispanic or Latino</td>\n",
              "      <td>26.0</td>\n",
              "      <td>White</td>\n",
              "    </tr>\n",
              "  </tbody>\n",
              "</table>\n",
              "</div>"
            ],
            "text/plain": [
              "   deidnum  GENDER                            ETHNIC   age  \\\n",
              "0     60.0    Male            Not Hispanic or Latino  47.0   \n",
              "1    231.0    Male            Not Hispanic or Latino  26.0   \n",
              "2    596.0    Male            Not Hispanic or Latino  32.0   \n",
              "3    823.0  Female  Unknown (not reporting ethnicity  21.0   \n",
              "4    867.0    Male            Not Hispanic or Latino  26.0   \n",
              "\n",
              "                        race  \n",
              "0  Black or African American  \n",
              "1                      White  \n",
              "2                      White  \n",
              "3  Black or African American  \n",
              "4                      White  "
            ]
          },
          "metadata": {
            "tags": []
          },
          "execution_count": 142
        }
      ]
    },
    {
      "metadata": {
        "id": "BEimWVEqj5Mv",
        "colab_type": "text"
      },
      "cell_type": "markdown",
      "source": [
        "DXA (Dual-energy X-ray absorptiometry) is used to measure body composition: % body fat, fat mass (FM), fat free\n",
        "mass (FFM), bone mineral density (BMD), bone mineral content (BMC).\n",
        "\n"
      ]
    },
    {
      "metadata": {
        "id": "iZEpEXZe54pf",
        "colab_type": "code",
        "outputId": "4a19c566-3003-4a65-af35-2dc75cc92101",
        "colab": {
          "base_uri": "https://localhost:8080/",
          "height": 204
        }
      },
      "cell_type": "code",
      "source": [
        "dat4 = pd.DataFrame()\n",
        "dat4 = rdat.iloc[0: , [21, 23, 24, 25]]\n",
        "dat4.head()"
      ],
      "execution_count": 143,
      "outputs": [
        {
          "output_type": "execute_result",
          "data": {
            "text/html": [
              "<div>\n",
              "<style scoped>\n",
              "    .dataframe tbody tr th:only-of-type {\n",
              "        vertical-align: middle;\n",
              "    }\n",
              "\n",
              "    .dataframe tbody tr th {\n",
              "        vertical-align: top;\n",
              "    }\n",
              "\n",
              "    .dataframe thead th {\n",
              "        text-align: right;\n",
              "    }\n",
              "</style>\n",
              "<table border=\"1\" class=\"dataframe\">\n",
              "  <thead>\n",
              "    <tr style=\"text-align: right;\">\n",
              "      <th></th>\n",
              "      <th>deidnum visit.2</th>\n",
              "      <th>TRUNKFAT</th>\n",
              "      <th>fm</th>\n",
              "      <th>ffm</th>\n",
              "    </tr>\n",
              "  </thead>\n",
              "  <tbody>\n",
              "    <tr>\n",
              "      <th>0</th>\n",
              "      <td>903 Baseline</td>\n",
              "      <td>7.367624579</td>\n",
              "      <td>18.52068867</td>\n",
              "      <td>40.77931133</td>\n",
              "    </tr>\n",
              "    <tr>\n",
              "      <th>1</th>\n",
              "      <td>903 BL Sub 1</td>\n",
              "      <td>7.367624579</td>\n",
              "      <td>18.52068867</td>\n",
              "      <td>40.77931133</td>\n",
              "    </tr>\n",
              "    <tr>\n",
              "      <th>2</th>\n",
              "      <td>1057 Baseline</td>\n",
              "      <td>7.916222507</td>\n",
              "      <td>18.44967646</td>\n",
              "      <td>33.20032355</td>\n",
              "    </tr>\n",
              "    <tr>\n",
              "      <th>3</th>\n",
              "      <td>1057 BL Sub 1</td>\n",
              "      <td>8.032587724</td>\n",
              "      <td>18.58043726</td>\n",
              "      <td>33.21956274</td>\n",
              "    </tr>\n",
              "    <tr>\n",
              "      <th>4</th>\n",
              "      <td>1057 BL Sub 2</td>\n",
              "      <td>7.799857291</td>\n",
              "      <td>18.31891565</td>\n",
              "      <td>33.18108435</td>\n",
              "    </tr>\n",
              "  </tbody>\n",
              "</table>\n",
              "</div>"
            ],
            "text/plain": [
              "  deidnum visit.2     TRUNKFAT           fm          ffm\n",
              "0    903 Baseline  7.367624579  18.52068867  40.77931133\n",
              "1    903 BL Sub 1  7.367624579  18.52068867  40.77931133\n",
              "2   1057 Baseline  7.916222507  18.44967646  33.20032355\n",
              "3   1057 BL Sub 1  8.032587724  18.58043726  33.21956274\n",
              "4   1057 BL Sub 2  7.799857291  18.31891565  33.18108435"
            ]
          },
          "metadata": {
            "tags": []
          },
          "execution_count": 143
        }
      ]
    },
    {
      "metadata": {
        "id": "2vldCBZKlUA1",
        "colab_type": "code",
        "colab": {
          "base_uri": "https://localhost:8080/",
          "height": 289
        },
        "outputId": "a573aecd-97dc-49fc-deff-52e5b566f801"
      },
      "cell_type": "code",
      "source": [
        "cdat = pd.DataFrame()\n",
        "# merge data on combination of deidnum and visit (combined in speadsheet before upload to csv)\n",
        "cdat = pd.merge(dat1, dat2, left_on='deidnum visit', right_on='deidnum visit.1')\n",
        "cdat = pd.merge(cdat, dat4, left_on='deidnum visit', right_on='deidnum visit.2')\n",
        "#slpit deiednum from vist for merge with demographics\n",
        "new = cdat['deidnum visit.1'].str.split(n=1,expand=True)\n",
        "cc= pd.concat([new, cdat], axis=1)\n",
        "df = dat3.dropna(subset = ['deidnum'])\n",
        "df.loc['deidnum'] = df['deidnum'].apply(int) #slice error disregaurd\n",
        "cc[0] = cc[0].apply(int)\n",
        "aa = pd.merge(cc, df, left_on=0, right_on='deidnum' )\n",
        "\n",
        "aa = aa.drop(columns=['deidnum visit.2','deidnum visit.1', 'deidnum visit', 'deidnum']) \n",
        "#aa = aa.drop(columns=['ETHNIC']) \n",
        "bb = aa.drop(columns=[0, 1])\n",
        "\n",
        "bb.head()"
      ],
      "execution_count": 178,
      "outputs": [
        {
          "output_type": "stream",
          "text": [
            "/usr/local/lib/python3.6/dist-packages/ipykernel_launcher.py:9: SettingWithCopyWarning: \n",
            "A value is trying to be set on a copy of a slice from a DataFrame\n",
            "\n",
            "See the caveats in the documentation: http://pandas.pydata.org/pandas-docs/stable/indexing.html#indexing-view-versus-copy\n",
            "  if __name__ == '__main__':\n"
          ],
          "name": "stderr"
        },
        {
          "output_type": "execute_result",
          "data": {
            "text/html": [
              "<div>\n",
              "<style scoped>\n",
              "    .dataframe tbody tr th:only-of-type {\n",
              "        vertical-align: middle;\n",
              "    }\n",
              "\n",
              "    .dataframe tbody tr th {\n",
              "        vertical-align: top;\n",
              "    }\n",
              "\n",
              "    .dataframe thead th {\n",
              "        text-align: right;\n",
              "    }\n",
              "</style>\n",
              "<table border=\"1\" class=\"dataframe\">\n",
              "  <thead>\n",
              "    <tr style=\"text-align: right;\">\n",
              "      <th></th>\n",
              "      <th>mclinwt</th>\n",
              "      <th>height</th>\n",
              "      <th>mbmi</th>\n",
              "      <th>meanwst</th>\n",
              "      <th>meanumb</th>\n",
              "      <th>TRUNKFAT</th>\n",
              "      <th>fm</th>\n",
              "      <th>ffm</th>\n",
              "      <th>GENDER</th>\n",
              "      <th>ETHNIC</th>\n",
              "      <th>age</th>\n",
              "      <th>race</th>\n",
              "    </tr>\n",
              "  </thead>\n",
              "  <tbody>\n",
              "    <tr>\n",
              "      <th>0</th>\n",
              "      <td>59.18333333</td>\n",
              "      <td>159.00</td>\n",
              "      <td>23.41020266</td>\n",
              "      <td>72.25</td>\n",
              "      <td>80.5</td>\n",
              "      <td>7.367624579</td>\n",
              "      <td>18.52068867</td>\n",
              "      <td>40.77931133</td>\n",
              "      <td>Female</td>\n",
              "      <td>Not Hispanic or Latino</td>\n",
              "      <td>27.0</td>\n",
              "      <td>White</td>\n",
              "    </tr>\n",
              "    <tr>\n",
              "      <th>1</th>\n",
              "      <td>59.18333333</td>\n",
              "      <td>159.00</td>\n",
              "      <td>23.41020266</td>\n",
              "      <td>72.25</td>\n",
              "      <td>80.5</td>\n",
              "      <td>7.367624579</td>\n",
              "      <td>18.52068867</td>\n",
              "      <td>40.77931133</td>\n",
              "      <td>Female</td>\n",
              "      <td>Not Hispanic or Latino</td>\n",
              "      <td>27.0</td>\n",
              "      <td>White</td>\n",
              "    </tr>\n",
              "    <tr>\n",
              "      <th>2</th>\n",
              "      <td>51.81666667</td>\n",
              "      <td>147.65</td>\n",
              "      <td>23.76854347</td>\n",
              "      <td>72.25</td>\n",
              "      <td>82.5</td>\n",
              "      <td>7.916222507</td>\n",
              "      <td>18.44967646</td>\n",
              "      <td>33.20032355</td>\n",
              "      <td>Female</td>\n",
              "      <td>Not Hispanic or Latino</td>\n",
              "      <td>42.0</td>\n",
              "      <td>Asian</td>\n",
              "    </tr>\n",
              "    <tr>\n",
              "      <th>3</th>\n",
              "      <td>51.86666667</td>\n",
              "      <td>147.65</td>\n",
              "      <td>23.7914787</td>\n",
              "      <td>72.25</td>\n",
              "      <td>86</td>\n",
              "      <td>8.032587724</td>\n",
              "      <td>18.58043726</td>\n",
              "      <td>33.21956274</td>\n",
              "      <td>Female</td>\n",
              "      <td>Not Hispanic or Latino</td>\n",
              "      <td>42.0</td>\n",
              "      <td>Asian</td>\n",
              "    </tr>\n",
              "    <tr>\n",
              "      <th>4</th>\n",
              "      <td>51.76666667</td>\n",
              "      <td>147.65</td>\n",
              "      <td>23.74560824</td>\n",
              "      <td>72.25</td>\n",
              "      <td>79</td>\n",
              "      <td>7.799857291</td>\n",
              "      <td>18.31891565</td>\n",
              "      <td>33.18108435</td>\n",
              "      <td>Female</td>\n",
              "      <td>Not Hispanic or Latino</td>\n",
              "      <td>42.0</td>\n",
              "      <td>Asian</td>\n",
              "    </tr>\n",
              "  </tbody>\n",
              "</table>\n",
              "</div>"
            ],
            "text/plain": [
              "       mclinwt  height         mbmi meanwst meanumb     TRUNKFAT           fm  \\\n",
              "0  59.18333333  159.00  23.41020266   72.25    80.5  7.367624579  18.52068867   \n",
              "1  59.18333333  159.00  23.41020266   72.25    80.5  7.367624579  18.52068867   \n",
              "2  51.81666667  147.65  23.76854347   72.25    82.5  7.916222507  18.44967646   \n",
              "3  51.86666667  147.65   23.7914787   72.25      86  8.032587724  18.58043726   \n",
              "4  51.76666667  147.65  23.74560824   72.25      79  7.799857291  18.31891565   \n",
              "\n",
              "           ffm  GENDER                  ETHNIC   age   race  \n",
              "0  40.77931133  Female  Not Hispanic or Latino  27.0  White  \n",
              "1  40.77931133  Female  Not Hispanic or Latino  27.0  White  \n",
              "2  33.20032355  Female  Not Hispanic or Latino  42.0  Asian  \n",
              "3  33.21956274  Female  Not Hispanic or Latino  42.0  Asian  \n",
              "4  33.18108435  Female  Not Hispanic or Latino  42.0  Asian  "
            ]
          },
          "metadata": {
            "tags": []
          },
          "execution_count": 178
        }
      ]
    },
    {
      "metadata": {
        "id": "2n6Te9V46ar2",
        "colab_type": "code",
        "colab": {}
      },
      "cell_type": "code",
      "source": [
        "#enumerate\n",
        "bb['race'],enum_race = bb['race'].factorize()\n",
        "bb['GENDER'],enum_GENDER = bb['GENDER'].factorize()\n",
        "bb['ETHNIC'],enum_ETHNIC = bb['ETHNIC'].factorize()\n",
        "map_enums = [ [ enum_race, bb['race'] ], [ enum_GENDER, bb['GENDER']], [ enum_ETHNIC, bb['ETHNIC']  ] ]"
      ],
      "execution_count": 0,
      "outputs": []
    },
    {
      "metadata": {
        "id": "hnd_5kV1sZvD",
        "colab_type": "code",
        "colab": {
          "base_uri": "https://localhost:8080/",
          "height": 255
        },
        "outputId": "8b204901-e72f-4b56-facf-87a74aef1408"
      },
      "cell_type": "code",
      "source": [
        "for en in map_enums:\n",
        "  print(\"\\n\\nNumeric Representation : \", en[1].unique()) \n",
        "  print(\"Unique Values : \", en[0].unique()) "
      ],
      "execution_count": 180,
      "outputs": [
        {
          "output_type": "stream",
          "text": [
            "\n",
            "\n",
            "Numeric Representation :  [0 1 2 3]\n",
            "Unique Values :  Index(['White', 'Asian', 'Other', 'Black or African American'], dtype='object')\n",
            "\n",
            "\n",
            "Numeric Representation :  [0 1]\n",
            "Unique Values :  Index(['Female', 'Male'], dtype='object')\n",
            "\n",
            "\n",
            "Numeric Representation :  [0 1 2]\n",
            "Unique Values :  Index(['Not Hispanic or Latino', 'Hispanic or Latino',\n",
            "       'Unknown (not reporting ethnicity'],\n",
            "      dtype='object')\n"
          ],
          "name": "stdout"
        }
      ]
    },
    {
      "metadata": {
        "id": "PgdLmhXvgtdT",
        "colab_type": "code",
        "colab": {
          "base_uri": "https://localhost:8080/",
          "height": 258
        },
        "outputId": "3530cc72-0e0d-4105-fbe9-b57f5b4492d5"
      },
      "cell_type": "code",
      "source": [
        "#reorder and drop rows with \" \" in any value\n",
        "bb = bb[['mclinwt',\t'height',\t'mbmi',\t'meanwst',\t'meanumb', 'GENDER',\t'age',\t'race', 'ETHNIC',\t'TRUNKFAT',\t'fm',\t'ffm'\t]]\n",
        "bb =bb[bb['mclinwt'] != \" \"]\n",
        "bb =bb[bb['ETHNIC'] != \" \"]\n",
        "bb =bb[bb['height'] != \" \"]\n",
        "bb =bb[bb['mbmi'] != \" \"]\n",
        "bb =bb[bb['meanwst'] != \" \"]\n",
        "bb =bb[bb['meanumb'] != \" \"]\n",
        "bb =bb[bb['age'] != \" \"]\n",
        "bb =bb[bb['race'] != \" \"]\n",
        "bb =bb[bb['TRUNKFAT'] != \" \"]\n",
        "bb =bb[bb['fm'] != \" \"]\n",
        "bb =bb[bb['ffm'] != \" \"]\n",
        "ab = bb.apply(pd.to_numeric)\n",
        "ab.head()"
      ],
      "execution_count": 183,
      "outputs": [
        {
          "output_type": "stream",
          "text": [
            "/usr/local/lib/python3.6/dist-packages/pandas/core/ops.py:1649: FutureWarning: elementwise comparison failed; returning scalar instead, but in the future will perform elementwise comparison\n",
            "  result = method(y)\n"
          ],
          "name": "stderr"
        },
        {
          "output_type": "execute_result",
          "data": {
            "text/html": [
              "<div>\n",
              "<style scoped>\n",
              "    .dataframe tbody tr th:only-of-type {\n",
              "        vertical-align: middle;\n",
              "    }\n",
              "\n",
              "    .dataframe tbody tr th {\n",
              "        vertical-align: top;\n",
              "    }\n",
              "\n",
              "    .dataframe thead th {\n",
              "        text-align: right;\n",
              "    }\n",
              "</style>\n",
              "<table border=\"1\" class=\"dataframe\">\n",
              "  <thead>\n",
              "    <tr style=\"text-align: right;\">\n",
              "      <th></th>\n",
              "      <th>mclinwt</th>\n",
              "      <th>height</th>\n",
              "      <th>mbmi</th>\n",
              "      <th>meanwst</th>\n",
              "      <th>meanumb</th>\n",
              "      <th>GENDER</th>\n",
              "      <th>age</th>\n",
              "      <th>race</th>\n",
              "      <th>ETHNIC</th>\n",
              "      <th>TRUNKFAT</th>\n",
              "      <th>fm</th>\n",
              "      <th>ffm</th>\n",
              "    </tr>\n",
              "  </thead>\n",
              "  <tbody>\n",
              "    <tr>\n",
              "      <th>0</th>\n",
              "      <td>59.183333</td>\n",
              "      <td>159.00</td>\n",
              "      <td>23.410203</td>\n",
              "      <td>72.25</td>\n",
              "      <td>80.5</td>\n",
              "      <td>0</td>\n",
              "      <td>27.0</td>\n",
              "      <td>0</td>\n",
              "      <td>0</td>\n",
              "      <td>7.367625</td>\n",
              "      <td>18.520689</td>\n",
              "      <td>40.779311</td>\n",
              "    </tr>\n",
              "    <tr>\n",
              "      <th>1</th>\n",
              "      <td>59.183333</td>\n",
              "      <td>159.00</td>\n",
              "      <td>23.410203</td>\n",
              "      <td>72.25</td>\n",
              "      <td>80.5</td>\n",
              "      <td>0</td>\n",
              "      <td>27.0</td>\n",
              "      <td>0</td>\n",
              "      <td>0</td>\n",
              "      <td>7.367625</td>\n",
              "      <td>18.520689</td>\n",
              "      <td>40.779311</td>\n",
              "    </tr>\n",
              "    <tr>\n",
              "      <th>2</th>\n",
              "      <td>51.816667</td>\n",
              "      <td>147.65</td>\n",
              "      <td>23.768543</td>\n",
              "      <td>72.25</td>\n",
              "      <td>82.5</td>\n",
              "      <td>0</td>\n",
              "      <td>42.0</td>\n",
              "      <td>1</td>\n",
              "      <td>0</td>\n",
              "      <td>7.916223</td>\n",
              "      <td>18.449676</td>\n",
              "      <td>33.200324</td>\n",
              "    </tr>\n",
              "    <tr>\n",
              "      <th>3</th>\n",
              "      <td>51.866667</td>\n",
              "      <td>147.65</td>\n",
              "      <td>23.791479</td>\n",
              "      <td>72.25</td>\n",
              "      <td>86.0</td>\n",
              "      <td>0</td>\n",
              "      <td>42.0</td>\n",
              "      <td>1</td>\n",
              "      <td>0</td>\n",
              "      <td>8.032588</td>\n",
              "      <td>18.580437</td>\n",
              "      <td>33.219563</td>\n",
              "    </tr>\n",
              "    <tr>\n",
              "      <th>4</th>\n",
              "      <td>51.766667</td>\n",
              "      <td>147.65</td>\n",
              "      <td>23.745608</td>\n",
              "      <td>72.25</td>\n",
              "      <td>79.0</td>\n",
              "      <td>0</td>\n",
              "      <td>42.0</td>\n",
              "      <td>1</td>\n",
              "      <td>0</td>\n",
              "      <td>7.799857</td>\n",
              "      <td>18.318916</td>\n",
              "      <td>33.181084</td>\n",
              "    </tr>\n",
              "  </tbody>\n",
              "</table>\n",
              "</div>"
            ],
            "text/plain": [
              "     mclinwt  height       mbmi  meanwst  meanumb  GENDER   age  race  ETHNIC  \\\n",
              "0  59.183333  159.00  23.410203    72.25     80.5       0  27.0     0       0   \n",
              "1  59.183333  159.00  23.410203    72.25     80.5       0  27.0     0       0   \n",
              "2  51.816667  147.65  23.768543    72.25     82.5       0  42.0     1       0   \n",
              "3  51.866667  147.65  23.791479    72.25     86.0       0  42.0     1       0   \n",
              "4  51.766667  147.65  23.745608    72.25     79.0       0  42.0     1       0   \n",
              "\n",
              "   TRUNKFAT         fm        ffm  \n",
              "0  7.367625  18.520689  40.779311  \n",
              "1  7.367625  18.520689  40.779311  \n",
              "2  7.916223  18.449676  33.200324  \n",
              "3  8.032588  18.580437  33.219563  \n",
              "4  7.799857  18.318916  33.181084  "
            ]
          },
          "metadata": {
            "tags": []
          },
          "execution_count": 183
        }
      ]
    },
    {
      "metadata": {
        "id": "f174JyBRvfHo",
        "colab_type": "code",
        "colab": {
          "base_uri": "https://localhost:8080/",
          "height": 883
        },
        "outputId": "93366b2c-1338-4b5f-d650-c58e0900173b"
      },
      "cell_type": "code",
      "source": [
        "ab[ab.dtypes[(ab.dtypes==\"float64\")|(ab.dtypes==\"int64\")]\n",
        "                        .index.values].hist(figsize=[11,11])"
      ],
      "execution_count": 186,
      "outputs": [
        {
          "output_type": "execute_result",
          "data": {
            "text/plain": [
              "array([[<matplotlib.axes._subplots.AxesSubplot object at 0x7fec19999ef0>,\n",
              "        <matplotlib.axes._subplots.AxesSubplot object at 0x7fec194bab38>,\n",
              "        <matplotlib.axes._subplots.AxesSubplot object at 0x7fec1946b0f0>],\n",
              "       [<matplotlib.axes._subplots.AxesSubplot object at 0x7fec19491668>,\n",
              "        <matplotlib.axes._subplots.AxesSubplot object at 0x7fec19438be0>,\n",
              "        <matplotlib.axes._subplots.AxesSubplot object at 0x7fec193e9198>],\n",
              "       [<matplotlib.axes._subplots.AxesSubplot object at 0x7fec19410710>,\n",
              "        <matplotlib.axes._subplots.AxesSubplot object at 0x7fec193b9cc0>,\n",
              "        <matplotlib.axes._subplots.AxesSubplot object at 0x7fec193b9cf8>],\n",
              "       [<matplotlib.axes._subplots.AxesSubplot object at 0x7fec193927b8>,\n",
              "        <matplotlib.axes._subplots.AxesSubplot object at 0x7fec1933ad30>,\n",
              "        <matplotlib.axes._subplots.AxesSubplot object at 0x7fec192e92e8>]],\n",
              "      dtype=object)"
            ]
          },
          "metadata": {
            "tags": []
          },
          "execution_count": 186
        },
        {
          "output_type": "display_data",
          "data": {
            "image/png": "[encoded data removed]",
            "text/plain": [
              "<Figure size 792x792 with 12 Axes>"
            ]
          },
          "metadata": {
            "tags": []
          }
        }
      ]
    },
    {
      "metadata": {
        "id": "GLNAQD7WKjXw",
        "colab_type": "code",
        "colab": {}
      },
      "cell_type": "code",
      "source": [
        "from scipy import stats\n",
        "import sklearn.preprocessing as prp\n",
        "df=ab\n",
        "\n",
        "std_scale = prp.StandardScaler().fit(df[['mclinwt',\t'height',\t'mbmi',\t'meanwst',\t'meanumb', 'GENDER',\t'age',\t'race','ETHNIC',\t'TRUNKFAT',\t'fm',\t'ffm'\t]])\n",
        "df_std = std_scale.transform(df[['mclinwt',\t'height',\t'mbmi',\t'meanwst',\t'meanumb', 'GENDER',\t'age',\t'race','ETHNIC',\t'TRUNKFAT',\t'fm',\t'ffm'\t]])\n",
        "minmax_scale = prp.MinMaxScaler().fit(df[['mclinwt',\t'height',\t'mbmi',\t'meanwst',\t'meanumb', 'GENDER',\t'age',\t'race', 'ETHNIC',\t'TRUNKFAT',\t'fm',\t'ffm'\t]])\n",
        "df_minmax = minmax_scale.transform(df[['mclinwt',\t'height',\t'mbmi',\t'meanwst',\t'meanumb', 'GENDER',\t'age',\t'race','ETHNIC',\t'TRUNKFAT',\t'fm',\t'ffm'\t]])\n",
        "\n"
      ],
      "execution_count": 0,
      "outputs": []
    },
    {
      "metadata": {
        "id": "Ilm8eY4WQOmJ",
        "colab_type": "code",
        "colab": {}
      },
      "cell_type": "code",
      "source": [
        "from matplotlib import pyplot as plt\n",
        "\n",
        "def plot(A,B,x,y):\n",
        "    plt.figure(figsize=(8,6))\n",
        "\n",
        "    plt.scatter(df[A], df[B],\n",
        "            color='green', label='input scale', alpha=0.5)\n",
        "\n",
        "    plt.scatter(df_std[:,x], df_std[:,y], color='red',\n",
        "            label='Standardized mu=0, sigma=1', alpha=0.3)\n",
        "\n",
        "    plt.scatter(df_minmax[:,x], df_minmax[:,y],\n",
        "            color='blue', label='min-max scaled [min=0, max=1]', alpha=0.3)\n",
        "\n",
        "    plt.title(f'{A} vs {B}')\n",
        "    plt.xlabel(A)\n",
        "    plt.ylabel(B)\n",
        "    plt.legend(loc='upper left')\n",
        "    plt.grid()\n",
        "\n",
        "    plt.tight_layout()\n",
        "\n",
        "plot('ETHNIC','TRUNKFAT', 8, 9)\n",
        "plt.show()"
      ],
      "execution_count": 0,
      "outputs": []
    },
    {
      "metadata": {
        "id": "a9_j_3GgcXKF",
        "colab_type": "code",
        "colab": {}
      },
      "cell_type": "code",
      "source": [
        ""
      ],
      "execution_count": 0,
      "outputs": []
    },
    {
      "metadata": {
        "id": "fPMmoWZQWdI-",
        "colab_type": "code",
        "colab": {}
      },
      "cell_type": "code",
      "source": [
        "import numpy as np\n",
        "\n",
        "dataset = df_std\n",
        "np.set_printoptions(formatter={'float': lambda x: \"{0:0.2f}\".format(x)})\n",
        "\n",
        "\n",
        "#print(dataset[:1,:])\n",
        "#X = nrm.normalize(dataset[:,], axis=0)\n",
        "#Y = nrm.scale(dataset)\n",
        "#print(Y[:1,:])\n",
        "\n"
      ],
      "execution_count": 0,
      "outputs": []
    },
    {
      "metadata": {
        "id": "vFlJrnAjRXDm",
        "colab_type": "code",
        "colab": {}
      },
      "cell_type": "code",
      "source": [
        "from keras.models import Sequential\n",
        "from keras.layers import Dense\n",
        "from sklearn.metrics import accuracy_score, precision_score, recall_score, f1_score\n",
        "import tensorflow as tf\n",
        "\n",
        "np.random.seed(19)"
      ],
      "execution_count": 0,
      "outputs": []
    },
    {
      "metadata": {
        "id": "YrviccNvRmsg",
        "colab_type": "code",
        "colab": {
          "base_uri": "https://localhost:8080/",
          "height": 34
        },
        "outputId": "37716c28-496d-4a27-80d9-c52847409f0f"
      },
      "cell_type": "code",
      "source": [
        "print(dataset.shape)\n"
      ],
      "execution_count": 118,
      "outputs": [
        {
          "output_type": "stream",
          "text": [
            "(1326, 11)\n"
          ],
          "name": "stdout"
        }
      ]
    },
    {
      "metadata": {
        "id": "XdME8Vn3URTh",
        "colab_type": "code",
        "colab": {
          "base_uri": "https://localhost:8080/",
          "height": 238
        },
        "outputId": "e2c84188-4784-4581-a0d0-b727a9f08b06"
      },
      "cell_type": "code",
      "source": [
        "X"
      ],
      "execution_count": 66,
      "outputs": [
        {
          "output_type": "execute_result",
          "data": {
            "text/plain": [
              "array([[0.02331023, 0.02583179, 0.02652179, ..., 0.02076139, 0.02287028,\n",
              "        0.02318549],\n",
              "       [0.02331023, 0.02583179, 0.02652179, ..., 0.02076139, 0.02287028,\n",
              "        0.02318549],\n",
              "       [0.02040876, 0.02398782, 0.02692776, ..., 0.0223073 , 0.02278259,\n",
              "        0.01887638],\n",
              "       ...,\n",
              "       [0.02754428, 0.02927603, 0.02439902, ..., 0.0232002 , 0.02394906,\n",
              "        0.02877238],\n",
              "       [0.02774778, 0.02927603, 0.02457928, ..., 0.02568658, 0.02510422,\n",
              "        0.02838265],\n",
              "       [0.02892281, 0.02927603, 0.02562013, ..., 0.03062689, 0.02851223,\n",
              "        0.02854761]])"
            ]
          },
          "metadata": {
            "tags": []
          },
          "execution_count": 66
        }
      ]
    },
    {
      "metadata": {
        "id": "QM_RUuE-SoBs",
        "colab_type": "code",
        "colab": {
          "base_uri": "https://localhost:8080/",
          "height": 214
        },
        "outputId": "3e0e4717-d17a-4de0-b7bc-6ecd60b005fc"
      },
      "cell_type": "code",
      "source": [
        "XTRAIN = dataset[:795,0:8]\n",
        "YTRAIN = dataset[:795,8:]\n",
        "XVALIDATION = dataset[795:,0:8]\n",
        "YVALIDATION = dataset[795:,8:]\n",
        "\n"
      ],
      "execution_count": 140,
      "outputs": [
        {
          "output_type": "error",
          "ename": "AttributeError",
          "evalue": "ignored",
          "traceback": [
            "\u001b[0;31m---------------------------------------------------------------------------\u001b[0m",
            "\u001b[0;31mAttributeError\u001b[0m                            Traceback (most recent call last)",
            "\u001b[0;32m<ipython-input-140-5040c9b450aa>\u001b[0m in \u001b[0;36m<module>\u001b[0;34m()\u001b[0m\n\u001b[1;32m      4\u001b[0m \u001b[0mYVALIDATION\u001b[0m \u001b[0;34m=\u001b[0m \u001b[0mdataset\u001b[0m\u001b[0;34m[\u001b[0m\u001b[0;36m795\u001b[0m\u001b[0;34m:\u001b[0m\u001b[0;34m,\u001b[0m\u001b[0;36m8\u001b[0m\u001b[0;34m:\u001b[0m\u001b[0;34m]\u001b[0m\u001b[0;34m\u001b[0m\u001b[0;34m\u001b[0m\u001b[0m\n\u001b[1;32m      5\u001b[0m \u001b[0;34m\u001b[0m\u001b[0m\n\u001b[0;32m----> 6\u001b[0;31m XTRAIN[XTRAIN.dtypes[(XTRAIN.dtypes==\"float64\")|(XTRAIN.dtypes==\"int64\")]\n\u001b[0m\u001b[1;32m      7\u001b[0m                         .index.values].hist(figsize=[11,11])\n",
            "\u001b[0;31mAttributeError\u001b[0m: 'numpy.ndarray' object has no attribute 'dtypes'"
          ]
        }
      ]
    },
    {
      "metadata": {
        "id": "xJXbOkABS3GQ",
        "colab_type": "code",
        "colab": {
          "base_uri": "https://localhost:8080/",
          "height": 221
        },
        "outputId": "8bb635fb-84f6-4e4c-b25c-c947c7a3ff58"
      },
      "cell_type": "code",
      "source": [
        "print(XTRAIN.shape)\n",
        "print(YTRAIN.shape)\n",
        "print(XVALIDATION.shape)\n",
        "print(YVALIDATION.shape)\n",
        "print(XTRAIN[0:2,])\n",
        "print(YTRAIN[0:2])\n",
        "print(XVALIDATION[0:2,])\n",
        "print(YVALIDATION[0:2])"
      ],
      "execution_count": 120,
      "outputs": [
        {
          "output_type": "stream",
          "text": [
            "(795, 8)\n",
            "(795, 3)\n",
            "(531, 8)\n",
            "(531, 3)\n",
            "[[-1.00 -1.15 -0.34 -0.80 -0.51 -0.67 -1.49 -0.51]\n",
            " [-1.00 -1.15 -0.34 -0.80 -0.51 -0.67 -1.49 -0.51]]\n",
            "[[-0.71 -0.57 -0.75]\n",
            " [-0.71 -0.57 -0.75]]\n",
            "[[-1.01 -1.06 -0.45 -0.64 -0.40 -0.67 0.58 2.38]\n",
            " [-1.01 -1.06 -0.44 -0.58 -0.45 -0.67 0.58 2.38]]\n",
            "[[-0.28 -0.14 -0.99]\n",
            " [-0.29 -0.08 -1.03]]\n"
          ],
          "name": "stdout"
        }
      ]
    },
    {
      "metadata": {
        "id": "9dFtEtqefoEy",
        "colab_type": "code",
        "colab": {
          "base_uri": "https://localhost:8080/",
          "height": 255
        },
        "outputId": "f8c83449-2c0d-49ef-8afa-9437116928c3"
      },
      "cell_type": "code",
      "source": [
        "model = Sequential()\n",
        "model.add(Dense(12, input_dim=8, activation='relu'))\n",
        "model.add(Dense(8, activation='relu'))\n",
        "model.add(Dense(3, activation='sigmoid'))\n",
        "print(model.summary())"
      ],
      "execution_count": 121,
      "outputs": [
        {
          "output_type": "stream",
          "text": [
            "_________________________________________________________________\n",
            "Layer (type)                 Output Shape              Param #   \n",
            "=================================================================\n",
            "dense_28 (Dense)             (None, 12)                108       \n",
            "_________________________________________________________________\n",
            "dense_29 (Dense)             (None, 8)                 104       \n",
            "_________________________________________________________________\n",
            "dense_30 (Dense)             (None, 3)                 27        \n",
            "=================================================================\n",
            "Total params: 239\n",
            "Trainable params: 239\n",
            "Non-trainable params: 0\n",
            "_________________________________________________________________\n",
            "None\n"
          ],
          "name": "stdout"
        }
      ]
    },
    {
      "metadata": {
        "id": "0uKKI668funB",
        "colab_type": "code",
        "colab": {}
      },
      "cell_type": "code",
      "source": [
        "model.compile(loss='mse', optimizer='adam', metrics=['accuracy','mse'])"
      ],
      "execution_count": 0,
      "outputs": []
    },
    {
      "metadata": {
        "id": "CY0m6PMHfwAI",
        "colab_type": "code",
        "colab": {
          "base_uri": "https://localhost:8080/",
          "height": 1122
        },
        "outputId": "81cf407f-4056-46ee-8182-bf1214aeab99"
      },
      "cell_type": "code",
      "source": [
        "model.fit(XTRAIN, YTRAIN, epochs=32, batch_size=128)"
      ],
      "execution_count": 126,
      "outputs": [
        {
          "output_type": "stream",
          "text": [
            "Epoch 1/32\n",
            "795/795 [==============================] - 0s 626us/step - loss: 1.0212 - acc: 0.3585 - mean_squared_error: 1.0212\n",
            "Epoch 2/32\n",
            "795/795 [==============================] - 0s 20us/step - loss: 1.0056 - acc: 0.3736 - mean_squared_error: 1.0056\n",
            "Epoch 3/32\n",
            "795/795 [==============================] - 0s 17us/step - loss: 0.9897 - acc: 0.3711 - mean_squared_error: 0.9897\n",
            "Epoch 4/32\n",
            "795/795 [==============================] - 0s 15us/step - loss: 0.9749 - acc: 0.3748 - mean_squared_error: 0.9749\n",
            "Epoch 5/32\n",
            "795/795 [==============================] - 0s 15us/step - loss: 0.9602 - acc: 0.3748 - mean_squared_error: 0.9602\n",
            "Epoch 6/32\n",
            "795/795 [==============================] - 0s 19us/step - loss: 0.9460 - acc: 0.3799 - mean_squared_error: 0.9460\n",
            "Epoch 7/32\n",
            "795/795 [==============================] - 0s 15us/step - loss: 0.9324 - acc: 0.3849 - mean_squared_error: 0.9324\n",
            "Epoch 8/32\n",
            "795/795 [==============================] - 0s 17us/step - loss: 0.9194 - acc: 0.3912 - mean_squared_error: 0.9194\n",
            "Epoch 9/32\n",
            "795/795 [==============================] - 0s 18us/step - loss: 0.9065 - acc: 0.4063 - mean_squared_error: 0.9065\n",
            "Epoch 10/32\n",
            "795/795 [==============================] - 0s 17us/step - loss: 0.8940 - acc: 0.4126 - mean_squared_error: 0.8940\n",
            "Epoch 11/32\n",
            "795/795 [==============================] - 0s 18us/step - loss: 0.8817 - acc: 0.4126 - mean_squared_error: 0.8817\n",
            "Epoch 12/32\n",
            "795/795 [==============================] - 0s 18us/step - loss: 0.8698 - acc: 0.4289 - mean_squared_error: 0.8698\n",
            "Epoch 13/32\n",
            "795/795 [==============================] - 0s 17us/step - loss: 0.8578 - acc: 0.4377 - mean_squared_error: 0.8578\n",
            "Epoch 14/32\n",
            "795/795 [==============================] - 0s 16us/step - loss: 0.8465 - acc: 0.4465 - mean_squared_error: 0.8465\n",
            "Epoch 15/32\n",
            "795/795 [==============================] - 0s 16us/step - loss: 0.8354 - acc: 0.4566 - mean_squared_error: 0.8354\n",
            "Epoch 16/32\n",
            "795/795 [==============================] - 0s 16us/step - loss: 0.8244 - acc: 0.4717 - mean_squared_error: 0.8244\n",
            "Epoch 17/32\n",
            "795/795 [==============================] - 0s 18us/step - loss: 0.8137 - acc: 0.4830 - mean_squared_error: 0.8137\n",
            "Epoch 18/32\n",
            "795/795 [==============================] - 0s 16us/step - loss: 0.8031 - acc: 0.5006 - mean_squared_error: 0.8031\n",
            "Epoch 19/32\n",
            "795/795 [==============================] - 0s 16us/step - loss: 0.7929 - acc: 0.5182 - mean_squared_error: 0.7929\n",
            "Epoch 20/32\n",
            "795/795 [==============================] - 0s 17us/step - loss: 0.7831 - acc: 0.5258 - mean_squared_error: 0.7831\n",
            "Epoch 21/32\n",
            "795/795 [==============================] - 0s 16us/step - loss: 0.7734 - acc: 0.5296 - mean_squared_error: 0.7734\n",
            "Epoch 22/32\n",
            "795/795 [==============================] - 0s 17us/step - loss: 0.7639 - acc: 0.5447 - mean_squared_error: 0.7639\n",
            "Epoch 23/32\n",
            "795/795 [==============================] - 0s 16us/step - loss: 0.7546 - acc: 0.5497 - mean_squared_error: 0.7546\n",
            "Epoch 24/32\n",
            "795/795 [==============================] - 0s 15us/step - loss: 0.7456 - acc: 0.5572 - mean_squared_error: 0.7456\n",
            "Epoch 25/32\n",
            "795/795 [==============================] - 0s 15us/step - loss: 0.7365 - acc: 0.5635 - mean_squared_error: 0.7365\n",
            "Epoch 26/32\n",
            "795/795 [==============================] - 0s 17us/step - loss: 0.7275 - acc: 0.5673 - mean_squared_error: 0.7275\n",
            "Epoch 27/32\n",
            "795/795 [==============================] - 0s 15us/step - loss: 0.7184 - acc: 0.5673 - mean_squared_error: 0.7184\n",
            "Epoch 28/32\n",
            "795/795 [==============================] - 0s 16us/step - loss: 0.7094 - acc: 0.5673 - mean_squared_error: 0.7094\n",
            "Epoch 29/32\n",
            "795/795 [==============================] - 0s 15us/step - loss: 0.7012 - acc: 0.5673 - mean_squared_error: 0.7012\n",
            "Epoch 30/32\n",
            "795/795 [==============================] - 0s 16us/step - loss: 0.6928 - acc: 0.5711 - mean_squared_error: 0.6928\n",
            "Epoch 31/32\n",
            "795/795 [==============================] - 0s 17us/step - loss: 0.6850 - acc: 0.5786 - mean_squared_error: 0.6850\n",
            "Epoch 32/32\n",
            "795/795 [==============================] - 0s 15us/step - loss: 0.6774 - acc: 0.5786 - mean_squared_error: 0.6774\n"
          ],
          "name": "stdout"
        },
        {
          "output_type": "execute_result",
          "data": {
            "text/plain": [
              "<keras.callbacks.History at 0x7fec1c9c6e80>"
            ]
          },
          "metadata": {
            "tags": []
          },
          "execution_count": 126
        }
      ]
    },
    {
      "metadata": {
        "id": "xKpkKsfPjVWY",
        "colab_type": "code",
        "colab": {
          "base_uri": "https://localhost:8080/",
          "height": 102
        },
        "outputId": "ccf9ed39-3ea7-41e6-d171-bbf731f8afb9"
      },
      "cell_type": "code",
      "source": [
        "scores = model.evaluate(XTRAIN, YTRAIN)\n",
        "print(model.metrics_names)\n",
        "print(scores)\n",
        "print(\"\\n%s: %.2f%%\" % (model.metrics_names[1], scores[1]*100))"
      ],
      "execution_count": 127,
      "outputs": [
        {
          "output_type": "stream",
          "text": [
            "795/795 [==============================] - 0s 237us/step\n",
            "['loss', 'acc', 'mean_squared_error']\n",
            "[0.6725214302164954, 0.5798742134241188, 0.6725214302164954]\n",
            "\n",
            "acc: 57.99%\n"
          ],
          "name": "stdout"
        }
      ]
    },
    {
      "metadata": {
        "id": "Ml4siFVQIUbN",
        "colab_type": "code",
        "colab": {
          "base_uri": "https://localhost:8080/",
          "height": 357
        },
        "outputId": "83886625-a021-495e-c185-540b2462f84d"
      },
      "cell_type": "code",
      "source": [
        ""
      ],
      "execution_count": 70,
      "outputs": [
        {
          "output_type": "error",
          "ename": "ValueError",
          "evalue": "ignored",
          "traceback": [
            "\u001b[0;31m---------------------------------------------------------------------------\u001b[0m",
            "\u001b[0;31mValueError\u001b[0m                                Traceback (most recent call last)",
            "\u001b[0;32m<ipython-input-70-200ad377e5f8>\u001b[0m in \u001b[0;36m<module>\u001b[0;34m()\u001b[0m\n\u001b[1;32m      2\u001b[0m \u001b[0;32mfrom\u001b[0m \u001b[0mmatplotlib\u001b[0m \u001b[0;32mimport\u001b[0m \u001b[0mpyplot\u001b[0m\u001b[0;34m\u001b[0m\u001b[0;34m\u001b[0m\u001b[0m\n\u001b[1;32m      3\u001b[0m \u001b[0mmodel\u001b[0m \u001b[0;34m=\u001b[0m \u001b[0mXGBClassifier\u001b[0m\u001b[0;34m(\u001b[0m\u001b[0;34m)\u001b[0m\u001b[0;34m\u001b[0m\u001b[0;34m\u001b[0m\u001b[0m\n\u001b[0;32m----> 4\u001b[0;31m \u001b[0mmodel\u001b[0m\u001b[0;34m.\u001b[0m\u001b[0mfit\u001b[0m\u001b[0;34m(\u001b[0m\u001b[0mXVALIDATION\u001b[0m\u001b[0;34m,\u001b[0m \u001b[0mYVALIDATION\u001b[0m\u001b[0;34m)\u001b[0m\u001b[0;34m\u001b[0m\u001b[0;34m\u001b[0m\u001b[0m\n\u001b[0m\u001b[1;32m      5\u001b[0m \u001b[0mprint\u001b[0m\u001b[0;34m(\u001b[0m\u001b[0mmodel\u001b[0m\u001b[0;34m.\u001b[0m\u001b[0mfeature_importances_\u001b[0m\u001b[0;34m)\u001b[0m\u001b[0;34m\u001b[0m\u001b[0;34m\u001b[0m\u001b[0m\n",
            "\u001b[0;32m/usr/local/lib/python3.6/dist-packages/xgboost/sklearn.py\u001b[0m in \u001b[0;36mfit\u001b[0;34m(self, X, y, sample_weight, eval_set, eval_metric, early_stopping_rounds, verbose, xgb_model, sample_weight_eval_set, callbacks)\u001b[0m\n\u001b[1;32m    679\u001b[0m                 \u001b[0mxgb_options\u001b[0m\u001b[0;34m.\u001b[0m\u001b[0mupdate\u001b[0m\u001b[0;34m(\u001b[0m\u001b[0;34m{\u001b[0m\u001b[0;34m\"eval_metric\"\u001b[0m\u001b[0;34m:\u001b[0m \u001b[0meval_metric\u001b[0m\u001b[0;34m}\u001b[0m\u001b[0;34m)\u001b[0m\u001b[0;34m\u001b[0m\u001b[0;34m\u001b[0m\u001b[0m\n\u001b[1;32m    680\u001b[0m \u001b[0;34m\u001b[0m\u001b[0m\n\u001b[0;32m--> 681\u001b[0;31m         \u001b[0mself\u001b[0m\u001b[0;34m.\u001b[0m\u001b[0m_le\u001b[0m \u001b[0;34m=\u001b[0m \u001b[0mXGBLabelEncoder\u001b[0m\u001b[0;34m(\u001b[0m\u001b[0;34m)\u001b[0m\u001b[0;34m.\u001b[0m\u001b[0mfit\u001b[0m\u001b[0;34m(\u001b[0m\u001b[0my\u001b[0m\u001b[0;34m)\u001b[0m\u001b[0;34m\u001b[0m\u001b[0;34m\u001b[0m\u001b[0m\n\u001b[0m\u001b[1;32m    682\u001b[0m         \u001b[0mtraining_labels\u001b[0m \u001b[0;34m=\u001b[0m \u001b[0mself\u001b[0m\u001b[0;34m.\u001b[0m\u001b[0m_le\u001b[0m\u001b[0;34m.\u001b[0m\u001b[0mtransform\u001b[0m\u001b[0;34m(\u001b[0m\u001b[0my\u001b[0m\u001b[0;34m)\u001b[0m\u001b[0;34m\u001b[0m\u001b[0;34m\u001b[0m\u001b[0m\n\u001b[1;32m    683\u001b[0m \u001b[0;34m\u001b[0m\u001b[0m\n",
            "\u001b[0;32m/usr/local/lib/python3.6/dist-packages/sklearn/preprocessing/label.py\u001b[0m in \u001b[0;36mfit\u001b[0;34m(self, y)\u001b[0m\n\u001b[1;32m    217\u001b[0m         \u001b[0mself\u001b[0m \u001b[0;34m:\u001b[0m \u001b[0mreturns\u001b[0m \u001b[0man\u001b[0m \u001b[0minstance\u001b[0m \u001b[0mof\u001b[0m \u001b[0mself\u001b[0m\u001b[0;34m.\u001b[0m\u001b[0;34m\u001b[0m\u001b[0;34m\u001b[0m\u001b[0m\n\u001b[1;32m    218\u001b[0m         \"\"\"\n\u001b[0;32m--> 219\u001b[0;31m         \u001b[0my\u001b[0m \u001b[0;34m=\u001b[0m \u001b[0mcolumn_or_1d\u001b[0m\u001b[0;34m(\u001b[0m\u001b[0my\u001b[0m\u001b[0;34m,\u001b[0m \u001b[0mwarn\u001b[0m\u001b[0;34m=\u001b[0m\u001b[0;32mTrue\u001b[0m\u001b[0;34m)\u001b[0m\u001b[0;34m\u001b[0m\u001b[0;34m\u001b[0m\u001b[0m\n\u001b[0m\u001b[1;32m    220\u001b[0m         \u001b[0mself\u001b[0m\u001b[0;34m.\u001b[0m\u001b[0mclasses_\u001b[0m \u001b[0;34m=\u001b[0m \u001b[0m_encode\u001b[0m\u001b[0;34m(\u001b[0m\u001b[0my\u001b[0m\u001b[0;34m)\u001b[0m\u001b[0;34m\u001b[0m\u001b[0;34m\u001b[0m\u001b[0m\n\u001b[1;32m    221\u001b[0m         \u001b[0;32mreturn\u001b[0m \u001b[0mself\u001b[0m\u001b[0;34m\u001b[0m\u001b[0;34m\u001b[0m\u001b[0m\n",
            "\u001b[0;32m/usr/local/lib/python3.6/dist-packages/sklearn/utils/validation.py\u001b[0m in \u001b[0;36mcolumn_or_1d\u001b[0;34m(y, warn)\u001b[0m\n\u001b[1;32m    795\u001b[0m         \u001b[0;32mreturn\u001b[0m \u001b[0mnp\u001b[0m\u001b[0;34m.\u001b[0m\u001b[0mravel\u001b[0m\u001b[0;34m(\u001b[0m\u001b[0my\u001b[0m\u001b[0;34m)\u001b[0m\u001b[0;34m\u001b[0m\u001b[0;34m\u001b[0m\u001b[0m\n\u001b[1;32m    796\u001b[0m \u001b[0;34m\u001b[0m\u001b[0m\n\u001b[0;32m--> 797\u001b[0;31m     \u001b[0;32mraise\u001b[0m \u001b[0mValueError\u001b[0m\u001b[0;34m(\u001b[0m\u001b[0;34m\"bad input shape {0}\"\u001b[0m\u001b[0;34m.\u001b[0m\u001b[0mformat\u001b[0m\u001b[0;34m(\u001b[0m\u001b[0mshape\u001b[0m\u001b[0;34m)\u001b[0m\u001b[0;34m)\u001b[0m\u001b[0;34m\u001b[0m\u001b[0;34m\u001b[0m\u001b[0m\n\u001b[0m\u001b[1;32m    798\u001b[0m \u001b[0;34m\u001b[0m\u001b[0m\n\u001b[1;32m    799\u001b[0m \u001b[0;34m\u001b[0m\u001b[0m\n",
            "\u001b[0;31mValueError\u001b[0m: bad input shape (531, 3)"
          ]
        }
      ]
    }
  ]
}