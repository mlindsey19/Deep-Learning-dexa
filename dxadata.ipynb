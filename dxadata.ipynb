{
  "nbformat": 4,
  "nbformat_minor": 0,
  "metadata": {
    "colab": {
      "name": "dxadata.ipynb",
      "version": "0.3.2",
      "provenance": [],
      "include_colab_link": true
    },
    "kernelspec": {
      "name": "python3",
      "display_name": "Python 3"
    },
    "accelerator": "GPU"
  },
  "cells": [
    {
      "cell_type": "markdown",
      "metadata": {
        "id": "view-in-github",
        "colab_type": "text"
      },
      "source": [
        "<a href=\"https://colab.research.google.com/github/mlindsey19/dxa/blob/master/dxadata.ipynb\" target=\"_parent\"><img src=\"https://colab.research.google.com/assets/colab-badge.svg\" alt=\"Open In Colab\"/></a>"
      ]
    },
    {
      "metadata": {
        "id": "xSK0IId6wWZb",
        "colab_type": "text"
      },
      "cell_type": "markdown",
      "source": [
        "* Data was selected mulitple spreadsheets matching de-Identification number.\n",
        "* Easy clinical mesuments along side dual energy X-ray absorptiometry (DXA).\n",
        "* The puposed is to preditct the more expesive DXA test with simple clinical mesurements.\n",
        "* Data was transposed to single speadshee and uploaded to CSV file on github.\n",
        "* Measurements are muiltiple 4 or 5 visits per patient with new DXA data for each visit.\n",
        "\n",
        "[data reference table](https://calerie.duke.edu/sites/calerie.duke.edu/files/calerie2_analysis_dataset_details_0.pdf)"
      ]
    },
    {
      "metadata": {
        "id": "Fh1-dUwaP8eT",
        "colab_type": "code",
        "outputId": "c4677d89-ab92-46d2-e16b-7877bccebdb6",
        "colab": {
          "base_uri": "https://localhost:8080/",
          "height": 389
        }
      },
      "cell_type": "code",
      "source": [
        "import pandas as pd\n",
        "\n",
        "url = 'https://raw.githubusercontent.com/mlindsey19/dxa/master/dxadl.csv?token=AIP6LNNC6IQE3JXDC6PVBWC42OT4Y'\n",
        "\n",
        "rdat = pd.read_csv(url)\n",
        "rdat.head()\n"
      ],
      "execution_count": 57,
      "outputs": [
        {
          "output_type": "execute_result",
          "data": {
            "text/html": [
              "<div>\n",
              "<style scoped>\n",
              "    .dataframe tbody tr th:only-of-type {\n",
              "        vertical-align: middle;\n",
              "    }\n",
              "\n",
              "    .dataframe tbody tr th {\n",
              "        vertical-align: top;\n",
              "    }\n",
              "\n",
              "    .dataframe thead th {\n",
              "        text-align: right;\n",
              "    }\n",
              "</style>\n",
              "<table border=\"1\" class=\"dataframe\">\n",
              "  <thead>\n",
              "    <tr style=\"text-align: right;\">\n",
              "      <th></th>\n",
              "      <th>deidnum visit</th>\n",
              "      <th>Unnamed: 1</th>\n",
              "      <th>mclinwt</th>\n",
              "      <th>height</th>\n",
              "      <th>mbmi</th>\n",
              "      <th>Unnamed: 5</th>\n",
              "      <th>deidnum visit.1</th>\n",
              "      <th>meanwst</th>\n",
              "      <th>meanumb</th>\n",
              "      <th>Unnamed: 9</th>\n",
              "      <th>...</th>\n",
              "      <th>Unnamed: 16</th>\n",
              "      <th>Unnamed: 17</th>\n",
              "      <th>age</th>\n",
              "      <th>race</th>\n",
              "      <th>Unnamed: 20</th>\n",
              "      <th>deidnum visit.2</th>\n",
              "      <th>Unnamed: 22</th>\n",
              "      <th>TRUNKFAT</th>\n",
              "      <th>fm</th>\n",
              "      <th>ffm</th>\n",
              "    </tr>\n",
              "  </thead>\n",
              "  <tbody>\n",
              "    <tr>\n",
              "      <th>0</th>\n",
              "      <td>60 SCR V1</td>\n",
              "      <td>NaN</td>\n",
              "      <td>77.6</td>\n",
              "      <td>173.90</td>\n",
              "      <td>25.66034891</td>\n",
              "      <td>NaN</td>\n",
              "      <td>903 Baseline</td>\n",
              "      <td>72.25</td>\n",
              "      <td>80.5</td>\n",
              "      <td>NaN</td>\n",
              "      <td>...</td>\n",
              "      <td>NaN</td>\n",
              "      <td>NaN</td>\n",
              "      <td>47.0</td>\n",
              "      <td>Black or African American</td>\n",
              "      <td>NaN</td>\n",
              "      <td>903 Baseline</td>\n",
              "      <td>NaN</td>\n",
              "      <td>7.367624579</td>\n",
              "      <td>18.52068867</td>\n",
              "      <td>40.77931133</td>\n",
              "    </tr>\n",
              "    <tr>\n",
              "      <th>1</th>\n",
              "      <td>231 SCR V1</td>\n",
              "      <td>NaN</td>\n",
              "      <td>78.9</td>\n",
              "      <td>177.80</td>\n",
              "      <td>24.95821318</td>\n",
              "      <td>NaN</td>\n",
              "      <td>903 BL Sub 1</td>\n",
              "      <td>72.25</td>\n",
              "      <td>80.5</td>\n",
              "      <td>NaN</td>\n",
              "      <td>...</td>\n",
              "      <td>NaN</td>\n",
              "      <td>NaN</td>\n",
              "      <td>26.0</td>\n",
              "      <td>White</td>\n",
              "      <td>NaN</td>\n",
              "      <td>903 BL Sub 1</td>\n",
              "      <td>NaN</td>\n",
              "      <td>7.367624579</td>\n",
              "      <td>18.52068867</td>\n",
              "      <td>40.77931133</td>\n",
              "    </tr>\n",
              "    <tr>\n",
              "      <th>2</th>\n",
              "      <td>596 SCR V1</td>\n",
              "      <td>NaN</td>\n",
              "      <td>70.2</td>\n",
              "      <td>177.20</td>\n",
              "      <td>22.35680182</td>\n",
              "      <td>NaN</td>\n",
              "      <td>1057 Baseline</td>\n",
              "      <td>72.25</td>\n",
              "      <td>82.5</td>\n",
              "      <td>NaN</td>\n",
              "      <td>...</td>\n",
              "      <td>NaN</td>\n",
              "      <td>NaN</td>\n",
              "      <td>32.0</td>\n",
              "      <td>White</td>\n",
              "      <td>NaN</td>\n",
              "      <td>1057 Baseline</td>\n",
              "      <td>NaN</td>\n",
              "      <td>7.916222507</td>\n",
              "      <td>18.44967646</td>\n",
              "      <td>33.20032355</td>\n",
              "    </tr>\n",
              "    <tr>\n",
              "      <th>3</th>\n",
              "      <td>823 SCR V1</td>\n",
              "      <td>NaN</td>\n",
              "      <td>65.3</td>\n",
              "      <td>153.10</td>\n",
              "      <td>27.8588253</td>\n",
              "      <td>NaN</td>\n",
              "      <td>1057 BL Sub 1</td>\n",
              "      <td>72.25</td>\n",
              "      <td>86</td>\n",
              "      <td>NaN</td>\n",
              "      <td>...</td>\n",
              "      <td>NaN</td>\n",
              "      <td>NaN</td>\n",
              "      <td>21.0</td>\n",
              "      <td>Black or African American</td>\n",
              "      <td>NaN</td>\n",
              "      <td>1057 BL Sub 1</td>\n",
              "      <td>NaN</td>\n",
              "      <td>8.032587724</td>\n",
              "      <td>18.58043726</td>\n",
              "      <td>33.21956274</td>\n",
              "    </tr>\n",
              "    <tr>\n",
              "      <th>4</th>\n",
              "      <td>867 SCR V1</td>\n",
              "      <td>NaN</td>\n",
              "      <td>71.8</td>\n",
              "      <td>179.15</td>\n",
              "      <td>22.37127927</td>\n",
              "      <td>NaN</td>\n",
              "      <td>1057 BL Sub 2</td>\n",
              "      <td>72.25</td>\n",
              "      <td>79</td>\n",
              "      <td>NaN</td>\n",
              "      <td>...</td>\n",
              "      <td>NaN</td>\n",
              "      <td>NaN</td>\n",
              "      <td>26.0</td>\n",
              "      <td>White</td>\n",
              "      <td>NaN</td>\n",
              "      <td>1057 BL Sub 2</td>\n",
              "      <td>NaN</td>\n",
              "      <td>7.799857291</td>\n",
              "      <td>18.31891565</td>\n",
              "      <td>33.18108435</td>\n",
              "    </tr>\n",
              "  </tbody>\n",
              "</table>\n",
              "<p>5 rows × 26 columns</p>\n",
              "</div>"
            ],
            "text/plain": [
              "  deidnum visit  Unnamed: 1 mclinwt  height         mbmi  Unnamed: 5  \\\n",
              "0     60 SCR V1         NaN    77.6  173.90  25.66034891         NaN   \n",
              "1    231 SCR V1         NaN    78.9  177.80  24.95821318         NaN   \n",
              "2    596 SCR V1         NaN    70.2  177.20  22.35680182         NaN   \n",
              "3    823 SCR V1         NaN    65.3  153.10   27.8588253         NaN   \n",
              "4    867 SCR V1         NaN    71.8  179.15  22.37127927         NaN   \n",
              "\n",
              "  deidnum visit.1 meanwst meanumb  Unnamed: 9  ...  Unnamed: 16  Unnamed: 17  \\\n",
              "0    903 Baseline   72.25    80.5         NaN  ...          NaN          NaN   \n",
              "1    903 BL Sub 1   72.25    80.5         NaN  ...          NaN          NaN   \n",
              "2   1057 Baseline   72.25    82.5         NaN  ...          NaN          NaN   \n",
              "3   1057 BL Sub 1   72.25      86         NaN  ...          NaN          NaN   \n",
              "4   1057 BL Sub 2   72.25      79         NaN  ...          NaN          NaN   \n",
              "\n",
              "    age                       race Unnamed: 20  deidnum visit.2  Unnamed: 22  \\\n",
              "0  47.0  Black or African American         NaN     903 Baseline          NaN   \n",
              "1  26.0                      White         NaN     903 BL Sub 1          NaN   \n",
              "2  32.0                      White         NaN    1057 Baseline          NaN   \n",
              "3  21.0  Black or African American         NaN    1057 BL Sub 1          NaN   \n",
              "4  26.0                      White         NaN    1057 BL Sub 2          NaN   \n",
              "\n",
              "      TRUNKFAT           fm          ffm  \n",
              "0  7.367624579  18.52068867  40.77931133  \n",
              "1  7.367624579  18.52068867  40.77931133  \n",
              "2  7.916222507  18.44967646  33.20032355  \n",
              "3  8.032587724  18.58043726  33.21956274  \n",
              "4  7.799857291  18.31891565  33.18108435  \n",
              "\n",
              "[5 rows x 26 columns]"
            ]
          },
          "metadata": {
            "tags": []
          },
          "execution_count": 57
        }
      ]
    },
    {
      "metadata": {
        "id": "ZB1FGkF1xTXf",
        "colab_type": "text"
      },
      "cell_type": "markdown",
      "source": [
        "Separate and extract data: \n",
        "\n",
        "Hight, Weight and BMI calculation"
      ]
    },
    {
      "metadata": {
        "id": "nkTlncqai0bY",
        "colab_type": "code",
        "outputId": "fa336a6a-5ab2-4ab2-a3d4-5c6ec015b1be",
        "colab": {
          "base_uri": "https://localhost:8080/",
          "height": 204
        }
      },
      "cell_type": "code",
      "source": [
        "dat1 = pd.DataFrame()\n",
        "dat1 = rdat.iloc[0: , [0,2,3,4]]\n",
        "dat1.head()"
      ],
      "execution_count": 60,
      "outputs": [
        {
          "output_type": "execute_result",
          "data": {
            "text/html": [
              "<div>\n",
              "<style scoped>\n",
              "    .dataframe tbody tr th:only-of-type {\n",
              "        vertical-align: middle;\n",
              "    }\n",
              "\n",
              "    .dataframe tbody tr th {\n",
              "        vertical-align: top;\n",
              "    }\n",
              "\n",
              "    .dataframe thead th {\n",
              "        text-align: right;\n",
              "    }\n",
              "</style>\n",
              "<table border=\"1\" class=\"dataframe\">\n",
              "  <thead>\n",
              "    <tr style=\"text-align: right;\">\n",
              "      <th></th>\n",
              "      <th>deidnum visit</th>\n",
              "      <th>mclinwt</th>\n",
              "      <th>height</th>\n",
              "      <th>mbmi</th>\n",
              "    </tr>\n",
              "  </thead>\n",
              "  <tbody>\n",
              "    <tr>\n",
              "      <th>0</th>\n",
              "      <td>60 SCR V1</td>\n",
              "      <td>77.6</td>\n",
              "      <td>173.90</td>\n",
              "      <td>25.66034891</td>\n",
              "    </tr>\n",
              "    <tr>\n",
              "      <th>1</th>\n",
              "      <td>231 SCR V1</td>\n",
              "      <td>78.9</td>\n",
              "      <td>177.80</td>\n",
              "      <td>24.95821318</td>\n",
              "    </tr>\n",
              "    <tr>\n",
              "      <th>2</th>\n",
              "      <td>596 SCR V1</td>\n",
              "      <td>70.2</td>\n",
              "      <td>177.20</td>\n",
              "      <td>22.35680182</td>\n",
              "    </tr>\n",
              "    <tr>\n",
              "      <th>3</th>\n",
              "      <td>823 SCR V1</td>\n",
              "      <td>65.3</td>\n",
              "      <td>153.10</td>\n",
              "      <td>27.8588253</td>\n",
              "    </tr>\n",
              "    <tr>\n",
              "      <th>4</th>\n",
              "      <td>867 SCR V1</td>\n",
              "      <td>71.8</td>\n",
              "      <td>179.15</td>\n",
              "      <td>22.37127927</td>\n",
              "    </tr>\n",
              "  </tbody>\n",
              "</table>\n",
              "</div>"
            ],
            "text/plain": [
              "  deidnum visit mclinwt  height         mbmi\n",
              "0     60 SCR V1    77.6  173.90  25.66034891\n",
              "1    231 SCR V1    78.9  177.80  24.95821318\n",
              "2    596 SCR V1    70.2  177.20  22.35680182\n",
              "3    823 SCR V1    65.3  153.10   27.8588253\n",
              "4    867 SCR V1    71.8  179.15  22.37127927"
            ]
          },
          "metadata": {
            "tags": []
          },
          "execution_count": 60
        }
      ]
    },
    {
      "metadata": {
        "id": "4QUtq86Bfa48",
        "colab_type": "text"
      },
      "cell_type": "markdown",
      "source": [
        "* Mean of the 2 closest natural waist measurements\n",
        "* Mean of the 2 closest umbilical waist measurements"
      ]
    },
    {
      "metadata": {
        "id": "qKifEATW3CJJ",
        "colab_type": "code",
        "outputId": "da41ebb0-06ee-4353-919a-0c6e681f775c",
        "colab": {
          "base_uri": "https://localhost:8080/",
          "height": 204
        }
      },
      "cell_type": "code",
      "source": [
        "dat2 = pd.DataFrame()\n",
        "dat2 = rdat.iloc[0: , 6 : 9]\n",
        "dat2.head()"
      ],
      "execution_count": 61,
      "outputs": [
        {
          "output_type": "execute_result",
          "data": {
            "text/html": [
              "<div>\n",
              "<style scoped>\n",
              "    .dataframe tbody tr th:only-of-type {\n",
              "        vertical-align: middle;\n",
              "    }\n",
              "\n",
              "    .dataframe tbody tr th {\n",
              "        vertical-align: top;\n",
              "    }\n",
              "\n",
              "    .dataframe thead th {\n",
              "        text-align: right;\n",
              "    }\n",
              "</style>\n",
              "<table border=\"1\" class=\"dataframe\">\n",
              "  <thead>\n",
              "    <tr style=\"text-align: right;\">\n",
              "      <th></th>\n",
              "      <th>deidnum visit.1</th>\n",
              "      <th>meanwst</th>\n",
              "      <th>meanumb</th>\n",
              "    </tr>\n",
              "  </thead>\n",
              "  <tbody>\n",
              "    <tr>\n",
              "      <th>0</th>\n",
              "      <td>903 Baseline</td>\n",
              "      <td>72.25</td>\n",
              "      <td>80.5</td>\n",
              "    </tr>\n",
              "    <tr>\n",
              "      <th>1</th>\n",
              "      <td>903 BL Sub 1</td>\n",
              "      <td>72.25</td>\n",
              "      <td>80.5</td>\n",
              "    </tr>\n",
              "    <tr>\n",
              "      <th>2</th>\n",
              "      <td>1057 Baseline</td>\n",
              "      <td>72.25</td>\n",
              "      <td>82.5</td>\n",
              "    </tr>\n",
              "    <tr>\n",
              "      <th>3</th>\n",
              "      <td>1057 BL Sub 1</td>\n",
              "      <td>72.25</td>\n",
              "      <td>86</td>\n",
              "    </tr>\n",
              "    <tr>\n",
              "      <th>4</th>\n",
              "      <td>1057 BL Sub 2</td>\n",
              "      <td>72.25</td>\n",
              "      <td>79</td>\n",
              "    </tr>\n",
              "  </tbody>\n",
              "</table>\n",
              "</div>"
            ],
            "text/plain": [
              "  deidnum visit.1 meanwst meanumb\n",
              "0    903 Baseline   72.25    80.5\n",
              "1    903 BL Sub 1   72.25    80.5\n",
              "2   1057 Baseline   72.25    82.5\n",
              "3   1057 BL Sub 1   72.25      86\n",
              "4   1057 BL Sub 2   72.25      79"
            ]
          },
          "metadata": {
            "tags": []
          },
          "execution_count": 61
        }
      ]
    },
    {
      "metadata": {
        "id": "RgzAin_jivrx",
        "colab_type": "text"
      },
      "cell_type": "markdown",
      "source": [
        "* gender/age/race/ethinicy"
      ]
    },
    {
      "metadata": {
        "id": "pTRo9EHM21zv",
        "colab_type": "code",
        "outputId": "653b154e-737b-4258-aa21-e395a5c7cb61",
        "colab": {
          "base_uri": "https://localhost:8080/",
          "height": 204
        }
      },
      "cell_type": "code",
      "source": [
        "dat3 = pd.DataFrame()\n",
        "dat3 = rdat.iloc[0: , [11, 13, 14, 18, 19]]\n",
        "dat3.head()"
      ],
      "execution_count": 62,
      "outputs": [
        {
          "output_type": "execute_result",
          "data": {
            "text/html": [
              "<div>\n",
              "<style scoped>\n",
              "    .dataframe tbody tr th:only-of-type {\n",
              "        vertical-align: middle;\n",
              "    }\n",
              "\n",
              "    .dataframe tbody tr th {\n",
              "        vertical-align: top;\n",
              "    }\n",
              "\n",
              "    .dataframe thead th {\n",
              "        text-align: right;\n",
              "    }\n",
              "</style>\n",
              "<table border=\"1\" class=\"dataframe\">\n",
              "  <thead>\n",
              "    <tr style=\"text-align: right;\">\n",
              "      <th></th>\n",
              "      <th>deidnum</th>\n",
              "      <th>GENDER</th>\n",
              "      <th>ETHNIC</th>\n",
              "      <th>age</th>\n",
              "      <th>race</th>\n",
              "    </tr>\n",
              "  </thead>\n",
              "  <tbody>\n",
              "    <tr>\n",
              "      <th>0</th>\n",
              "      <td>60.0</td>\n",
              "      <td>Male</td>\n",
              "      <td>Not Hispanic or Latino</td>\n",
              "      <td>47.0</td>\n",
              "      <td>Black or African American</td>\n",
              "    </tr>\n",
              "    <tr>\n",
              "      <th>1</th>\n",
              "      <td>231.0</td>\n",
              "      <td>Male</td>\n",
              "      <td>Not Hispanic or Latino</td>\n",
              "      <td>26.0</td>\n",
              "      <td>White</td>\n",
              "    </tr>\n",
              "    <tr>\n",
              "      <th>2</th>\n",
              "      <td>596.0</td>\n",
              "      <td>Male</td>\n",
              "      <td>Not Hispanic or Latino</td>\n",
              "      <td>32.0</td>\n",
              "      <td>White</td>\n",
              "    </tr>\n",
              "    <tr>\n",
              "      <th>3</th>\n",
              "      <td>823.0</td>\n",
              "      <td>Female</td>\n",
              "      <td>Unknown (not reporting ethnicity</td>\n",
              "      <td>21.0</td>\n",
              "      <td>Black or African American</td>\n",
              "    </tr>\n",
              "    <tr>\n",
              "      <th>4</th>\n",
              "      <td>867.0</td>\n",
              "      <td>Male</td>\n",
              "      <td>Not Hispanic or Latino</td>\n",
              "      <td>26.0</td>\n",
              "      <td>White</td>\n",
              "    </tr>\n",
              "  </tbody>\n",
              "</table>\n",
              "</div>"
            ],
            "text/plain": [
              "   deidnum  GENDER                            ETHNIC   age  \\\n",
              "0     60.0    Male            Not Hispanic or Latino  47.0   \n",
              "1    231.0    Male            Not Hispanic or Latino  26.0   \n",
              "2    596.0    Male            Not Hispanic or Latino  32.0   \n",
              "3    823.0  Female  Unknown (not reporting ethnicity  21.0   \n",
              "4    867.0    Male            Not Hispanic or Latino  26.0   \n",
              "\n",
              "                        race  \n",
              "0  Black or African American  \n",
              "1                      White  \n",
              "2                      White  \n",
              "3  Black or African American  \n",
              "4                      White  "
            ]
          },
          "metadata": {
            "tags": []
          },
          "execution_count": 62
        }
      ]
    },
    {
      "metadata": {
        "id": "BEimWVEqj5Mv",
        "colab_type": "text"
      },
      "cell_type": "markdown",
      "source": [
        "DXA (Dual-energy X-ray absorptiometry) is used to measure body composition: % body fat, fat mass (FM), fat free\n",
        "mass (FFM), bone mineral density (BMD), bone mineral content (BMC).\n"
      ]
    },
    {
      "metadata": {
        "id": "iZEpEXZe54pf",
        "colab_type": "code",
        "outputId": "48e3e129-ee02-4d5a-aee0-bebe024d15ed",
        "colab": {
          "base_uri": "https://localhost:8080/",
          "height": 204
        }
      },
      "cell_type": "code",
      "source": [
        "dat4 = pd.DataFrame()\n",
        "dat4 = rdat.iloc[0: , [21, 23, 24, 25]]\n",
        "dat4.head()"
      ],
      "execution_count": 63,
      "outputs": [
        {
          "output_type": "execute_result",
          "data": {
            "text/html": [
              "<div>\n",
              "<style scoped>\n",
              "    .dataframe tbody tr th:only-of-type {\n",
              "        vertical-align: middle;\n",
              "    }\n",
              "\n",
              "    .dataframe tbody tr th {\n",
              "        vertical-align: top;\n",
              "    }\n",
              "\n",
              "    .dataframe thead th {\n",
              "        text-align: right;\n",
              "    }\n",
              "</style>\n",
              "<table border=\"1\" class=\"dataframe\">\n",
              "  <thead>\n",
              "    <tr style=\"text-align: right;\">\n",
              "      <th></th>\n",
              "      <th>deidnum visit.2</th>\n",
              "      <th>TRUNKFAT</th>\n",
              "      <th>fm</th>\n",
              "      <th>ffm</th>\n",
              "    </tr>\n",
              "  </thead>\n",
              "  <tbody>\n",
              "    <tr>\n",
              "      <th>0</th>\n",
              "      <td>903 Baseline</td>\n",
              "      <td>7.367624579</td>\n",
              "      <td>18.52068867</td>\n",
              "      <td>40.77931133</td>\n",
              "    </tr>\n",
              "    <tr>\n",
              "      <th>1</th>\n",
              "      <td>903 BL Sub 1</td>\n",
              "      <td>7.367624579</td>\n",
              "      <td>18.52068867</td>\n",
              "      <td>40.77931133</td>\n",
              "    </tr>\n",
              "    <tr>\n",
              "      <th>2</th>\n",
              "      <td>1057 Baseline</td>\n",
              "      <td>7.916222507</td>\n",
              "      <td>18.44967646</td>\n",
              "      <td>33.20032355</td>\n",
              "    </tr>\n",
              "    <tr>\n",
              "      <th>3</th>\n",
              "      <td>1057 BL Sub 1</td>\n",
              "      <td>8.032587724</td>\n",
              "      <td>18.58043726</td>\n",
              "      <td>33.21956274</td>\n",
              "    </tr>\n",
              "    <tr>\n",
              "      <th>4</th>\n",
              "      <td>1057 BL Sub 2</td>\n",
              "      <td>7.799857291</td>\n",
              "      <td>18.31891565</td>\n",
              "      <td>33.18108435</td>\n",
              "    </tr>\n",
              "  </tbody>\n",
              "</table>\n",
              "</div>"
            ],
            "text/plain": [
              "  deidnum visit.2     TRUNKFAT           fm          ffm\n",
              "0    903 Baseline  7.367624579  18.52068867  40.77931133\n",
              "1    903 BL Sub 1  7.367624579  18.52068867  40.77931133\n",
              "2   1057 Baseline  7.916222507  18.44967646  33.20032355\n",
              "3   1057 BL Sub 1  8.032587724  18.58043726  33.21956274\n",
              "4   1057 BL Sub 2  7.799857291  18.31891565  33.18108435"
            ]
          },
          "metadata": {
            "tags": []
          },
          "execution_count": 63
        }
      ]
    },
    {
      "metadata": {
        "id": "2vldCBZKlUA1",
        "colab_type": "code",
        "colab": {
          "base_uri": "https://localhost:8080/",
          "height": 289
        },
        "outputId": "a44267e0-7094-41bc-9886-f279b6279cbb"
      },
      "cell_type": "code",
      "source": [
        "cdat = pd.DataFrame()\n",
        "# merge data on combination of deidnum and visit (combined in speadsheet before upload to csv)\n",
        "cdat = pd.merge(dat1, dat2, left_on='deidnum visit', right_on='deidnum visit.1')\n",
        "cdat = pd.merge(cdat, dat4, left_on='deidnum visit', right_on='deidnum visit.2')\n",
        "#slpit deiednum from vist for merge with demographics\n",
        "new = cdat['deidnum visit.1'].str.split(n=1,expand=True)\n",
        "cc= pd.concat([new, cdat], axis=1)\n",
        "df = dat3.dropna(subset = ['deidnum'])\n",
        "df.loc['deidnum'] = df['deidnum'].apply(int) #slice error disregaurd\n",
        "cc[0] = cc[0].apply(int)\n",
        "aa = pd.merge(cc, df, left_on=0, right_on='deidnum' )\n",
        "\n",
        "aa = aa.drop(columns=['deidnum visit.2','deidnum visit.1', 'deidnum visit', 'deidnum']) \n",
        "#aa = aa.drop(columns=['ETHNIC']) \n",
        "bb = aa.drop(columns=[0, 1])\n",
        "\n",
        "bb.head()"
      ],
      "execution_count": 64,
      "outputs": [
        {
          "output_type": "stream",
          "text": [
            "/usr/local/lib/python3.6/dist-packages/ipykernel_launcher.py:9: SettingWithCopyWarning: \n",
            "A value is trying to be set on a copy of a slice from a DataFrame\n",
            "\n",
            "See the caveats in the documentation: http://pandas.pydata.org/pandas-docs/stable/indexing.html#indexing-view-versus-copy\n",
            "  if __name__ == '__main__':\n"
          ],
          "name": "stderr"
        },
        {
          "output_type": "execute_result",
          "data": {
            "text/html": [
              "<div>\n",
              "<style scoped>\n",
              "    .dataframe tbody tr th:only-of-type {\n",
              "        vertical-align: middle;\n",
              "    }\n",
              "\n",
              "    .dataframe tbody tr th {\n",
              "        vertical-align: top;\n",
              "    }\n",
              "\n",
              "    .dataframe thead th {\n",
              "        text-align: right;\n",
              "    }\n",
              "</style>\n",
              "<table border=\"1\" class=\"dataframe\">\n",
              "  <thead>\n",
              "    <tr style=\"text-align: right;\">\n",
              "      <th></th>\n",
              "      <th>mclinwt</th>\n",
              "      <th>height</th>\n",
              "      <th>mbmi</th>\n",
              "      <th>meanwst</th>\n",
              "      <th>meanumb</th>\n",
              "      <th>TRUNKFAT</th>\n",
              "      <th>fm</th>\n",
              "      <th>ffm</th>\n",
              "      <th>GENDER</th>\n",
              "      <th>ETHNIC</th>\n",
              "      <th>age</th>\n",
              "      <th>race</th>\n",
              "    </tr>\n",
              "  </thead>\n",
              "  <tbody>\n",
              "    <tr>\n",
              "      <th>0</th>\n",
              "      <td>59.18333333</td>\n",
              "      <td>159.00</td>\n",
              "      <td>23.41020266</td>\n",
              "      <td>72.25</td>\n",
              "      <td>80.5</td>\n",
              "      <td>7.367624579</td>\n",
              "      <td>18.52068867</td>\n",
              "      <td>40.77931133</td>\n",
              "      <td>Female</td>\n",
              "      <td>Not Hispanic or Latino</td>\n",
              "      <td>27.0</td>\n",
              "      <td>White</td>\n",
              "    </tr>\n",
              "    <tr>\n",
              "      <th>1</th>\n",
              "      <td>59.18333333</td>\n",
              "      <td>159.00</td>\n",
              "      <td>23.41020266</td>\n",
              "      <td>72.25</td>\n",
              "      <td>80.5</td>\n",
              "      <td>7.367624579</td>\n",
              "      <td>18.52068867</td>\n",
              "      <td>40.77931133</td>\n",
              "      <td>Female</td>\n",
              "      <td>Not Hispanic or Latino</td>\n",
              "      <td>27.0</td>\n",
              "      <td>White</td>\n",
              "    </tr>\n",
              "    <tr>\n",
              "      <th>2</th>\n",
              "      <td>51.81666667</td>\n",
              "      <td>147.65</td>\n",
              "      <td>23.76854347</td>\n",
              "      <td>72.25</td>\n",
              "      <td>82.5</td>\n",
              "      <td>7.916222507</td>\n",
              "      <td>18.44967646</td>\n",
              "      <td>33.20032355</td>\n",
              "      <td>Female</td>\n",
              "      <td>Not Hispanic or Latino</td>\n",
              "      <td>42.0</td>\n",
              "      <td>Asian</td>\n",
              "    </tr>\n",
              "    <tr>\n",
              "      <th>3</th>\n",
              "      <td>51.86666667</td>\n",
              "      <td>147.65</td>\n",
              "      <td>23.7914787</td>\n",
              "      <td>72.25</td>\n",
              "      <td>86</td>\n",
              "      <td>8.032587724</td>\n",
              "      <td>18.58043726</td>\n",
              "      <td>33.21956274</td>\n",
              "      <td>Female</td>\n",
              "      <td>Not Hispanic or Latino</td>\n",
              "      <td>42.0</td>\n",
              "      <td>Asian</td>\n",
              "    </tr>\n",
              "    <tr>\n",
              "      <th>4</th>\n",
              "      <td>51.76666667</td>\n",
              "      <td>147.65</td>\n",
              "      <td>23.74560824</td>\n",
              "      <td>72.25</td>\n",
              "      <td>79</td>\n",
              "      <td>7.799857291</td>\n",
              "      <td>18.31891565</td>\n",
              "      <td>33.18108435</td>\n",
              "      <td>Female</td>\n",
              "      <td>Not Hispanic or Latino</td>\n",
              "      <td>42.0</td>\n",
              "      <td>Asian</td>\n",
              "    </tr>\n",
              "  </tbody>\n",
              "</table>\n",
              "</div>"
            ],
            "text/plain": [
              "       mclinwt  height         mbmi meanwst meanumb     TRUNKFAT           fm  \\\n",
              "0  59.18333333  159.00  23.41020266   72.25    80.5  7.367624579  18.52068867   \n",
              "1  59.18333333  159.00  23.41020266   72.25    80.5  7.367624579  18.52068867   \n",
              "2  51.81666667  147.65  23.76854347   72.25    82.5  7.916222507  18.44967646   \n",
              "3  51.86666667  147.65   23.7914787   72.25      86  8.032587724  18.58043726   \n",
              "4  51.76666667  147.65  23.74560824   72.25      79  7.799857291  18.31891565   \n",
              "\n",
              "           ffm  GENDER                  ETHNIC   age   race  \n",
              "0  40.77931133  Female  Not Hispanic or Latino  27.0  White  \n",
              "1  40.77931133  Female  Not Hispanic or Latino  27.0  White  \n",
              "2  33.20032355  Female  Not Hispanic or Latino  42.0  Asian  \n",
              "3  33.21956274  Female  Not Hispanic or Latino  42.0  Asian  \n",
              "4  33.18108435  Female  Not Hispanic or Latino  42.0  Asian  "
            ]
          },
          "metadata": {
            "tags": []
          },
          "execution_count": 64
        }
      ]
    },
    {
      "metadata": {
        "id": "2n6Te9V46ar2",
        "colab_type": "code",
        "colab": {}
      },
      "cell_type": "code",
      "source": [
        "#enumerate\n",
        "bb['race'],enum_race = bb['race'].factorize()\n",
        "bb['GENDER'],enum_GENDER = bb['GENDER'].factorize()\n",
        "bb['ETHNIC'],enum_ETHNIC = bb['ETHNIC'].factorize()\n",
        "map_enums = [ [ enum_race, bb['race'] ], [ enum_GENDER, bb['GENDER']], [ enum_ETHNIC, bb['ETHNIC']  ] ]"
      ],
      "execution_count": 0,
      "outputs": []
    },
    {
      "metadata": {
        "id": "hnd_5kV1sZvD",
        "colab_type": "code",
        "colab": {
          "base_uri": "https://localhost:8080/",
          "height": 255
        },
        "outputId": "5a5de79c-f336-4329-a0ce-3b60e9ed51ff"
      },
      "cell_type": "code",
      "source": [
        "for en in map_enums:\n",
        "  print(\"\\n\\nNumeric Representation : \", en[1].unique()) \n",
        "  print(\"Unique Values : \", en[0].unique()) "
      ],
      "execution_count": 66,
      "outputs": [
        {
          "output_type": "stream",
          "text": [
            "\n",
            "\n",
            "Numeric Representation :  [0 1 2 3]\n",
            "Unique Values :  Index(['White', 'Asian', 'Other', 'Black or African American'], dtype='object')\n",
            "\n",
            "\n",
            "Numeric Representation :  [0 1]\n",
            "Unique Values :  Index(['Female', 'Male'], dtype='object')\n",
            "\n",
            "\n",
            "Numeric Representation :  [0 1 2]\n",
            "Unique Values :  Index(['Not Hispanic or Latino', 'Hispanic or Latino',\n",
            "       'Unknown (not reporting ethnicity'],\n",
            "      dtype='object')\n"
          ],
          "name": "stdout"
        }
      ]
    },
    {
      "metadata": {
        "id": "PgdLmhXvgtdT",
        "colab_type": "code",
        "colab": {
          "base_uri": "https://localhost:8080/",
          "height": 258
        },
        "outputId": "397bb2cc-ab2b-42f9-b56c-5cc6847c750c"
      },
      "cell_type": "code",
      "source": [
        "#reorder and drop rows with \" \" in any value\n",
        "bb = bb[['mclinwt',\t'height',\t'mbmi',\t'meanwst',\t'meanumb', 'GENDER',\t'age',\t'race', 'ETHNIC',\t'TRUNKFAT',\t'fm',\t'ffm'\t]]\n",
        "bb =bb[bb['mclinwt'] != \" \"]\n",
        "bb =bb[bb['ETHNIC'] != \" \"]\n",
        "bb =bb[bb['height'] != \" \"]\n",
        "bb =bb[bb['mbmi'] != \" \"]\n",
        "bb =bb[bb['meanwst'] != \" \"]\n",
        "bb =bb[bb['meanumb'] != \" \"]\n",
        "bb =bb[bb['age'] != \" \"]\n",
        "bb =bb[bb['race'] != \" \"]\n",
        "bb =bb[bb['TRUNKFAT'] != \" \"]\n",
        "bb =bb[bb['fm'] != \" \"]\n",
        "bb =bb[bb['ffm'] != \" \"]\n",
        "ab = bb.apply(pd.to_numeric)\n",
        "ab.head()"
      ],
      "execution_count": 67,
      "outputs": [
        {
          "output_type": "stream",
          "text": [
            "/usr/local/lib/python3.6/dist-packages/pandas/core/ops.py:1649: FutureWarning: elementwise comparison failed; returning scalar instead, but in the future will perform elementwise comparison\n",
            "  result = method(y)\n"
          ],
          "name": "stderr"
        },
        {
          "output_type": "execute_result",
          "data": {
            "text/html": [
              "<div>\n",
              "<style scoped>\n",
              "    .dataframe tbody tr th:only-of-type {\n",
              "        vertical-align: middle;\n",
              "    }\n",
              "\n",
              "    .dataframe tbody tr th {\n",
              "        vertical-align: top;\n",
              "    }\n",
              "\n",
              "    .dataframe thead th {\n",
              "        text-align: right;\n",
              "    }\n",
              "</style>\n",
              "<table border=\"1\" class=\"dataframe\">\n",
              "  <thead>\n",
              "    <tr style=\"text-align: right;\">\n",
              "      <th></th>\n",
              "      <th>mclinwt</th>\n",
              "      <th>height</th>\n",
              "      <th>mbmi</th>\n",
              "      <th>meanwst</th>\n",
              "      <th>meanumb</th>\n",
              "      <th>GENDER</th>\n",
              "      <th>age</th>\n",
              "      <th>race</th>\n",
              "      <th>ETHNIC</th>\n",
              "      <th>TRUNKFAT</th>\n",
              "      <th>fm</th>\n",
              "      <th>ffm</th>\n",
              "    </tr>\n",
              "  </thead>\n",
              "  <tbody>\n",
              "    <tr>\n",
              "      <th>0</th>\n",
              "      <td>59.183333</td>\n",
              "      <td>159.00</td>\n",
              "      <td>23.410203</td>\n",
              "      <td>72.25</td>\n",
              "      <td>80.5</td>\n",
              "      <td>0</td>\n",
              "      <td>27.0</td>\n",
              "      <td>0</td>\n",
              "      <td>0</td>\n",
              "      <td>7.367625</td>\n",
              "      <td>18.520689</td>\n",
              "      <td>40.779311</td>\n",
              "    </tr>\n",
              "    <tr>\n",
              "      <th>1</th>\n",
              "      <td>59.183333</td>\n",
              "      <td>159.00</td>\n",
              "      <td>23.410203</td>\n",
              "      <td>72.25</td>\n",
              "      <td>80.5</td>\n",
              "      <td>0</td>\n",
              "      <td>27.0</td>\n",
              "      <td>0</td>\n",
              "      <td>0</td>\n",
              "      <td>7.367625</td>\n",
              "      <td>18.520689</td>\n",
              "      <td>40.779311</td>\n",
              "    </tr>\n",
              "    <tr>\n",
              "      <th>2</th>\n",
              "      <td>51.816667</td>\n",
              "      <td>147.65</td>\n",
              "      <td>23.768543</td>\n",
              "      <td>72.25</td>\n",
              "      <td>82.5</td>\n",
              "      <td>0</td>\n",
              "      <td>42.0</td>\n",
              "      <td>1</td>\n",
              "      <td>0</td>\n",
              "      <td>7.916223</td>\n",
              "      <td>18.449676</td>\n",
              "      <td>33.200324</td>\n",
              "    </tr>\n",
              "    <tr>\n",
              "      <th>3</th>\n",
              "      <td>51.866667</td>\n",
              "      <td>147.65</td>\n",
              "      <td>23.791479</td>\n",
              "      <td>72.25</td>\n",
              "      <td>86.0</td>\n",
              "      <td>0</td>\n",
              "      <td>42.0</td>\n",
              "      <td>1</td>\n",
              "      <td>0</td>\n",
              "      <td>8.032588</td>\n",
              "      <td>18.580437</td>\n",
              "      <td>33.219563</td>\n",
              "    </tr>\n",
              "    <tr>\n",
              "      <th>4</th>\n",
              "      <td>51.766667</td>\n",
              "      <td>147.65</td>\n",
              "      <td>23.745608</td>\n",
              "      <td>72.25</td>\n",
              "      <td>79.0</td>\n",
              "      <td>0</td>\n",
              "      <td>42.0</td>\n",
              "      <td>1</td>\n",
              "      <td>0</td>\n",
              "      <td>7.799857</td>\n",
              "      <td>18.318916</td>\n",
              "      <td>33.181084</td>\n",
              "    </tr>\n",
              "  </tbody>\n",
              "</table>\n",
              "</div>"
            ],
            "text/plain": [
              "     mclinwt  height       mbmi  meanwst  meanumb  GENDER   age  race  ETHNIC  \\\n",
              "0  59.183333  159.00  23.410203    72.25     80.5       0  27.0     0       0   \n",
              "1  59.183333  159.00  23.410203    72.25     80.5       0  27.0     0       0   \n",
              "2  51.816667  147.65  23.768543    72.25     82.5       0  42.0     1       0   \n",
              "3  51.866667  147.65  23.791479    72.25     86.0       0  42.0     1       0   \n",
              "4  51.766667  147.65  23.745608    72.25     79.0       0  42.0     1       0   \n",
              "\n",
              "   TRUNKFAT         fm        ffm  \n",
              "0  7.367625  18.520689  40.779311  \n",
              "1  7.367625  18.520689  40.779311  \n",
              "2  7.916223  18.449676  33.200324  \n",
              "3  8.032588  18.580437  33.219563  \n",
              "4  7.799857  18.318916  33.181084  "
            ]
          },
          "metadata": {
            "tags": []
          },
          "execution_count": 67
        }
      ]
    },
    {
      "metadata": {
        "id": "f174JyBRvfHo",
        "colab_type": "code",
        "colab": {
          "base_uri": "https://localhost:8080/",
          "height": 883
        },
        "outputId": "bc7a3bf1-ddc4-4c18-f0a6-0118a5f63d50"
      },
      "cell_type": "code",
      "source": [
        "ab[ab.dtypes[(ab.dtypes==\"float64\")|(ab.dtypes==\"int64\")]\n",
        "                        .index.values].hist(figsize=[11,11])"
      ],
      "execution_count": 68,
      "outputs": [
        {
          "output_type": "execute_result",
          "data": {
            "text/plain": [
              "array([[<matplotlib.axes._subplots.AxesSubplot object at 0x7fb85ddfe588>,\n",
              "        <matplotlib.axes._subplots.AxesSubplot object at 0x7fb85e2c1c50>,\n",
              "        <matplotlib.axes._subplots.AxesSubplot object at 0x7fb85ddc5710>],\n",
              "       [<matplotlib.axes._subplots.AxesSubplot object at 0x7fb85e29dc88>,\n",
              "        <matplotlib.axes._subplots.AxesSubplot object at 0x7fb85dd6e240>,\n",
              "        <matplotlib.axes._subplots.AxesSubplot object at 0x7fb85dd927b8>],\n",
              "       [<matplotlib.axes._subplots.AxesSubplot object at 0x7fb85dd35d30>,\n",
              "        <matplotlib.axes._subplots.AxesSubplot object at 0x7fb85dce5320>,\n",
              "        <matplotlib.axes._subplots.AxesSubplot object at 0x7fb85dce5358>],\n",
              "       [<matplotlib.axes._subplots.AxesSubplot object at 0x7fb85dcaedd8>,\n",
              "        <matplotlib.axes._subplots.AxesSubplot object at 0x7fb85dc5a390>,\n",
              "        <matplotlib.axes._subplots.AxesSubplot object at 0x7fb85dc7c908>]],\n",
              "      dtype=object)"
            ]
          },
          "metadata": {
            "tags": []
          },
          "execution_count": 68
        },
        {
          "output_type": "display_data",
          "data": {
            "image/png": "[encoded data removed]",
            "text/plain": [
              "<Figure size 792x792 with 12 Axes>"
            ]
          },
          "metadata": {
            "tags": []
          }
        }
      ]
    },
    {
      "metadata": {
        "id": "GLNAQD7WKjXw",
        "colab_type": "code",
        "colab": {
          "base_uri": "https://localhost:8080/",
          "height": 139
        },
        "outputId": "8c996253-f7e9-413f-9339-7dd92266792c"
      },
      "cell_type": "code",
      "source": [
        "from scipy import stats\n",
        "import sklearn.preprocessing as prp\n",
        "df=ab\n",
        "\n",
        "std_scale = prp.StandardScaler().fit(df[['mclinwt',\t'height',\t'mbmi',\t'meanwst',\t'meanumb', 'GENDER',\t'age',\t'race','ETHNIC',\t'TRUNKFAT',\t'fm',\t'ffm'\t]])\n",
        "df_std = std_scale.transform(df[['mclinwt',\t'height',\t'mbmi',\t'meanwst',\t'meanumb', 'GENDER',\t'age',\t'race','ETHNIC',\t'TRUNKFAT',\t'fm',\t'ffm'\t]])\n",
        "minmax_scale = prp.MinMaxScaler().fit(df[['mclinwt',\t'height',\t'mbmi',\t'meanwst',\t'meanumb', 'GENDER',\t'age',\t'race', 'ETHNIC',\t'TRUNKFAT',\t'fm',\t'ffm'\t]])\n",
        "df_minmax = minmax_scale.transform(df[['mclinwt',\t'height',\t'mbmi',\t'meanwst',\t'meanumb', 'GENDER',\t'age',\t'race','ETHNIC',\t'TRUNKFAT',\t'fm',\t'ffm'\t]])\n"
      ],
      "execution_count": 69,
      "outputs": [
        {
          "output_type": "stream",
          "text": [
            "/usr/local/lib/python3.6/dist-packages/sklearn/preprocessing/data.py:645: DataConversionWarning: Data with input dtype int64, float64 were all converted to float64 by StandardScaler.\n",
            "  return self.partial_fit(X, y)\n",
            "/usr/local/lib/python3.6/dist-packages/ipykernel_launcher.py:6: DataConversionWarning: Data with input dtype int64, float64 were all converted to float64 by StandardScaler.\n",
            "  \n",
            "/usr/local/lib/python3.6/dist-packages/sklearn/preprocessing/data.py:334: DataConversionWarning: Data with input dtype int64, float64 were all converted to float64 by MinMaxScaler.\n",
            "  return self.partial_fit(X, y)\n"
          ],
          "name": "stderr"
        }
      ]
    },
    {
      "metadata": {
        "id": "rixDR-lz0cSE",
        "colab_type": "text"
      },
      "cell_type": "markdown",
      "source": [
        "user plot to visualize at exact/standardized/normalized relationships"
      ]
    },
    {
      "metadata": {
        "id": "Ilm8eY4WQOmJ",
        "colab_type": "code",
        "colab": {
          "base_uri": "https://localhost:8080/",
          "height": 441
        },
        "outputId": "3614abad-893f-4553-9f73-5193aeb025b1"
      },
      "cell_type": "code",
      "source": [
        "from matplotlib import pyplot as plt\n",
        "\n",
        "def plot(A,B,x,y): #A,B -> keys; x,y -> index of A,B\n",
        "    plt.figure(figsize=(8,6))\n",
        "\n",
        "    plt.scatter(df[A], df[B],\n",
        "            color='green', label='input scale', alpha=0.5)\n",
        "\n",
        "    plt.scatter(df_std[:,x], df_std[:,y], color='red',\n",
        "            label='Standardized mu=0, sigma=1', alpha=0.3)\n",
        "\n",
        "    plt.scatter(df_minmax[:,x], df_minmax[:,y],\n",
        "            color='blue', label='min-max scaled [min=0, max=1]', alpha=0.3)\n",
        "\n",
        "    plt.title(f'{A} vs {B}')\n",
        "    plt.xlabel(A)\n",
        "    plt.ylabel(B)\n",
        "    plt.legend(loc='upper left')\n",
        "    plt.grid()\n",
        "\n",
        "    plt.tight_layout()\n",
        "\n",
        "plot('mbmi','TRUNKFAT', 2, 9)\n",
        "plt.show()\n"
      ],
      "execution_count": 70,
      "outputs": [
        {
          "output_type": "display_data",
          "data": {
            "image/png": "[encoded data removed]",
            "text/plain": [
              "<Figure size 576x432 with 1 Axes>"
            ]
          },
          "metadata": {
            "tags": []
          }
        }
      ]
    },
    {
      "metadata": {
        "id": "a9_j_3GgcXKF",
        "colab_type": "code",
        "colab": {
          "base_uri": "https://localhost:8080/",
          "height": 204
        },
        "outputId": "8d091200-c8b8-412b-ff45-10ac361d097e"
      },
      "cell_type": "code",
      "source": [
        "dz = df.copy()\n",
        "dz['TRUNKFAT'],dz['fm'],dz['ffm'] = df_minmax[:,9],df_minmax[:,10],df_minmax[:,11]\n",
        "dz['mclinwt'],dz['height'],dz['mbmi'] ,dz['meanwst'],dz['meanumb'] ,dz['age']= df_std[:,0],df_std[:,1],df_std[:,2],df_std[:,3],df_std[:,4],df_std[:,6]\n",
        "dz.head()"
      ],
      "execution_count": 20,
      "outputs": [
        {
          "output_type": "execute_result",
          "data": {
            "text/html": [
              "<div>\n",
              "<style scoped>\n",
              "    .dataframe tbody tr th:only-of-type {\n",
              "        vertical-align: middle;\n",
              "    }\n",
              "\n",
              "    .dataframe tbody tr th {\n",
              "        vertical-align: top;\n",
              "    }\n",
              "\n",
              "    .dataframe thead th {\n",
              "        text-align: right;\n",
              "    }\n",
              "</style>\n",
              "<table border=\"1\" class=\"dataframe\">\n",
              "  <thead>\n",
              "    <tr style=\"text-align: right;\">\n",
              "      <th></th>\n",
              "      <th>mclinwt</th>\n",
              "      <th>height</th>\n",
              "      <th>mbmi</th>\n",
              "      <th>meanwst</th>\n",
              "      <th>meanumb</th>\n",
              "      <th>GENDER</th>\n",
              "      <th>age</th>\n",
              "      <th>race</th>\n",
              "      <th>ETHNIC</th>\n",
              "      <th>TRUNKFAT</th>\n",
              "      <th>fm</th>\n",
              "      <th>ffm</th>\n",
              "    </tr>\n",
              "  </thead>\n",
              "  <tbody>\n",
              "    <tr>\n",
              "      <th>0</th>\n",
              "      <td>-1.004507</td>\n",
              "      <td>-1.148936</td>\n",
              "      <td>-0.335524</td>\n",
              "      <td>-0.79921</td>\n",
              "      <td>-0.510340</td>\n",
              "      <td>0</td>\n",
              "      <td>-1.490195</td>\n",
              "      <td>0</td>\n",
              "      <td>0</td>\n",
              "      <td>0.269392</td>\n",
              "      <td>0.331101</td>\n",
              "      <td>0.214854</td>\n",
              "    </tr>\n",
              "    <tr>\n",
              "      <th>1</th>\n",
              "      <td>-1.004507</td>\n",
              "      <td>-1.148936</td>\n",
              "      <td>-0.335524</td>\n",
              "      <td>-0.79921</td>\n",
              "      <td>-0.510340</td>\n",
              "      <td>0</td>\n",
              "      <td>-1.490195</td>\n",
              "      <td>0</td>\n",
              "      <td>0</td>\n",
              "      <td>0.269392</td>\n",
              "      <td>0.331101</td>\n",
              "      <td>0.214854</td>\n",
              "    </tr>\n",
              "    <tr>\n",
              "      <th>2</th>\n",
              "      <td>-1.755932</td>\n",
              "      <td>-2.477331</td>\n",
              "      <td>-0.171149</td>\n",
              "      <td>-0.79921</td>\n",
              "      <td>-0.257665</td>\n",
              "      <td>0</td>\n",
              "      <td>0.580070</td>\n",
              "      <td>1</td>\n",
              "      <td>0</td>\n",
              "      <td>0.302549</td>\n",
              "      <td>0.328796</td>\n",
              "      <td>0.051988</td>\n",
              "    </tr>\n",
              "    <tr>\n",
              "      <th>3</th>\n",
              "      <td>-1.750831</td>\n",
              "      <td>-2.477331</td>\n",
              "      <td>-0.160629</td>\n",
              "      <td>-0.79921</td>\n",
              "      <td>0.184516</td>\n",
              "      <td>0</td>\n",
              "      <td>0.580070</td>\n",
              "      <td>1</td>\n",
              "      <td>0</td>\n",
              "      <td>0.309582</td>\n",
              "      <td>0.333041</td>\n",
              "      <td>0.052402</td>\n",
              "    </tr>\n",
              "    <tr>\n",
              "      <th>4</th>\n",
              "      <td>-1.761032</td>\n",
              "      <td>-2.477331</td>\n",
              "      <td>-0.181670</td>\n",
              "      <td>-0.79921</td>\n",
              "      <td>-0.699846</td>\n",
              "      <td>0</td>\n",
              "      <td>0.580070</td>\n",
              "      <td>1</td>\n",
              "      <td>0</td>\n",
              "      <td>0.295516</td>\n",
              "      <td>0.324552</td>\n",
              "      <td>0.051575</td>\n",
              "    </tr>\n",
              "  </tbody>\n",
              "</table>\n",
              "</div>"
            ],
            "text/plain": [
              "    mclinwt    height      mbmi  meanwst   meanumb  GENDER       age  race  \\\n",
              "0 -1.004507 -1.148936 -0.335524 -0.79921 -0.510340       0 -1.490195     0   \n",
              "1 -1.004507 -1.148936 -0.335524 -0.79921 -0.510340       0 -1.490195     0   \n",
              "2 -1.755932 -2.477331 -0.171149 -0.79921 -0.257665       0  0.580070     1   \n",
              "3 -1.750831 -2.477331 -0.160629 -0.79921  0.184516       0  0.580070     1   \n",
              "4 -1.761032 -2.477331 -0.181670 -0.79921 -0.699846       0  0.580070     1   \n",
              "\n",
              "   ETHNIC  TRUNKFAT        fm       ffm  \n",
              "0       0  0.269392  0.331101  0.214854  \n",
              "1       0  0.269392  0.331101  0.214854  \n",
              "2       0  0.302549  0.328796  0.051988  \n",
              "3       0  0.309582  0.333041  0.052402  \n",
              "4       0  0.295516  0.324552  0.051575  "
            ]
          },
          "metadata": {
            "tags": []
          },
          "execution_count": 20
        }
      ]
    },
    {
      "metadata": {
        "id": "fPMmoWZQWdI-",
        "colab_type": "code",
        "colab": {}
      },
      "cell_type": "code",
      "source": [
        "import numpy as np\n",
        "\n",
        "dataset = dz.to_numpy()\n",
        "np.set_printoptions(formatter={'float': lambda x: \"{0:0.2f}\".format(x)})\n",
        "\n",
        "\n",
        "#print(dataset[:1,:])\n",
        "#X = nrm.normalize(dataset[:,], axis=0)\n",
        "#Y = nrm.scale(dataset)\n",
        "#print(Y[:1,:])\n",
        "\n"
      ],
      "execution_count": 0,
      "outputs": []
    },
    {
      "metadata": {
        "id": "vFlJrnAjRXDm",
        "colab_type": "code",
        "colab": {}
      },
      "cell_type": "code",
      "source": [
        "from keras.models import Sequential\n",
        "from keras.layers import Dense\n",
        "from sklearn.metrics import r2_score\n",
        "import tensorflow as tf\n",
        "\n",
        "np.random.seed(19)"
      ],
      "execution_count": 0,
      "outputs": []
    },
    {
      "metadata": {
        "id": "YrviccNvRmsg",
        "colab_type": "code",
        "colab": {
          "base_uri": "https://localhost:8080/",
          "height": 34
        },
        "outputId": "553e8111-ce6e-45d0-df0b-cd19d02aca25"
      },
      "cell_type": "code",
      "source": [
        "print(dataset.shape)\n"
      ],
      "execution_count": 73,
      "outputs": [
        {
          "output_type": "stream",
          "text": [
            "(1326, 12)\n"
          ],
          "name": "stdout"
        }
      ]
    },
    {
      "metadata": {
        "id": "QM_RUuE-SoBs",
        "colab_type": "code",
        "colab": {
          "base_uri": "https://localhost:8080/",
          "height": 221
        },
        "outputId": "49ae40cf-7c41-4ad1-e2c3-71b46038dcfd"
      },
      "cell_type": "code",
      "source": [
        "XTRAIN = dataset[:795,0:9]\n",
        "YTRAIN = dataset[:795,9:]\n",
        "XVALIDATION = dataset[795:,0:9]\n",
        "YVALIDATION = dataset[795:,9:]\n",
        "print(XTRAIN.shape)\n",
        "print(YTRAIN.shape)\n",
        "print(XVALIDATION.shape)\n",
        "print(YVALIDATION.shape)\n",
        "print(XTRAIN[0:2,])\n",
        "print(YTRAIN[0:2])\n",
        "print(XVALIDATION[0:2,])\n",
        "print(YVALIDATION[0:2])\n"
      ],
      "execution_count": 74,
      "outputs": [
        {
          "output_type": "stream",
          "text": [
            "(795, 9)\n",
            "(795, 3)\n",
            "(531, 9)\n",
            "(531, 3)\n",
            "[[-1.00 -1.15 -0.34 -0.80 -0.51 0.00 -1.49 0.00 0.00]\n",
            " [-1.00 -1.15 -0.34 -0.80 -0.51 0.00 -1.49 0.00 0.00]]\n",
            "[[0.27 0.33 0.21]\n",
            " [0.27 0.33 0.21]]\n",
            "[[-1.01 -1.06 -0.45 -0.64 -0.40 0.00 0.58 3.00 0.00]\n",
            " [-1.01 -1.06 -0.44 -0.58 -0.45 0.00 0.58 3.00 0.00]]\n",
            "[[0.34 0.41 0.17]\n",
            " [0.34 0.42 0.16]]\n"
          ],
          "name": "stdout"
        }
      ]
    },
    {
      "metadata": {
        "id": "9dFtEtqefoEy",
        "colab_type": "code",
        "colab": {
          "base_uri": "https://localhost:8080/",
          "height": 289
        },
        "outputId": "a710989d-3ee2-489a-9c93-c448200a9c52"
      },
      "cell_type": "code",
      "source": [
        "model = Sequential()\n",
        "model.add(Dense(256, input_dim=9, activation='relu'))\n",
        "model.add(Dense(64, input_dim=9, activation='relu'))\n",
        "model.add(Dense(8, activation='relu'))\n",
        "model.add(Dense(3, activation='sigmoid'))\n",
        "print(model.summary())"
      ],
      "execution_count": 75,
      "outputs": [
        {
          "output_type": "stream",
          "text": [
            "_________________________________________________________________\n",
            "Layer (type)                 Output Shape              Param #   \n",
            "=================================================================\n",
            "dense_12 (Dense)             (None, 256)               2560      \n",
            "_________________________________________________________________\n",
            "dense_13 (Dense)             (None, 64)                16448     \n",
            "_________________________________________________________________\n",
            "dense_14 (Dense)             (None, 8)                 520       \n",
            "_________________________________________________________________\n",
            "dense_15 (Dense)             (None, 3)                 27        \n",
            "=================================================================\n",
            "Total params: 19,555\n",
            "Trainable params: 19,555\n",
            "Non-trainable params: 0\n",
            "_________________________________________________________________\n",
            "None\n"
          ],
          "name": "stdout"
        }
      ]
    },
    {
      "metadata": {
        "id": "EKG0GA6IQd7p",
        "colab_type": "code",
        "colab": {}
      },
      "cell_type": "code",
      "source": [
        "def r_square(y_true, y_pred):\n",
        "    from keras import backend as K\n",
        "    SS_res =  K.sum(K.square(y_true - y_pred)) \n",
        "    SS_tot = K.sum(K.square(y_true - K.mean(y_true))) \n",
        "    return ( 1 - SS_res/(SS_tot + K.epsilon() ) )"
      ],
      "execution_count": 0,
      "outputs": []
    },
    {
      "metadata": {
        "id": "0uKKI668funB",
        "colab_type": "code",
        "colab": {}
      },
      "cell_type": "code",
      "source": [
        "model.compile(loss='mse', optimizer='adam', metrics=['mse',r_square])"
      ],
      "execution_count": 0,
      "outputs": []
    },
    {
      "metadata": {
        "id": "CY0m6PMHfwAI",
        "colab_type": "code",
        "colab": {
          "base_uri": "https://localhost:8080/",
          "height": 1105
        },
        "outputId": "c4e4bc1b-cd42-499e-ed82-4320d7f944c1"
      },
      "cell_type": "code",
      "source": [
        "history = model.fit(XTRAIN, YTRAIN, epochs=32, batch_size=128)"
      ],
      "execution_count": 85,
      "outputs": [
        {
          "output_type": "stream",
          "text": [
            "Epoch 1/32\n",
            "795/795 [==============================] - 0s 48us/step - loss: 0.0011 - mean_squared_error: 0.0011 - r_square: 0.9648\n",
            "Epoch 2/32\n",
            "795/795 [==============================] - 0s 35us/step - loss: 0.0011 - mean_squared_error: 0.0011 - r_square: 0.9648\n",
            "Epoch 3/32\n",
            "795/795 [==============================] - 0s 35us/step - loss: 0.0011 - mean_squared_error: 0.0011 - r_square: 0.9657\n",
            "Epoch 4/32\n",
            "795/795 [==============================] - 0s 36us/step - loss: 0.0012 - mean_squared_error: 0.0012 - r_square: 0.9628\n",
            "Epoch 5/32\n",
            "795/795 [==============================] - 0s 44us/step - loss: 0.0012 - mean_squared_error: 0.0012 - r_square: 0.9630\n",
            "Epoch 6/32\n",
            "795/795 [==============================] - 0s 35us/step - loss: 0.0011 - mean_squared_error: 0.0011 - r_square: 0.9638\n",
            "Epoch 7/32\n",
            "795/795 [==============================] - 0s 36us/step - loss: 0.0011 - mean_squared_error: 0.0011 - r_square: 0.9649   \n",
            "Epoch 8/32\n",
            "795/795 [==============================] - 0s 36us/step - loss: 0.0011 - mean_squared_error: 0.0011 - r_square: 0.9668\n",
            "Epoch 9/32\n",
            "795/795 [==============================] - 0s 37us/step - loss: 0.0010 - mean_squared_error: 0.0010 - r_square: 0.9673\n",
            "Epoch 10/32\n",
            "795/795 [==============================] - 0s 39us/step - loss: 0.0011 - mean_squared_error: 0.0011 - r_square: 0.9661   \n",
            "Epoch 11/32\n",
            "795/795 [==============================] - 0s 36us/step - loss: 0.0011 - mean_squared_error: 0.0011 - r_square: 0.9658\n",
            "Epoch 12/32\n",
            "795/795 [==============================] - 0s 36us/step - loss: 0.0010 - mean_squared_error: 0.0010 - r_square: 0.9678\n",
            "Epoch 13/32\n",
            "795/795 [==============================] - 0s 35us/step - loss: 0.0011 - mean_squared_error: 0.0011 - r_square: 0.9665\n",
            "Epoch 14/32\n",
            "795/795 [==============================] - 0s 37us/step - loss: 0.0010 - mean_squared_error: 0.0010 - r_square: 0.9675   \n",
            "Epoch 15/32\n",
            "795/795 [==============================] - 0s 35us/step - loss: 0.0010 - mean_squared_error: 0.0010 - r_square: 0.9676   \n",
            "Epoch 16/32\n",
            "795/795 [==============================] - 0s 37us/step - loss: 9.9826e-04 - mean_squared_error: 9.9826e-04 - r_square: 0.9684\n",
            "Epoch 17/32\n",
            "795/795 [==============================] - 0s 37us/step - loss: 9.8063e-04 - mean_squared_error: 9.8063e-04 - r_square: 0.9691\n",
            "Epoch 18/32\n",
            "795/795 [==============================] - 0s 37us/step - loss: 9.6273e-04 - mean_squared_error: 9.6273e-04 - r_square: 0.9696\n",
            "Epoch 19/32\n",
            "795/795 [==============================] - 0s 35us/step - loss: 9.8633e-04 - mean_squared_error: 9.8633e-04 - r_square: 0.9685\n",
            "Epoch 20/32\n",
            "795/795 [==============================] - 0s 34us/step - loss: 9.6046e-04 - mean_squared_error: 9.6046e-04 - r_square: 0.9694\n",
            "Epoch 21/32\n",
            "795/795 [==============================] - 0s 36us/step - loss: 9.6392e-04 - mean_squared_error: 9.6392e-04 - r_square: 0.9693\n",
            "Epoch 22/32\n",
            "795/795 [==============================] - 0s 36us/step - loss: 9.5178e-04 - mean_squared_error: 9.5178e-04 - r_square: 0.9695\n",
            "Epoch 23/32\n",
            "795/795 [==============================] - 0s 35us/step - loss: 9.5238e-04 - mean_squared_error: 9.5238e-04 - r_square: 0.9699\n",
            "Epoch 24/32\n",
            "795/795 [==============================] - 0s 34us/step - loss: 9.4473e-04 - mean_squared_error: 9.4473e-04 - r_square: 0.9701\n",
            "Epoch 25/32\n",
            "795/795 [==============================] - 0s 36us/step - loss: 9.9862e-04 - mean_squared_error: 9.9862e-04 - r_square: 0.9683\n",
            "Epoch 26/32\n",
            "795/795 [==============================] - 0s 38us/step - loss: 9.8148e-04 - mean_squared_error: 9.8148e-04 - r_square: 0.9688\n",
            "Epoch 27/32\n",
            "795/795 [==============================] - 0s 36us/step - loss: 9.6910e-04 - mean_squared_error: 9.6910e-04 - r_square: 0.9691\n",
            "Epoch 28/32\n",
            "795/795 [==============================] - 0s 36us/step - loss: 0.0010 - mean_squared_error: 0.0010 - r_square: 0.9677   \n",
            "Epoch 29/32\n",
            "795/795 [==============================] - 0s 34us/step - loss: 9.9463e-04 - mean_squared_error: 9.9463e-04 - r_square: 0.9682\n",
            "Epoch 30/32\n",
            "795/795 [==============================] - 0s 34us/step - loss: 9.2152e-04 - mean_squared_error: 9.2152e-04 - r_square: 0.9709\n",
            "Epoch 31/32\n",
            "795/795 [==============================] - 0s 37us/step - loss: 9.4528e-04 - mean_squared_error: 9.4528e-04 - r_square: 0.9702\n",
            "Epoch 32/32\n",
            "795/795 [==============================] - 0s 36us/step - loss: 9.7890e-04 - mean_squared_error: 9.7890e-04 - r_square: 0.9692\n"
          ],
          "name": "stdout"
        }
      ]
    },
    {
      "metadata": {
        "id": "xKpkKsfPjVWY",
        "colab_type": "code",
        "colab": {
          "base_uri": "https://localhost:8080/",
          "height": 119
        },
        "outputId": "1f7e2456-57ce-4a4e-8261-289441340ba8"
      },
      "cell_type": "code",
      "source": [
        "scores = model.evaluate(XTRAIN, YTRAIN)\n",
        "print(model.metrics_names)\n",
        "print(scores)\n",
        "print(\"\\n%s: %.3f\" % (model.metrics_names[1], scores[1]))\n",
        "print('R²: %.2f' % ( scores[2]))\n"
      ],
      "execution_count": 86,
      "outputs": [
        {
          "output_type": "stream",
          "text": [
            "795/795 [==============================] - 0s 50us/step\n",
            "['loss', 'mean_squared_error', 'r_square']\n",
            "[0.0010321391888443122, 0.0010321391888443122, 0.9619454946907812]\n",
            "\n",
            "mean_squared_error: 0.001\n",
            "R²: 0.96\n"
          ],
          "name": "stdout"
        }
      ]
    },
    {
      "metadata": {
        "id": "Q7ENWn5hVT3s",
        "colab_type": "code",
        "colab": {
          "base_uri": "https://localhost:8080/",
          "height": 283
        },
        "outputId": "5afe70dc-f260-4014-925e-20b4b97cf91a"
      },
      "cell_type": "code",
      "source": [
        "y_pred =model.predict(XVALIDATION)\n",
        "fig, ax = plt.subplots()\n",
        "ax.scatter(YVALIDATION, y_pred)\n",
        "ax.plot([YVALIDATION.min(), YVALIDATION.max()], [YVALIDATION.min(), YVALIDATION.max()], 'k--', lw=4)\n",
        "ax.set_xlabel('measured')\n",
        "ax.set_ylabel('predicted')\n",
        "plt.show()"
      ],
      "execution_count": 87,
      "outputs": [
        {
          "output_type": "display_data",
          "data": {
            "image/png": "[encoded data removed]",
            "text/plain": [
              "<Figure size 432x288 with 1 Axes>"
            ]
          },
          "metadata": {
            "tags": []
          }
        }
      ]
    },
    {
      "metadata": {
        "id": "Sw1kNXkDDYeJ",
        "colab_type": "code",
        "colab": {
          "base_uri": "https://localhost:8080/",
          "height": 102
        },
        "outputId": "5f54260b-fba2-4753-9af3-18ba04058cb8"
      },
      "cell_type": "code",
      "source": [
        "scores = model.evaluate(XVALIDATION, YVALIDATION)\n",
        "print(scores)\n",
        "print(\"\\n%s: %.3f\" % (model.metrics_names[1], scores[1]))\n",
        "print('R²: %.2f' % ( scores[2]))"
      ],
      "execution_count": 88,
      "outputs": [
        {
          "output_type": "stream",
          "text": [
            "531/531 [==============================] - 0s 57us/step\n",
            "[0.009232096910729246, 0.009232096910729246, 0.7095608655117774]\n",
            "\n",
            "mean_squared_error: 0.009\n",
            "R²: 0.71\n"
          ],
          "name": "stdout"
        }
      ]
    },
    {
      "metadata": {
        "id": "Ml4siFVQIUbN",
        "colab_type": "code",
        "colab": {
          "base_uri": "https://localhost:8080/",
          "height": 51
        },
        "outputId": "4f001002-794a-4c82-aa3d-bccff616656a"
      },
      "cell_type": "code",
      "source": [
        "from sklearn.linear_model import LinearRegression\n",
        "from sklearn.model_selection import train_test_split\n",
        "from sklearn.metrics import mean_squared_error, r2_score\n",
        "\n",
        "reg = LinearRegression()\n",
        "\n",
        "reg.fit(XTRAIN, YTRAIN)"
      ],
      "execution_count": 82,
      "outputs": [
        {
          "output_type": "execute_result",
          "data": {
            "text/plain": [
              "LinearRegression(copy_X=True, fit_intercept=True, n_jobs=None,\n",
              "         normalize=False)"
            ]
          },
          "metadata": {
            "tags": []
          },
          "execution_count": 82
        }
      ]
    },
    {
      "metadata": {
        "id": "n_Da1lSrD3mI",
        "colab_type": "code",
        "colab": {
          "base_uri": "https://localhost:8080/",
          "height": 51
        },
        "outputId": "627fa4b3-400f-4fea-f38d-e6d72347aebd"
      },
      "cell_type": "code",
      "source": [
        "y_predicted = reg.predict(XVALIDATION)\n",
        "print(\"Mean squared error: %.3f\" % mean_squared_error(YVALIDATION, y_predicted))\n",
        "print('R²: %.2f' % r2_score(YVALIDATION, y_predicted))\n"
      ],
      "execution_count": 83,
      "outputs": [
        {
          "output_type": "stream",
          "text": [
            "Mean squared error: 0.006\n",
            "R²: 0.82\n"
          ],
          "name": "stdout"
        }
      ]
    },
    {
      "metadata": {
        "id": "CdykA2-PTjeH",
        "colab_type": "code",
        "colab": {
          "base_uri": "https://localhost:8080/",
          "height": 283
        },
        "outputId": "3801db4d-06a6-43d7-ff43-0724ffb78c57"
      },
      "cell_type": "code",
      "source": [
        "fig, ax = plt.subplots()\n",
        "ax.scatter(YVALIDATION, y_predicted)\n",
        "ax.plot([YVALIDATION.min(), YVALIDATION.max()], [YVALIDATION.min(), YVALIDATION.max()], 'k--', lw=4)\n",
        "ax.set_xlabel('measured')\n",
        "ax.set_ylabel('predicted')\n",
        "plt.show()"
      ],
      "execution_count": 84,
      "outputs": [
        {
          "output_type": "display_data",
          "data": {
            "image/png": "[encoded data removed]",
            "text/plain": [
              "<Figure size 432x288 with 1 Axes>"
            ]
          },
          "metadata": {
            "tags": []
          }
        }
      ]
    }
  ]
}