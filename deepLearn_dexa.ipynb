{
  "nbformat": 4,
  "nbformat_minor": 0,
  "metadata": {
    "colab": {
      "name": "deepLearn_dexa.ipynb",
      "version": "0.3.2",
      "provenance": [],
      "include_colab_link": true
    },
    "kernelspec": {
      "name": "python3",
      "display_name": "Python 3"
    },
    "accelerator": "GPU"
  },
  "cells": [
    {
      "cell_type": "markdown",
      "metadata": {
        "id": "view-in-github",
        "colab_type": "text"
      },
      "source": [
        "<a href=\"https://colab.research.google.com/github/mlindsey19/dxa/blob/master/deepLearn_dexa.ipynb\" target=\"_parent\"><img src=\"https://colab.research.google.com/assets/colab-badge.svg\" alt=\"Open In Colab\"/></a>"
      ]
    },
    {
      "metadata": {
        "id": "xSK0IId6wWZb",
        "colab_type": "text"
      },
      "cell_type": "markdown",
      "source": [
        "* Data was selected mulitple spreadsheets matching de-Identification number.\n",
        "* Easy clinical mesuments along side dual energy X-ray absorptiometry (DXA).\n",
        "* The puposed is to preditct the more expesive DXA test with simple clinical mesurements.\n",
        "* Data was transposed to single speadshee and uploaded to CSV file on github.\n",
        "* Measurements are muiltiple 4 or 5 visits per patient with new DXA data for each visit.\n",
        "\n",
        "[data reference table](https://calerie.duke.edu/sites/calerie.duke.edu/files/calerie2_analysis_dataset_details_0.pdf)"
      ]
    },
    {
      "metadata": {
        "id": "Fh1-dUwaP8eT",
        "colab_type": "code",
        "outputId": "7bfdcdf8-db38-43df-83d2-2104e8cad56e",
        "colab": {
          "base_uri": "https://localhost:8080/",
          "height": 389
        }
      },
      "cell_type": "code",
      "source": [
        "import pandas as pd\n",
        "from matplotlib import pyplot as plt\n",
        "\n",
        "\n",
        "url = 'https://raw.githubusercontent.com/mlindsey19/dxa/master/dxadl.csv?token=AIP6LNNC6IQE3JXDC6PVBWC42OT4Y'\n",
        "\n",
        "rdat = pd.read_csv(url)\n",
        "rdat.head()\n"
      ],
      "execution_count": 22,
      "outputs": [
        {
          "output_type": "execute_result",
          "data": {
            "text/html": [
              "<div>\n",
              "<style scoped>\n",
              "    .dataframe tbody tr th:only-of-type {\n",
              "        vertical-align: middle;\n",
              "    }\n",
              "\n",
              "    .dataframe tbody tr th {\n",
              "        vertical-align: top;\n",
              "    }\n",
              "\n",
              "    .dataframe thead th {\n",
              "        text-align: right;\n",
              "    }\n",
              "</style>\n",
              "<table border=\"1\" class=\"dataframe\">\n",
              "  <thead>\n",
              "    <tr style=\"text-align: right;\">\n",
              "      <th></th>\n",
              "      <th>deidnum visit</th>\n",
              "      <th>Unnamed: 1</th>\n",
              "      <th>mclinwt</th>\n",
              "      <th>height</th>\n",
              "      <th>mbmi</th>\n",
              "      <th>Unnamed: 5</th>\n",
              "      <th>deidnum visit.1</th>\n",
              "      <th>meanwst</th>\n",
              "      <th>meanumb</th>\n",
              "      <th>Unnamed: 9</th>\n",
              "      <th>...</th>\n",
              "      <th>Unnamed: 16</th>\n",
              "      <th>Unnamed: 17</th>\n",
              "      <th>age</th>\n",
              "      <th>race</th>\n",
              "      <th>Unnamed: 20</th>\n",
              "      <th>deidnum visit.2</th>\n",
              "      <th>Unnamed: 22</th>\n",
              "      <th>TRUNKFAT</th>\n",
              "      <th>fm</th>\n",
              "      <th>ffm</th>\n",
              "    </tr>\n",
              "  </thead>\n",
              "  <tbody>\n",
              "    <tr>\n",
              "      <th>0</th>\n",
              "      <td>60 SCR V1</td>\n",
              "      <td>NaN</td>\n",
              "      <td>77.6</td>\n",
              "      <td>173.90</td>\n",
              "      <td>25.66034891</td>\n",
              "      <td>NaN</td>\n",
              "      <td>903 Baseline</td>\n",
              "      <td>72.25</td>\n",
              "      <td>80.5</td>\n",
              "      <td>NaN</td>\n",
              "      <td>...</td>\n",
              "      <td>NaN</td>\n",
              "      <td>NaN</td>\n",
              "      <td>47.0</td>\n",
              "      <td>Black or African American</td>\n",
              "      <td>NaN</td>\n",
              "      <td>903 Baseline</td>\n",
              "      <td>NaN</td>\n",
              "      <td>7.367624579</td>\n",
              "      <td>18.52068867</td>\n",
              "      <td>40.77931133</td>\n",
              "    </tr>\n",
              "    <tr>\n",
              "      <th>1</th>\n",
              "      <td>231 SCR V1</td>\n",
              "      <td>NaN</td>\n",
              "      <td>78.9</td>\n",
              "      <td>177.80</td>\n",
              "      <td>24.95821318</td>\n",
              "      <td>NaN</td>\n",
              "      <td>903 BL Sub 1</td>\n",
              "      <td>72.25</td>\n",
              "      <td>80.5</td>\n",
              "      <td>NaN</td>\n",
              "      <td>...</td>\n",
              "      <td>NaN</td>\n",
              "      <td>NaN</td>\n",
              "      <td>26.0</td>\n",
              "      <td>White</td>\n",
              "      <td>NaN</td>\n",
              "      <td>903 BL Sub 1</td>\n",
              "      <td>NaN</td>\n",
              "      <td>7.367624579</td>\n",
              "      <td>18.52068867</td>\n",
              "      <td>40.77931133</td>\n",
              "    </tr>\n",
              "    <tr>\n",
              "      <th>2</th>\n",
              "      <td>596 SCR V1</td>\n",
              "      <td>NaN</td>\n",
              "      <td>70.2</td>\n",
              "      <td>177.20</td>\n",
              "      <td>22.35680182</td>\n",
              "      <td>NaN</td>\n",
              "      <td>1057 Baseline</td>\n",
              "      <td>72.25</td>\n",
              "      <td>82.5</td>\n",
              "      <td>NaN</td>\n",
              "      <td>...</td>\n",
              "      <td>NaN</td>\n",
              "      <td>NaN</td>\n",
              "      <td>32.0</td>\n",
              "      <td>White</td>\n",
              "      <td>NaN</td>\n",
              "      <td>1057 Baseline</td>\n",
              "      <td>NaN</td>\n",
              "      <td>7.916222507</td>\n",
              "      <td>18.44967646</td>\n",
              "      <td>33.20032355</td>\n",
              "    </tr>\n",
              "    <tr>\n",
              "      <th>3</th>\n",
              "      <td>823 SCR V1</td>\n",
              "      <td>NaN</td>\n",
              "      <td>65.3</td>\n",
              "      <td>153.10</td>\n",
              "      <td>27.8588253</td>\n",
              "      <td>NaN</td>\n",
              "      <td>1057 BL Sub 1</td>\n",
              "      <td>72.25</td>\n",
              "      <td>86</td>\n",
              "      <td>NaN</td>\n",
              "      <td>...</td>\n",
              "      <td>NaN</td>\n",
              "      <td>NaN</td>\n",
              "      <td>21.0</td>\n",
              "      <td>Black or African American</td>\n",
              "      <td>NaN</td>\n",
              "      <td>1057 BL Sub 1</td>\n",
              "      <td>NaN</td>\n",
              "      <td>8.032587724</td>\n",
              "      <td>18.58043726</td>\n",
              "      <td>33.21956274</td>\n",
              "    </tr>\n",
              "    <tr>\n",
              "      <th>4</th>\n",
              "      <td>867 SCR V1</td>\n",
              "      <td>NaN</td>\n",
              "      <td>71.8</td>\n",
              "      <td>179.15</td>\n",
              "      <td>22.37127927</td>\n",
              "      <td>NaN</td>\n",
              "      <td>1057 BL Sub 2</td>\n",
              "      <td>72.25</td>\n",
              "      <td>79</td>\n",
              "      <td>NaN</td>\n",
              "      <td>...</td>\n",
              "      <td>NaN</td>\n",
              "      <td>NaN</td>\n",
              "      <td>26.0</td>\n",
              "      <td>White</td>\n",
              "      <td>NaN</td>\n",
              "      <td>1057 BL Sub 2</td>\n",
              "      <td>NaN</td>\n",
              "      <td>7.799857291</td>\n",
              "      <td>18.31891565</td>\n",
              "      <td>33.18108435</td>\n",
              "    </tr>\n",
              "  </tbody>\n",
              "</table>\n",
              "<p>5 rows × 26 columns</p>\n",
              "</div>"
            ],
            "text/plain": [
              "  deidnum visit  Unnamed: 1 mclinwt  height         mbmi  Unnamed: 5  \\\n",
              "0     60 SCR V1         NaN    77.6  173.90  25.66034891         NaN   \n",
              "1    231 SCR V1         NaN    78.9  177.80  24.95821318         NaN   \n",
              "2    596 SCR V1         NaN    70.2  177.20  22.35680182         NaN   \n",
              "3    823 SCR V1         NaN    65.3  153.10   27.8588253         NaN   \n",
              "4    867 SCR V1         NaN    71.8  179.15  22.37127927         NaN   \n",
              "\n",
              "  deidnum visit.1 meanwst meanumb  Unnamed: 9  ...  Unnamed: 16  Unnamed: 17  \\\n",
              "0    903 Baseline   72.25    80.5         NaN  ...          NaN          NaN   \n",
              "1    903 BL Sub 1   72.25    80.5         NaN  ...          NaN          NaN   \n",
              "2   1057 Baseline   72.25    82.5         NaN  ...          NaN          NaN   \n",
              "3   1057 BL Sub 1   72.25      86         NaN  ...          NaN          NaN   \n",
              "4   1057 BL Sub 2   72.25      79         NaN  ...          NaN          NaN   \n",
              "\n",
              "    age                       race Unnamed: 20  deidnum visit.2  Unnamed: 22  \\\n",
              "0  47.0  Black or African American         NaN     903 Baseline          NaN   \n",
              "1  26.0                      White         NaN     903 BL Sub 1          NaN   \n",
              "2  32.0                      White         NaN    1057 Baseline          NaN   \n",
              "3  21.0  Black or African American         NaN    1057 BL Sub 1          NaN   \n",
              "4  26.0                      White         NaN    1057 BL Sub 2          NaN   \n",
              "\n",
              "      TRUNKFAT           fm          ffm  \n",
              "0  7.367624579  18.52068867  40.77931133  \n",
              "1  7.367624579  18.52068867  40.77931133  \n",
              "2  7.916222507  18.44967646  33.20032355  \n",
              "3  8.032587724  18.58043726  33.21956274  \n",
              "4  7.799857291  18.31891565  33.18108435  \n",
              "\n",
              "[5 rows x 26 columns]"
            ]
          },
          "metadata": {
            "tags": []
          },
          "execution_count": 22
        }
      ]
    },
    {
      "metadata": {
        "id": "ZB1FGkF1xTXf",
        "colab_type": "text"
      },
      "cell_type": "markdown",
      "source": [
        "Separate and extract data: \n",
        "\n",
        "Hight, Weight and BMI calculation"
      ]
    },
    {
      "metadata": {
        "id": "nkTlncqai0bY",
        "colab_type": "code",
        "outputId": "613e44d3-7693-40ac-d2e2-7bbe10e5afaf",
        "colab": {
          "base_uri": "https://localhost:8080/",
          "height": 204
        }
      },
      "cell_type": "code",
      "source": [
        "dat1 = pd.DataFrame()\n",
        "dat1 = rdat.iloc[0: , [0,2,3,4]]\n",
        "dat1.head()"
      ],
      "execution_count": 2,
      "outputs": [
        {
          "output_type": "execute_result",
          "data": {
            "text/html": [
              "<div>\n",
              "<style scoped>\n",
              "    .dataframe tbody tr th:only-of-type {\n",
              "        vertical-align: middle;\n",
              "    }\n",
              "\n",
              "    .dataframe tbody tr th {\n",
              "        vertical-align: top;\n",
              "    }\n",
              "\n",
              "    .dataframe thead th {\n",
              "        text-align: right;\n",
              "    }\n",
              "</style>\n",
              "<table border=\"1\" class=\"dataframe\">\n",
              "  <thead>\n",
              "    <tr style=\"text-align: right;\">\n",
              "      <th></th>\n",
              "      <th>deidnum visit</th>\n",
              "      <th>mclinwt</th>\n",
              "      <th>height</th>\n",
              "      <th>mbmi</th>\n",
              "    </tr>\n",
              "  </thead>\n",
              "  <tbody>\n",
              "    <tr>\n",
              "      <th>0</th>\n",
              "      <td>60 SCR V1</td>\n",
              "      <td>77.6</td>\n",
              "      <td>173.90</td>\n",
              "      <td>25.66034891</td>\n",
              "    </tr>\n",
              "    <tr>\n",
              "      <th>1</th>\n",
              "      <td>231 SCR V1</td>\n",
              "      <td>78.9</td>\n",
              "      <td>177.80</td>\n",
              "      <td>24.95821318</td>\n",
              "    </tr>\n",
              "    <tr>\n",
              "      <th>2</th>\n",
              "      <td>596 SCR V1</td>\n",
              "      <td>70.2</td>\n",
              "      <td>177.20</td>\n",
              "      <td>22.35680182</td>\n",
              "    </tr>\n",
              "    <tr>\n",
              "      <th>3</th>\n",
              "      <td>823 SCR V1</td>\n",
              "      <td>65.3</td>\n",
              "      <td>153.10</td>\n",
              "      <td>27.8588253</td>\n",
              "    </tr>\n",
              "    <tr>\n",
              "      <th>4</th>\n",
              "      <td>867 SCR V1</td>\n",
              "      <td>71.8</td>\n",
              "      <td>179.15</td>\n",
              "      <td>22.37127927</td>\n",
              "    </tr>\n",
              "  </tbody>\n",
              "</table>\n",
              "</div>"
            ],
            "text/plain": [
              "  deidnum visit mclinwt  height         mbmi\n",
              "0     60 SCR V1    77.6  173.90  25.66034891\n",
              "1    231 SCR V1    78.9  177.80  24.95821318\n",
              "2    596 SCR V1    70.2  177.20  22.35680182\n",
              "3    823 SCR V1    65.3  153.10   27.8588253\n",
              "4    867 SCR V1    71.8  179.15  22.37127927"
            ]
          },
          "metadata": {
            "tags": []
          },
          "execution_count": 2
        }
      ]
    },
    {
      "metadata": {
        "id": "4QUtq86Bfa48",
        "colab_type": "text"
      },
      "cell_type": "markdown",
      "source": [
        "* Mean of the 2 closest natural waist measurements\n",
        "* Mean of the 2 closest umbilical waist measurements"
      ]
    },
    {
      "metadata": {
        "id": "qKifEATW3CJJ",
        "colab_type": "code",
        "outputId": "3e3122eb-6b88-4589-b760-a2d745191e0d",
        "colab": {
          "base_uri": "https://localhost:8080/",
          "height": 204
        }
      },
      "cell_type": "code",
      "source": [
        "dat2 = pd.DataFrame()\n",
        "dat2 = rdat.iloc[0: , 6 : 9]\n",
        "dat2.head()"
      ],
      "execution_count": 3,
      "outputs": [
        {
          "output_type": "execute_result",
          "data": {
            "text/html": [
              "<div>\n",
              "<style scoped>\n",
              "    .dataframe tbody tr th:only-of-type {\n",
              "        vertical-align: middle;\n",
              "    }\n",
              "\n",
              "    .dataframe tbody tr th {\n",
              "        vertical-align: top;\n",
              "    }\n",
              "\n",
              "    .dataframe thead th {\n",
              "        text-align: right;\n",
              "    }\n",
              "</style>\n",
              "<table border=\"1\" class=\"dataframe\">\n",
              "  <thead>\n",
              "    <tr style=\"text-align: right;\">\n",
              "      <th></th>\n",
              "      <th>deidnum visit.1</th>\n",
              "      <th>meanwst</th>\n",
              "      <th>meanumb</th>\n",
              "    </tr>\n",
              "  </thead>\n",
              "  <tbody>\n",
              "    <tr>\n",
              "      <th>0</th>\n",
              "      <td>903 Baseline</td>\n",
              "      <td>72.25</td>\n",
              "      <td>80.5</td>\n",
              "    </tr>\n",
              "    <tr>\n",
              "      <th>1</th>\n",
              "      <td>903 BL Sub 1</td>\n",
              "      <td>72.25</td>\n",
              "      <td>80.5</td>\n",
              "    </tr>\n",
              "    <tr>\n",
              "      <th>2</th>\n",
              "      <td>1057 Baseline</td>\n",
              "      <td>72.25</td>\n",
              "      <td>82.5</td>\n",
              "    </tr>\n",
              "    <tr>\n",
              "      <th>3</th>\n",
              "      <td>1057 BL Sub 1</td>\n",
              "      <td>72.25</td>\n",
              "      <td>86</td>\n",
              "    </tr>\n",
              "    <tr>\n",
              "      <th>4</th>\n",
              "      <td>1057 BL Sub 2</td>\n",
              "      <td>72.25</td>\n",
              "      <td>79</td>\n",
              "    </tr>\n",
              "  </tbody>\n",
              "</table>\n",
              "</div>"
            ],
            "text/plain": [
              "  deidnum visit.1 meanwst meanumb\n",
              "0    903 Baseline   72.25    80.5\n",
              "1    903 BL Sub 1   72.25    80.5\n",
              "2   1057 Baseline   72.25    82.5\n",
              "3   1057 BL Sub 1   72.25      86\n",
              "4   1057 BL Sub 2   72.25      79"
            ]
          },
          "metadata": {
            "tags": []
          },
          "execution_count": 3
        }
      ]
    },
    {
      "metadata": {
        "id": "RgzAin_jivrx",
        "colab_type": "text"
      },
      "cell_type": "markdown",
      "source": [
        "* gender/age/race/ethinicy"
      ]
    },
    {
      "metadata": {
        "id": "pTRo9EHM21zv",
        "colab_type": "code",
        "outputId": "11508e0f-11ee-4380-8015-907a998a477f",
        "colab": {
          "base_uri": "https://localhost:8080/",
          "height": 204
        }
      },
      "cell_type": "code",
      "source": [
        "dat3 = pd.DataFrame()\n",
        "dat3 = rdat.iloc[0: , [11, 13, 14, 18, 19]]\n",
        "dat3.head()"
      ],
      "execution_count": 4,
      "outputs": [
        {
          "output_type": "execute_result",
          "data": {
            "text/html": [
              "<div>\n",
              "<style scoped>\n",
              "    .dataframe tbody tr th:only-of-type {\n",
              "        vertical-align: middle;\n",
              "    }\n",
              "\n",
              "    .dataframe tbody tr th {\n",
              "        vertical-align: top;\n",
              "    }\n",
              "\n",
              "    .dataframe thead th {\n",
              "        text-align: right;\n",
              "    }\n",
              "</style>\n",
              "<table border=\"1\" class=\"dataframe\">\n",
              "  <thead>\n",
              "    <tr style=\"text-align: right;\">\n",
              "      <th></th>\n",
              "      <th>deidnum</th>\n",
              "      <th>GENDER</th>\n",
              "      <th>ETHNIC</th>\n",
              "      <th>age</th>\n",
              "      <th>race</th>\n",
              "    </tr>\n",
              "  </thead>\n",
              "  <tbody>\n",
              "    <tr>\n",
              "      <th>0</th>\n",
              "      <td>60.0</td>\n",
              "      <td>Male</td>\n",
              "      <td>Not Hispanic or Latino</td>\n",
              "      <td>47.0</td>\n",
              "      <td>Black or African American</td>\n",
              "    </tr>\n",
              "    <tr>\n",
              "      <th>1</th>\n",
              "      <td>231.0</td>\n",
              "      <td>Male</td>\n",
              "      <td>Not Hispanic or Latino</td>\n",
              "      <td>26.0</td>\n",
              "      <td>White</td>\n",
              "    </tr>\n",
              "    <tr>\n",
              "      <th>2</th>\n",
              "      <td>596.0</td>\n",
              "      <td>Male</td>\n",
              "      <td>Not Hispanic or Latino</td>\n",
              "      <td>32.0</td>\n",
              "      <td>White</td>\n",
              "    </tr>\n",
              "    <tr>\n",
              "      <th>3</th>\n",
              "      <td>823.0</td>\n",
              "      <td>Female</td>\n",
              "      <td>Unknown (not reporting ethnicity</td>\n",
              "      <td>21.0</td>\n",
              "      <td>Black or African American</td>\n",
              "    </tr>\n",
              "    <tr>\n",
              "      <th>4</th>\n",
              "      <td>867.0</td>\n",
              "      <td>Male</td>\n",
              "      <td>Not Hispanic or Latino</td>\n",
              "      <td>26.0</td>\n",
              "      <td>White</td>\n",
              "    </tr>\n",
              "  </tbody>\n",
              "</table>\n",
              "</div>"
            ],
            "text/plain": [
              "   deidnum  GENDER                            ETHNIC   age  \\\n",
              "0     60.0    Male            Not Hispanic or Latino  47.0   \n",
              "1    231.0    Male            Not Hispanic or Latino  26.0   \n",
              "2    596.0    Male            Not Hispanic or Latino  32.0   \n",
              "3    823.0  Female  Unknown (not reporting ethnicity  21.0   \n",
              "4    867.0    Male            Not Hispanic or Latino  26.0   \n",
              "\n",
              "                        race  \n",
              "0  Black or African American  \n",
              "1                      White  \n",
              "2                      White  \n",
              "3  Black or African American  \n",
              "4                      White  "
            ]
          },
          "metadata": {
            "tags": []
          },
          "execution_count": 4
        }
      ]
    },
    {
      "metadata": {
        "id": "BEimWVEqj5Mv",
        "colab_type": "text"
      },
      "cell_type": "markdown",
      "source": [
        "DXA (Dual-energy X-ray absorptiometry) is used to measure body composition: % body fat, fat mass (FM), fat free\n",
        "mass (FFM), bone mineral density (BMD), bone mineral content (BMC).\n"
      ]
    },
    {
      "metadata": {
        "id": "iZEpEXZe54pf",
        "colab_type": "code",
        "outputId": "1f67536a-973c-41ac-8f9b-df3b03dcdab9",
        "colab": {
          "base_uri": "https://localhost:8080/",
          "height": 204
        }
      },
      "cell_type": "code",
      "source": [
        "dat4 = pd.DataFrame()\n",
        "dat4 = rdat.iloc[0: , [21, 23, 24, 25]]\n",
        "dat4.head()"
      ],
      "execution_count": 5,
      "outputs": [
        {
          "output_type": "execute_result",
          "data": {
            "text/html": [
              "<div>\n",
              "<style scoped>\n",
              "    .dataframe tbody tr th:only-of-type {\n",
              "        vertical-align: middle;\n",
              "    }\n",
              "\n",
              "    .dataframe tbody tr th {\n",
              "        vertical-align: top;\n",
              "    }\n",
              "\n",
              "    .dataframe thead th {\n",
              "        text-align: right;\n",
              "    }\n",
              "</style>\n",
              "<table border=\"1\" class=\"dataframe\">\n",
              "  <thead>\n",
              "    <tr style=\"text-align: right;\">\n",
              "      <th></th>\n",
              "      <th>deidnum visit.2</th>\n",
              "      <th>TRUNKFAT</th>\n",
              "      <th>fm</th>\n",
              "      <th>ffm</th>\n",
              "    </tr>\n",
              "  </thead>\n",
              "  <tbody>\n",
              "    <tr>\n",
              "      <th>0</th>\n",
              "      <td>903 Baseline</td>\n",
              "      <td>7.367624579</td>\n",
              "      <td>18.52068867</td>\n",
              "      <td>40.77931133</td>\n",
              "    </tr>\n",
              "    <tr>\n",
              "      <th>1</th>\n",
              "      <td>903 BL Sub 1</td>\n",
              "      <td>7.367624579</td>\n",
              "      <td>18.52068867</td>\n",
              "      <td>40.77931133</td>\n",
              "    </tr>\n",
              "    <tr>\n",
              "      <th>2</th>\n",
              "      <td>1057 Baseline</td>\n",
              "      <td>7.916222507</td>\n",
              "      <td>18.44967646</td>\n",
              "      <td>33.20032355</td>\n",
              "    </tr>\n",
              "    <tr>\n",
              "      <th>3</th>\n",
              "      <td>1057 BL Sub 1</td>\n",
              "      <td>8.032587724</td>\n",
              "      <td>18.58043726</td>\n",
              "      <td>33.21956274</td>\n",
              "    </tr>\n",
              "    <tr>\n",
              "      <th>4</th>\n",
              "      <td>1057 BL Sub 2</td>\n",
              "      <td>7.799857291</td>\n",
              "      <td>18.31891565</td>\n",
              "      <td>33.18108435</td>\n",
              "    </tr>\n",
              "  </tbody>\n",
              "</table>\n",
              "</div>"
            ],
            "text/plain": [
              "  deidnum visit.2     TRUNKFAT           fm          ffm\n",
              "0    903 Baseline  7.367624579  18.52068867  40.77931133\n",
              "1    903 BL Sub 1  7.367624579  18.52068867  40.77931133\n",
              "2   1057 Baseline  7.916222507  18.44967646  33.20032355\n",
              "3   1057 BL Sub 1  8.032587724  18.58043726  33.21956274\n",
              "4   1057 BL Sub 2  7.799857291  18.31891565  33.18108435"
            ]
          },
          "metadata": {
            "tags": []
          },
          "execution_count": 5
        }
      ]
    },
    {
      "metadata": {
        "id": "2vldCBZKlUA1",
        "colab_type": "code",
        "colab": {
          "base_uri": "https://localhost:8080/",
          "height": 289
        },
        "outputId": "0eb7e55b-691f-4eed-d714-2cb439cc2729"
      },
      "cell_type": "code",
      "source": [
        "cdat = pd.DataFrame()\n",
        "# merge data on combination of deidnum and visit (combined in speadsheet before upload to csv)\n",
        "cdat = pd.merge(dat1, dat2, left_on='deidnum visit', right_on='deidnum visit.1')\n",
        "cdat = pd.merge(cdat, dat4, left_on='deidnum visit', right_on='deidnum visit.2')\n",
        "#slpit deiednum from vist for merge with demographics\n",
        "new = cdat['deidnum visit.1'].str.split(n=1,expand=True)\n",
        "cc= pd.concat([new, cdat], axis=1)\n",
        "df = dat3.dropna(subset = ['deidnum'])\n",
        "df.loc['deidnum'] = df['deidnum'].apply(int) #slice error disregaurd\n",
        "cc[0] = cc[0].apply(int)\n",
        "aa = pd.merge(cc, df, left_on=0, right_on='deidnum' )\n",
        "\n",
        "aa = aa.drop(columns=['deidnum visit.2','deidnum visit.1', 'deidnum visit', 'deidnum']) \n",
        "#aa = aa.drop(columns=['ETHNIC']) \n",
        "bb = aa.drop(columns=[0, 1])\n",
        "\n",
        "bb.head()"
      ],
      "execution_count": 108,
      "outputs": [
        {
          "output_type": "stream",
          "text": [
            "/usr/local/lib/python3.6/dist-packages/ipykernel_launcher.py:9: SettingWithCopyWarning: \n",
            "A value is trying to be set on a copy of a slice from a DataFrame\n",
            "\n",
            "See the caveats in the documentation: http://pandas.pydata.org/pandas-docs/stable/indexing.html#indexing-view-versus-copy\n",
            "  if __name__ == '__main__':\n"
          ],
          "name": "stderr"
        },
        {
          "output_type": "execute_result",
          "data": {
            "text/html": [
              "<div>\n",
              "<style scoped>\n",
              "    .dataframe tbody tr th:only-of-type {\n",
              "        vertical-align: middle;\n",
              "    }\n",
              "\n",
              "    .dataframe tbody tr th {\n",
              "        vertical-align: top;\n",
              "    }\n",
              "\n",
              "    .dataframe thead th {\n",
              "        text-align: right;\n",
              "    }\n",
              "</style>\n",
              "<table border=\"1\" class=\"dataframe\">\n",
              "  <thead>\n",
              "    <tr style=\"text-align: right;\">\n",
              "      <th></th>\n",
              "      <th>mclinwt</th>\n",
              "      <th>height</th>\n",
              "      <th>mbmi</th>\n",
              "      <th>meanwst</th>\n",
              "      <th>meanumb</th>\n",
              "      <th>TRUNKFAT</th>\n",
              "      <th>fm</th>\n",
              "      <th>ffm</th>\n",
              "      <th>GENDER</th>\n",
              "      <th>ETHNIC</th>\n",
              "      <th>age</th>\n",
              "      <th>race</th>\n",
              "    </tr>\n",
              "  </thead>\n",
              "  <tbody>\n",
              "    <tr>\n",
              "      <th>0</th>\n",
              "      <td>59.18333333</td>\n",
              "      <td>159.00</td>\n",
              "      <td>23.41020266</td>\n",
              "      <td>72.25</td>\n",
              "      <td>80.5</td>\n",
              "      <td>7.367624579</td>\n",
              "      <td>18.52068867</td>\n",
              "      <td>40.77931133</td>\n",
              "      <td>Female</td>\n",
              "      <td>Not Hispanic or Latino</td>\n",
              "      <td>27.0</td>\n",
              "      <td>White</td>\n",
              "    </tr>\n",
              "    <tr>\n",
              "      <th>1</th>\n",
              "      <td>59.18333333</td>\n",
              "      <td>159.00</td>\n",
              "      <td>23.41020266</td>\n",
              "      <td>72.25</td>\n",
              "      <td>80.5</td>\n",
              "      <td>7.367624579</td>\n",
              "      <td>18.52068867</td>\n",
              "      <td>40.77931133</td>\n",
              "      <td>Female</td>\n",
              "      <td>Not Hispanic or Latino</td>\n",
              "      <td>27.0</td>\n",
              "      <td>White</td>\n",
              "    </tr>\n",
              "    <tr>\n",
              "      <th>2</th>\n",
              "      <td>51.81666667</td>\n",
              "      <td>147.65</td>\n",
              "      <td>23.76854347</td>\n",
              "      <td>72.25</td>\n",
              "      <td>82.5</td>\n",
              "      <td>7.916222507</td>\n",
              "      <td>18.44967646</td>\n",
              "      <td>33.20032355</td>\n",
              "      <td>Female</td>\n",
              "      <td>Not Hispanic or Latino</td>\n",
              "      <td>42.0</td>\n",
              "      <td>Asian</td>\n",
              "    </tr>\n",
              "    <tr>\n",
              "      <th>3</th>\n",
              "      <td>51.86666667</td>\n",
              "      <td>147.65</td>\n",
              "      <td>23.7914787</td>\n",
              "      <td>72.25</td>\n",
              "      <td>86</td>\n",
              "      <td>8.032587724</td>\n",
              "      <td>18.58043726</td>\n",
              "      <td>33.21956274</td>\n",
              "      <td>Female</td>\n",
              "      <td>Not Hispanic or Latino</td>\n",
              "      <td>42.0</td>\n",
              "      <td>Asian</td>\n",
              "    </tr>\n",
              "    <tr>\n",
              "      <th>4</th>\n",
              "      <td>51.76666667</td>\n",
              "      <td>147.65</td>\n",
              "      <td>23.74560824</td>\n",
              "      <td>72.25</td>\n",
              "      <td>79</td>\n",
              "      <td>7.799857291</td>\n",
              "      <td>18.31891565</td>\n",
              "      <td>33.18108435</td>\n",
              "      <td>Female</td>\n",
              "      <td>Not Hispanic or Latino</td>\n",
              "      <td>42.0</td>\n",
              "      <td>Asian</td>\n",
              "    </tr>\n",
              "  </tbody>\n",
              "</table>\n",
              "</div>"
            ],
            "text/plain": [
              "       mclinwt  height         mbmi meanwst meanumb     TRUNKFAT           fm  \\\n",
              "0  59.18333333  159.00  23.41020266   72.25    80.5  7.367624579  18.52068867   \n",
              "1  59.18333333  159.00  23.41020266   72.25    80.5  7.367624579  18.52068867   \n",
              "2  51.81666667  147.65  23.76854347   72.25    82.5  7.916222507  18.44967646   \n",
              "3  51.86666667  147.65   23.7914787   72.25      86  8.032587724  18.58043726   \n",
              "4  51.76666667  147.65  23.74560824   72.25      79  7.799857291  18.31891565   \n",
              "\n",
              "           ffm  GENDER                  ETHNIC   age   race  \n",
              "0  40.77931133  Female  Not Hispanic or Latino  27.0  White  \n",
              "1  40.77931133  Female  Not Hispanic or Latino  27.0  White  \n",
              "2  33.20032355  Female  Not Hispanic or Latino  42.0  Asian  \n",
              "3  33.21956274  Female  Not Hispanic or Latino  42.0  Asian  \n",
              "4  33.18108435  Female  Not Hispanic or Latino  42.0  Asian  "
            ]
          },
          "metadata": {
            "tags": []
          },
          "execution_count": 108
        }
      ]
    },
    {
      "metadata": {
        "id": "PgdLmhXvgtdT",
        "colab_type": "code",
        "colab": {
          "base_uri": "https://localhost:8080/",
          "height": 258
        },
        "outputId": "d5056737-9901-42c7-cf85-0f5b5e4e6ced"
      },
      "cell_type": "code",
      "source": [
        "#reorder and drop rows with \" \" in any value\n",
        "bb = bb[['mclinwt',\t'height',\t'mbmi',\t'meanwst',\t'meanumb', 'GENDER',\t'age',\t'race', 'ETHNIC',\t'TRUNKFAT',\t'fm',\t'ffm'\t]]\n",
        "bb = bb.dropna(subset = ['mclinwt',\t'height',\t'mbmi',\t'meanwst',\t'meanumb', 'GENDER',\t'age',\t'race', 'ETHNIC',\t'TRUNKFAT',\t'fm',\t'ffm'])\n",
        "bb =bb[bb['mclinwt'] != \" \"]\n",
        "bb =bb[bb['ETHNIC'] != \" \"]\n",
        "bb =bb[bb['height'] != \" \"]\n",
        "bb =bb[bb['mbmi'] != \" \"]\n",
        "bb =bb[bb['meanwst'] != \" \"]\n",
        "bb =bb[bb['meanumb'] != \" \"]\n",
        "bb =bb[bb['age'] != \" \"]\n",
        "bb =bb[bb['race'] != \" \"]\n",
        "bb =bb[bb['TRUNKFAT'] != \" \"]\n",
        "bb =bb[bb['fm'] != \" \"]\n",
        "bb =bb[bb['ffm'] != \" \"]\n",
        "#ab = bb.apply(pd.to_numeric)\n",
        "ab.head()"
      ],
      "execution_count": 109,
      "outputs": [
        {
          "output_type": "stream",
          "text": [
            "/usr/local/lib/python3.6/dist-packages/pandas/core/ops.py:1649: FutureWarning: elementwise comparison failed; returning scalar instead, but in the future will perform elementwise comparison\n",
            "  result = method(y)\n"
          ],
          "name": "stderr"
        },
        {
          "output_type": "execute_result",
          "data": {
            "text/html": [
              "<div>\n",
              "<style scoped>\n",
              "    .dataframe tbody tr th:only-of-type {\n",
              "        vertical-align: middle;\n",
              "    }\n",
              "\n",
              "    .dataframe tbody tr th {\n",
              "        vertical-align: top;\n",
              "    }\n",
              "\n",
              "    .dataframe thead th {\n",
              "        text-align: right;\n",
              "    }\n",
              "</style>\n",
              "<table border=\"1\" class=\"dataframe\">\n",
              "  <thead>\n",
              "    <tr style=\"text-align: right;\">\n",
              "      <th></th>\n",
              "      <th>mclinwt</th>\n",
              "      <th>height</th>\n",
              "      <th>mbmi</th>\n",
              "      <th>meanwst</th>\n",
              "      <th>meanumb</th>\n",
              "      <th>GENDER</th>\n",
              "      <th>age</th>\n",
              "      <th>race</th>\n",
              "      <th>ETHNIC</th>\n",
              "      <th>TRUNKFAT</th>\n",
              "      <th>fm</th>\n",
              "      <th>ffm</th>\n",
              "    </tr>\n",
              "  </thead>\n",
              "  <tbody>\n",
              "    <tr>\n",
              "      <th>0</th>\n",
              "      <td>59.183333</td>\n",
              "      <td>159.00</td>\n",
              "      <td>23.410203</td>\n",
              "      <td>72.25</td>\n",
              "      <td>80.5</td>\n",
              "      <td>0</td>\n",
              "      <td>27.0</td>\n",
              "      <td>0</td>\n",
              "      <td>0</td>\n",
              "      <td>7.367625</td>\n",
              "      <td>18.520689</td>\n",
              "      <td>40.779311</td>\n",
              "    </tr>\n",
              "    <tr>\n",
              "      <th>1</th>\n",
              "      <td>59.183333</td>\n",
              "      <td>159.00</td>\n",
              "      <td>23.410203</td>\n",
              "      <td>72.25</td>\n",
              "      <td>80.5</td>\n",
              "      <td>0</td>\n",
              "      <td>27.0</td>\n",
              "      <td>0</td>\n",
              "      <td>0</td>\n",
              "      <td>7.367625</td>\n",
              "      <td>18.520689</td>\n",
              "      <td>40.779311</td>\n",
              "    </tr>\n",
              "    <tr>\n",
              "      <th>2</th>\n",
              "      <td>51.816667</td>\n",
              "      <td>147.65</td>\n",
              "      <td>23.768543</td>\n",
              "      <td>72.25</td>\n",
              "      <td>82.5</td>\n",
              "      <td>0</td>\n",
              "      <td>42.0</td>\n",
              "      <td>1</td>\n",
              "      <td>0</td>\n",
              "      <td>7.916223</td>\n",
              "      <td>18.449676</td>\n",
              "      <td>33.200324</td>\n",
              "    </tr>\n",
              "    <tr>\n",
              "      <th>3</th>\n",
              "      <td>51.866667</td>\n",
              "      <td>147.65</td>\n",
              "      <td>23.791479</td>\n",
              "      <td>72.25</td>\n",
              "      <td>86.0</td>\n",
              "      <td>0</td>\n",
              "      <td>42.0</td>\n",
              "      <td>1</td>\n",
              "      <td>0</td>\n",
              "      <td>8.032588</td>\n",
              "      <td>18.580437</td>\n",
              "      <td>33.219563</td>\n",
              "    </tr>\n",
              "    <tr>\n",
              "      <th>4</th>\n",
              "      <td>51.766667</td>\n",
              "      <td>147.65</td>\n",
              "      <td>23.745608</td>\n",
              "      <td>72.25</td>\n",
              "      <td>79.0</td>\n",
              "      <td>0</td>\n",
              "      <td>42.0</td>\n",
              "      <td>1</td>\n",
              "      <td>0</td>\n",
              "      <td>7.799857</td>\n",
              "      <td>18.318916</td>\n",
              "      <td>33.181084</td>\n",
              "    </tr>\n",
              "  </tbody>\n",
              "</table>\n",
              "</div>"
            ],
            "text/plain": [
              "     mclinwt  height       mbmi  meanwst  meanumb  GENDER   age  race  ETHNIC  \\\n",
              "0  59.183333  159.00  23.410203    72.25     80.5       0  27.0     0       0   \n",
              "1  59.183333  159.00  23.410203    72.25     80.5       0  27.0     0       0   \n",
              "2  51.816667  147.65  23.768543    72.25     82.5       0  42.0     1       0   \n",
              "3  51.866667  147.65  23.791479    72.25     86.0       0  42.0     1       0   \n",
              "4  51.766667  147.65  23.745608    72.25     79.0       0  42.0     1       0   \n",
              "\n",
              "   TRUNKFAT         fm        ffm  \n",
              "0  7.367625  18.520689  40.779311  \n",
              "1  7.367625  18.520689  40.779311  \n",
              "2  7.916223  18.449676  33.200324  \n",
              "3  8.032588  18.580437  33.219563  \n",
              "4  7.799857  18.318916  33.181084  "
            ]
          },
          "metadata": {
            "tags": []
          },
          "execution_count": 109
        }
      ]
    },
    {
      "metadata": {
        "id": "nV6-GeuBztHi",
        "colab_type": "code",
        "colab": {
          "base_uri": "https://localhost:8080/",
          "height": 275
        },
        "outputId": "957adcda-8129-47b3-80ae-20f8d1398436"
      },
      "cell_type": "code",
      "source": [
        "bb['race'] = pd.Categorical( bb['race'] )\n",
        "bbr = pd.get_dummies(bb['race'], prefix = 'race')\n",
        "bb = pd.concat([bb, bbr], axis=1)\n",
        "\n",
        "bb['GENDER'] = pd.Categorical( bb['GENDER'] )\n",
        "bbg = pd.get_dummies(bb['GENDER'], prefix = 'GEN')\n",
        "bb = pd.concat([bb, bbg], axis=1)\n",
        "\n",
        "bb['ETHNIC'] = pd.Categorical( bb['ETHNIC'] )\n",
        "bbe = pd.get_dummies(bb['ETHNIC'], prefix = 'ETH')\n",
        "bb = pd.concat([bb, bbe], axis=1)\n",
        "\n",
        "bb = bb.drop(columns=['race','GENDER', 'ETHNIC',]) \n",
        "\n",
        "bb.head()"
      ],
      "execution_count": 110,
      "outputs": [
        {
          "output_type": "execute_result",
          "data": {
            "text/html": [
              "<div>\n",
              "<style scoped>\n",
              "    .dataframe tbody tr th:only-of-type {\n",
              "        vertical-align: middle;\n",
              "    }\n",
              "\n",
              "    .dataframe tbody tr th {\n",
              "        vertical-align: top;\n",
              "    }\n",
              "\n",
              "    .dataframe thead th {\n",
              "        text-align: right;\n",
              "    }\n",
              "</style>\n",
              "<table border=\"1\" class=\"dataframe\">\n",
              "  <thead>\n",
              "    <tr style=\"text-align: right;\">\n",
              "      <th></th>\n",
              "      <th>mclinwt</th>\n",
              "      <th>height</th>\n",
              "      <th>mbmi</th>\n",
              "      <th>meanwst</th>\n",
              "      <th>meanumb</th>\n",
              "      <th>age</th>\n",
              "      <th>TRUNKFAT</th>\n",
              "      <th>fm</th>\n",
              "      <th>ffm</th>\n",
              "      <th>race_Asian</th>\n",
              "      <th>race_Black or African American</th>\n",
              "      <th>race_Other</th>\n",
              "      <th>race_White</th>\n",
              "      <th>GEN_Female</th>\n",
              "      <th>GEN_Male</th>\n",
              "      <th>ETH_Hispanic or Latino</th>\n",
              "      <th>ETH_Not Hispanic or Latino</th>\n",
              "      <th>ETH_Unknown (not reporting ethnicity</th>\n",
              "    </tr>\n",
              "  </thead>\n",
              "  <tbody>\n",
              "    <tr>\n",
              "      <th>0</th>\n",
              "      <td>59.18333333</td>\n",
              "      <td>159.00</td>\n",
              "      <td>23.41020266</td>\n",
              "      <td>72.25</td>\n",
              "      <td>80.5</td>\n",
              "      <td>27.0</td>\n",
              "      <td>7.367624579</td>\n",
              "      <td>18.52068867</td>\n",
              "      <td>40.77931133</td>\n",
              "      <td>0</td>\n",
              "      <td>0</td>\n",
              "      <td>0</td>\n",
              "      <td>1</td>\n",
              "      <td>1</td>\n",
              "      <td>0</td>\n",
              "      <td>0</td>\n",
              "      <td>1</td>\n",
              "      <td>0</td>\n",
              "    </tr>\n",
              "    <tr>\n",
              "      <th>1</th>\n",
              "      <td>59.18333333</td>\n",
              "      <td>159.00</td>\n",
              "      <td>23.41020266</td>\n",
              "      <td>72.25</td>\n",
              "      <td>80.5</td>\n",
              "      <td>27.0</td>\n",
              "      <td>7.367624579</td>\n",
              "      <td>18.52068867</td>\n",
              "      <td>40.77931133</td>\n",
              "      <td>0</td>\n",
              "      <td>0</td>\n",
              "      <td>0</td>\n",
              "      <td>1</td>\n",
              "      <td>1</td>\n",
              "      <td>0</td>\n",
              "      <td>0</td>\n",
              "      <td>1</td>\n",
              "      <td>0</td>\n",
              "    </tr>\n",
              "    <tr>\n",
              "      <th>2</th>\n",
              "      <td>51.81666667</td>\n",
              "      <td>147.65</td>\n",
              "      <td>23.76854347</td>\n",
              "      <td>72.25</td>\n",
              "      <td>82.5</td>\n",
              "      <td>42.0</td>\n",
              "      <td>7.916222507</td>\n",
              "      <td>18.44967646</td>\n",
              "      <td>33.20032355</td>\n",
              "      <td>1</td>\n",
              "      <td>0</td>\n",
              "      <td>0</td>\n",
              "      <td>0</td>\n",
              "      <td>1</td>\n",
              "      <td>0</td>\n",
              "      <td>0</td>\n",
              "      <td>1</td>\n",
              "      <td>0</td>\n",
              "    </tr>\n",
              "    <tr>\n",
              "      <th>3</th>\n",
              "      <td>51.86666667</td>\n",
              "      <td>147.65</td>\n",
              "      <td>23.7914787</td>\n",
              "      <td>72.25</td>\n",
              "      <td>86</td>\n",
              "      <td>42.0</td>\n",
              "      <td>8.032587724</td>\n",
              "      <td>18.58043726</td>\n",
              "      <td>33.21956274</td>\n",
              "      <td>1</td>\n",
              "      <td>0</td>\n",
              "      <td>0</td>\n",
              "      <td>0</td>\n",
              "      <td>1</td>\n",
              "      <td>0</td>\n",
              "      <td>0</td>\n",
              "      <td>1</td>\n",
              "      <td>0</td>\n",
              "    </tr>\n",
              "    <tr>\n",
              "      <th>4</th>\n",
              "      <td>51.76666667</td>\n",
              "      <td>147.65</td>\n",
              "      <td>23.74560824</td>\n",
              "      <td>72.25</td>\n",
              "      <td>79</td>\n",
              "      <td>42.0</td>\n",
              "      <td>7.799857291</td>\n",
              "      <td>18.31891565</td>\n",
              "      <td>33.18108435</td>\n",
              "      <td>1</td>\n",
              "      <td>0</td>\n",
              "      <td>0</td>\n",
              "      <td>0</td>\n",
              "      <td>1</td>\n",
              "      <td>0</td>\n",
              "      <td>0</td>\n",
              "      <td>1</td>\n",
              "      <td>0</td>\n",
              "    </tr>\n",
              "  </tbody>\n",
              "</table>\n",
              "</div>"
            ],
            "text/plain": [
              "       mclinwt  height         mbmi meanwst meanumb   age     TRUNKFAT  \\\n",
              "0  59.18333333  159.00  23.41020266   72.25    80.5  27.0  7.367624579   \n",
              "1  59.18333333  159.00  23.41020266   72.25    80.5  27.0  7.367624579   \n",
              "2  51.81666667  147.65  23.76854347   72.25    82.5  42.0  7.916222507   \n",
              "3  51.86666667  147.65   23.7914787   72.25      86  42.0  8.032587724   \n",
              "4  51.76666667  147.65  23.74560824   72.25      79  42.0  7.799857291   \n",
              "\n",
              "            fm          ffm  race_Asian  race_Black or African American  \\\n",
              "0  18.52068867  40.77931133           0                               0   \n",
              "1  18.52068867  40.77931133           0                               0   \n",
              "2  18.44967646  33.20032355           1                               0   \n",
              "3  18.58043726  33.21956274           1                               0   \n",
              "4  18.31891565  33.18108435           1                               0   \n",
              "\n",
              "   race_Other  race_White  GEN_Female  GEN_Male  ETH_Hispanic or Latino  \\\n",
              "0           0           1           1         0                       0   \n",
              "1           0           1           1         0                       0   \n",
              "2           0           0           1         0                       0   \n",
              "3           0           0           1         0                       0   \n",
              "4           0           0           1         0                       0   \n",
              "\n",
              "   ETH_Not Hispanic or Latino  ETH_Unknown (not reporting ethnicity  \n",
              "0                           1                                     0  \n",
              "1                           1                                     0  \n",
              "2                           1                                     0  \n",
              "3                           1                                     0  \n",
              "4                           1                                     0  "
            ]
          },
          "metadata": {
            "tags": []
          },
          "execution_count": 110
        }
      ]
    },
    {
      "metadata": {
        "id": "iPnIq9202F7q",
        "colab_type": "text"
      },
      "cell_type": "markdown",
      "source": [
        ""
      ]
    },
    {
      "metadata": {
        "id": "2n6Te9V46ar2",
        "colab_type": "code",
        "colab": {}
      },
      "cell_type": "code",
      "source": [
        "#enumerate\n",
        "#bb['race'],enum_race = bb['race'].factorize()\n",
        "#bb['GENDER'],enum_GENDER = bb['GENDER'].factorize()\n",
        "#bb['ETHNIC'],enum_ETHNIC = bb['ETHNIC'].factorize()\n",
        "#map_enums = [ [ enum_race, bb['race'] ], [ enum_GENDER, bb['GENDER']], [ enum_ETHNIC, bb['ETHNIC']  ] ]\n",
        "\n",
        "#for en in map_enums:\n",
        "#  print(\"\\n\\nNumeric Representation : \", en[1].unique()) \n",
        "#  print(\"Unique Values : \", en[0].unique()) "
      ],
      "execution_count": 0,
      "outputs": []
    },
    {
      "metadata": {
        "id": "f174JyBRvfHo",
        "colab_type": "code",
        "colab": {
          "base_uri": "https://localhost:8080/",
          "height": 883
        },
        "outputId": "c2be71bc-bf6d-4fce-b2a0-fde57f7a1c2f"
      },
      "cell_type": "code",
      "source": [
        "ab[ab.dtypes[(ab.dtypes==\"float64\")|(ab.dtypes==\"int64\")]\n",
        "                        .index.values].hist(figsize=[11,11])"
      ],
      "execution_count": 112,
      "outputs": [
        {
          "output_type": "execute_result",
          "data": {
            "text/plain": [
              "array([[<matplotlib.axes._subplots.AxesSubplot object at 0x7fcad0727278>,\n",
              "        <matplotlib.axes._subplots.AxesSubplot object at 0x7fcab2e1bef0>,\n",
              "        <matplotlib.axes._subplots.AxesSubplot object at 0x7fcab3696710>],\n",
              "       [<matplotlib.axes._subplots.AxesSubplot object at 0x7fcab030fe10>,\n",
              "        <matplotlib.axes._subplots.AxesSubplot object at 0x7fcad03680b8>,\n",
              "        <matplotlib.axes._subplots.AxesSubplot object at 0x7fcab01d3160>],\n",
              "       [<matplotlib.axes._subplots.AxesSubplot object at 0x7fcab01e96d8>,\n",
              "        <matplotlib.axes._subplots.AxesSubplot object at 0x7fcab0202c88>,\n",
              "        <matplotlib.axes._subplots.AxesSubplot object at 0x7fcab0202cc0>],\n",
              "       [<matplotlib.axes._subplots.AxesSubplot object at 0x7fcab0151780>,\n",
              "        <matplotlib.axes._subplots.AxesSubplot object at 0x7fcab0174cf8>,\n",
              "        <matplotlib.axes._subplots.AxesSubplot object at 0x7fcab01212b0>]],\n",
              "      dtype=object)"
            ]
          },
          "metadata": {
            "tags": []
          },
          "execution_count": 112
        },
        {
          "output_type": "display_data",
          "data": {
            "image/png": "[encoded data removed]",
            "text/plain": [
              "<Figure size 792x792 with 12 Axes>"
            ]
          },
          "metadata": {
            "tags": []
          }
        }
      ]
    },
    {
      "metadata": {
        "id": "GLNAQD7WKjXw",
        "colab_type": "code",
        "colab": {
          "base_uri": "https://localhost:8080/",
          "height": 139
        },
        "outputId": "c5f3348f-c98a-4a24-ba21-cd26f25582b8"
      },
      "cell_type": "code",
      "source": [
        "from scipy import stats\n",
        "import sklearn.preprocessing as prp\n",
        "df=ab\n",
        "\n",
        "std_scale = prp.StandardScaler().fit(df[['mclinwt',\t'height',\t'mbmi',\t'meanwst',\t'meanumb', 'GENDER',\t'age',\t'race','ETHNIC',\t'TRUNKFAT',\t'fm',\t'ffm'\t]])\n",
        "df_std = std_scale.transform(df[['mclinwt',\t'height',\t'mbmi',\t'meanwst',\t'meanumb', 'GENDER',\t'age',\t'race','ETHNIC',\t'TRUNKFAT',\t'fm',\t'ffm'\t]])\n",
        "minmax_scale = prp.MinMaxScaler().fit(df[['mclinwt',\t'height',\t'mbmi',\t'meanwst',\t'meanumb', 'GENDER',\t'age',\t'race', 'ETHNIC',\t'TRUNKFAT',\t'fm',\t'ffm'\t]])\n",
        "df_minmax = minmax_scale.transform(df[['mclinwt',\t'height',\t'mbmi',\t'meanwst',\t'meanumb', 'GENDER',\t'age',\t'race','ETHNIC',\t'TRUNKFAT',\t'fm',\t'ffm'\t]])\n"
      ],
      "execution_count": 113,
      "outputs": [
        {
          "output_type": "stream",
          "text": [
            "/usr/local/lib/python3.6/dist-packages/sklearn/preprocessing/data.py:645: DataConversionWarning: Data with input dtype int64, float64 were all converted to float64 by StandardScaler.\n",
            "  return self.partial_fit(X, y)\n",
            "/usr/local/lib/python3.6/dist-packages/ipykernel_launcher.py:6: DataConversionWarning: Data with input dtype int64, float64 were all converted to float64 by StandardScaler.\n",
            "  \n",
            "/usr/local/lib/python3.6/dist-packages/sklearn/preprocessing/data.py:334: DataConversionWarning: Data with input dtype int64, float64 were all converted to float64 by MinMaxScaler.\n",
            "  return self.partial_fit(X, y)\n"
          ],
          "name": "stderr"
        }
      ]
    },
    {
      "metadata": {
        "id": "rixDR-lz0cSE",
        "colab_type": "text"
      },
      "cell_type": "markdown",
      "source": [
        "user plot to visualize at exact/standardized/normalized relationships"
      ]
    },
    {
      "metadata": {
        "id": "Ilm8eY4WQOmJ",
        "colab_type": "code",
        "colab": {}
      },
      "cell_type": "code",
      "source": [
        "from matplotlib import pyplot as plt\n",
        "\n",
        "def plot(A,B,x,y): #A,B -> keys; x,y -> index of A,B\n",
        "    plt.figure(figsize=(8,6))\n",
        "\n",
        "    plt.scatter(df[A], df[B],\n",
        "            color='green', label='input scale', alpha=0.5)\n",
        "\n",
        "    plt.scatter(df_std[:,x], df_std[:,y], color='red',\n",
        "            label='Standardized mu=0, sigma=1', alpha=0.3)\n",
        "\n",
        "    plt.scatter(df_minmax[:,x], df_minmax[:,y],\n",
        "            color='blue', label='min-max scaled [min=0, max=1]', alpha=0.3)\n",
        "\n",
        "    plt.title(f'{A} vs {B}')\n",
        "    plt.xlabel(A)\n",
        "    plt.ylabel(B)\n",
        "    plt.legend(loc='upper left')\n",
        "    plt.grid()\n",
        "\n",
        "    plt.tight_layout()\n",
        "\n",
        "plot('mbmi','height', 2, 1)\n",
        "plt.show()\n"
      ],
      "execution_count": 0,
      "outputs": []
    },
    {
      "metadata": {
        "id": "a9_j_3GgcXKF",
        "colab_type": "code",
        "colab": {
          "base_uri": "https://localhost:8080/",
          "height": 275
        },
        "outputId": "9719317d-a411-47c7-95c8-cfef43b7d998"
      },
      "cell_type": "code",
      "source": [
        "dz = bb.copy()\n",
        "dz['TRUNKFAT'],dz['fm'],dz['ffm'] = df_minmax[:,9],df_minmax[:,10],df_minmax[:,11]\n",
        "dz['mclinwt'],dz['height'],dz['mbmi'] ,dz['meanwst'],dz['meanumb'] ,dz['age']= df_std[:,0],df_std[:,1],df_std[:,2],df_std[:,3],df_std[:,4],df_std[:,6]\n",
        "\n",
        "dz = dz[['mclinwt',\t'height',\t'mbmi',\t'meanwst',\t'meanumb', 'age',\t'race_Asian','race_Black or African American','race_Other','race_White','GEN_Female','GEN_Male', 'ETH_Hispanic or Latino','ETH_Not Hispanic or Latino','ETH_Unknown (not reporting ethnicity','TRUNKFAT',\t'fm',\t'ffm'\t]]\n",
        "dz.head()"
      ],
      "execution_count": 119,
      "outputs": [
        {
          "output_type": "execute_result",
          "data": {
            "text/html": [
              "<div>\n",
              "<style scoped>\n",
              "    .dataframe tbody tr th:only-of-type {\n",
              "        vertical-align: middle;\n",
              "    }\n",
              "\n",
              "    .dataframe tbody tr th {\n",
              "        vertical-align: top;\n",
              "    }\n",
              "\n",
              "    .dataframe thead th {\n",
              "        text-align: right;\n",
              "    }\n",
              "</style>\n",
              "<table border=\"1\" class=\"dataframe\">\n",
              "  <thead>\n",
              "    <tr style=\"text-align: right;\">\n",
              "      <th></th>\n",
              "      <th>mclinwt</th>\n",
              "      <th>height</th>\n",
              "      <th>mbmi</th>\n",
              "      <th>meanwst</th>\n",
              "      <th>meanumb</th>\n",
              "      <th>age</th>\n",
              "      <th>race_Asian</th>\n",
              "      <th>race_Black or African American</th>\n",
              "      <th>race_Other</th>\n",
              "      <th>race_White</th>\n",
              "      <th>GEN_Female</th>\n",
              "      <th>GEN_Male</th>\n",
              "      <th>ETH_Hispanic or Latino</th>\n",
              "      <th>ETH_Not Hispanic or Latino</th>\n",
              "      <th>ETH_Unknown (not reporting ethnicity</th>\n",
              "      <th>TRUNKFAT</th>\n",
              "      <th>fm</th>\n",
              "      <th>ffm</th>\n",
              "    </tr>\n",
              "  </thead>\n",
              "  <tbody>\n",
              "    <tr>\n",
              "      <th>0</th>\n",
              "      <td>-1.004507</td>\n",
              "      <td>-1.148936</td>\n",
              "      <td>-0.335524</td>\n",
              "      <td>-0.79921</td>\n",
              "      <td>-0.510340</td>\n",
              "      <td>-1.490195</td>\n",
              "      <td>0</td>\n",
              "      <td>0</td>\n",
              "      <td>0</td>\n",
              "      <td>1</td>\n",
              "      <td>1</td>\n",
              "      <td>0</td>\n",
              "      <td>0</td>\n",
              "      <td>1</td>\n",
              "      <td>0</td>\n",
              "      <td>0.269392</td>\n",
              "      <td>0.331101</td>\n",
              "      <td>0.214854</td>\n",
              "    </tr>\n",
              "    <tr>\n",
              "      <th>1</th>\n",
              "      <td>-1.004507</td>\n",
              "      <td>-1.148936</td>\n",
              "      <td>-0.335524</td>\n",
              "      <td>-0.79921</td>\n",
              "      <td>-0.510340</td>\n",
              "      <td>-1.490195</td>\n",
              "      <td>0</td>\n",
              "      <td>0</td>\n",
              "      <td>0</td>\n",
              "      <td>1</td>\n",
              "      <td>1</td>\n",
              "      <td>0</td>\n",
              "      <td>0</td>\n",
              "      <td>1</td>\n",
              "      <td>0</td>\n",
              "      <td>0.269392</td>\n",
              "      <td>0.331101</td>\n",
              "      <td>0.214854</td>\n",
              "    </tr>\n",
              "    <tr>\n",
              "      <th>2</th>\n",
              "      <td>-1.755932</td>\n",
              "      <td>-2.477331</td>\n",
              "      <td>-0.171149</td>\n",
              "      <td>-0.79921</td>\n",
              "      <td>-0.257665</td>\n",
              "      <td>0.580070</td>\n",
              "      <td>1</td>\n",
              "      <td>0</td>\n",
              "      <td>0</td>\n",
              "      <td>0</td>\n",
              "      <td>1</td>\n",
              "      <td>0</td>\n",
              "      <td>0</td>\n",
              "      <td>1</td>\n",
              "      <td>0</td>\n",
              "      <td>0.302549</td>\n",
              "      <td>0.328796</td>\n",
              "      <td>0.051988</td>\n",
              "    </tr>\n",
              "    <tr>\n",
              "      <th>3</th>\n",
              "      <td>-1.750831</td>\n",
              "      <td>-2.477331</td>\n",
              "      <td>-0.160629</td>\n",
              "      <td>-0.79921</td>\n",
              "      <td>0.184516</td>\n",
              "      <td>0.580070</td>\n",
              "      <td>1</td>\n",
              "      <td>0</td>\n",
              "      <td>0</td>\n",
              "      <td>0</td>\n",
              "      <td>1</td>\n",
              "      <td>0</td>\n",
              "      <td>0</td>\n",
              "      <td>1</td>\n",
              "      <td>0</td>\n",
              "      <td>0.309582</td>\n",
              "      <td>0.333041</td>\n",
              "      <td>0.052402</td>\n",
              "    </tr>\n",
              "    <tr>\n",
              "      <th>4</th>\n",
              "      <td>-1.761032</td>\n",
              "      <td>-2.477331</td>\n",
              "      <td>-0.181670</td>\n",
              "      <td>-0.79921</td>\n",
              "      <td>-0.699846</td>\n",
              "      <td>0.580070</td>\n",
              "      <td>1</td>\n",
              "      <td>0</td>\n",
              "      <td>0</td>\n",
              "      <td>0</td>\n",
              "      <td>1</td>\n",
              "      <td>0</td>\n",
              "      <td>0</td>\n",
              "      <td>1</td>\n",
              "      <td>0</td>\n",
              "      <td>0.295516</td>\n",
              "      <td>0.324552</td>\n",
              "      <td>0.051575</td>\n",
              "    </tr>\n",
              "  </tbody>\n",
              "</table>\n",
              "</div>"
            ],
            "text/plain": [
              "    mclinwt    height      mbmi  meanwst   meanumb       age  race_Asian  \\\n",
              "0 -1.004507 -1.148936 -0.335524 -0.79921 -0.510340 -1.490195           0   \n",
              "1 -1.004507 -1.148936 -0.335524 -0.79921 -0.510340 -1.490195           0   \n",
              "2 -1.755932 -2.477331 -0.171149 -0.79921 -0.257665  0.580070           1   \n",
              "3 -1.750831 -2.477331 -0.160629 -0.79921  0.184516  0.580070           1   \n",
              "4 -1.761032 -2.477331 -0.181670 -0.79921 -0.699846  0.580070           1   \n",
              "\n",
              "   race_Black or African American  race_Other  race_White  GEN_Female  \\\n",
              "0                               0           0           1           1   \n",
              "1                               0           0           1           1   \n",
              "2                               0           0           0           1   \n",
              "3                               0           0           0           1   \n",
              "4                               0           0           0           1   \n",
              "\n",
              "   GEN_Male  ETH_Hispanic or Latino  ETH_Not Hispanic or Latino  \\\n",
              "0         0                       0                           1   \n",
              "1         0                       0                           1   \n",
              "2         0                       0                           1   \n",
              "3         0                       0                           1   \n",
              "4         0                       0                           1   \n",
              "\n",
              "   ETH_Unknown (not reporting ethnicity  TRUNKFAT        fm       ffm  \n",
              "0                                     0  0.269392  0.331101  0.214854  \n",
              "1                                     0  0.269392  0.331101  0.214854  \n",
              "2                                     0  0.302549  0.328796  0.051988  \n",
              "3                                     0  0.309582  0.333041  0.052402  \n",
              "4                                     0  0.295516  0.324552  0.051575  "
            ]
          },
          "metadata": {
            "tags": []
          },
          "execution_count": 119
        }
      ]
    },
    {
      "metadata": {
        "id": "vFlJrnAjRXDm",
        "colab_type": "code",
        "colab": {
          "base_uri": "https://localhost:8080/",
          "height": 34
        },
        "outputId": "cb805552-5215-45d1-cc5a-671da6989333"
      },
      "cell_type": "code",
      "source": [
        "from keras.models import Sequential\n",
        "from keras.layers import Dense\n",
        "from keras import regularizers\n",
        "from sklearn.metrics import r2_score\n",
        "import tensorflow as tf\n",
        "import numpy as np\n",
        "dataset = dz.to_numpy()\n",
        "np.set_printoptions(formatter={'float': lambda x: \"{0:0.2f}\".format(x)})\n",
        "np.random.seed(19)\n",
        "print(dataset.shape)"
      ],
      "execution_count": 120,
      "outputs": [
        {
          "output_type": "stream",
          "text": [
            "(1326, 18)\n"
          ],
          "name": "stdout"
        }
      ]
    },
    {
      "metadata": {
        "id": "LDtPVkuxnXDT",
        "colab_type": "code",
        "colab": {
          "base_uri": "https://localhost:8080/",
          "height": 136
        },
        "outputId": "de5ae5e2-671c-4467-c4b7-47b36cd0d7d2"
      },
      "cell_type": "code",
      "source": [
        "np.random.shuffle(dataset)\n",
        "print(dataset)"
      ],
      "execution_count": 121,
      "outputs": [
        {
          "output_type": "stream",
          "text": [
            "[[-1.71 -0.48 -2.25 ... 0.11 0.24 0.12]\n",
            " [-0.36 -1.01 0.64 ... 0.46 0.50 0.24]\n",
            " [0.06 1.33 -1.23 ... 0.36 0.38 0.41]\n",
            " ...\n",
            " [-0.68 -1.20 0.31 ... 0.40 0.49 0.18]\n",
            " [-0.29 -0.31 -0.08 ... 0.55 0.56 0.22]\n",
            " [-0.49 -0.42 -0.28 ... 0.24 0.33 0.31]]\n"
          ],
          "name": "stdout"
        }
      ]
    },
    {
      "metadata": {
        "id": "QM_RUuE-SoBs",
        "colab_type": "code",
        "colab": {
          "base_uri": "https://localhost:8080/",
          "height": 119
        },
        "outputId": "be63c2e8-37f6-45ca-dd60-ebb1009ba7e1"
      },
      "cell_type": "code",
      "source": [
        "x_train = dataset[:800,0:15]\n",
        "y_train = dataset[:800,15:]\n",
        "x_val = dataset[800:1063,0:15]\n",
        "y_val = dataset[800:1063,15:]\n",
        "x_test = dataset[1063:,0:15]\n",
        "y_test = dataset[1063:,15:]\n",
        "print(x_train.shape)\n",
        "print(y_train.shape)\n",
        "print(x_val.shape)\n",
        "print(y_val.shape)\n",
        "print(x_test.shape)\n",
        "print(y_test.shape)"
      ],
      "execution_count": 122,
      "outputs": [
        {
          "output_type": "stream",
          "text": [
            "(800, 15)\n",
            "(800, 3)\n",
            "(263, 15)\n",
            "(263, 3)\n",
            "(263, 15)\n",
            "(263, 3)\n"
          ],
          "name": "stdout"
        }
      ]
    },
    {
      "metadata": {
        "id": "9dFtEtqefoEy",
        "colab_type": "code",
        "colab": {
          "base_uri": "https://localhost:8080/",
          "height": 289
        },
        "outputId": "5090ae06-7ae2-477f-8643-7c0018b83820"
      },
      "cell_type": "code",
      "source": [
        "model = Sequential()\n",
        "model.add(Dense(256,kernel_regularizer=regularizers.l2(0.0001), input_dim=15, activation='relu'))\n",
        "model.add(Dense(256,kernel_regularizer=regularizers.l2(0.0001), activation='relu'))\n",
        "model.add(Dense(8, activation='relu'))\n",
        "model.add(Dense(3, activation='sigmoid'))\n",
        "print(model.summary())"
      ],
      "execution_count": 123,
      "outputs": [
        {
          "output_type": "stream",
          "text": [
            "_________________________________________________________________\n",
            "Layer (type)                 Output Shape              Param #   \n",
            "=================================================================\n",
            "dense_21 (Dense)             (None, 256)               4096      \n",
            "_________________________________________________________________\n",
            "dense_22 (Dense)             (None, 256)               65792     \n",
            "_________________________________________________________________\n",
            "dense_23 (Dense)             (None, 8)                 2056      \n",
            "_________________________________________________________________\n",
            "dense_24 (Dense)             (None, 3)                 27        \n",
            "=================================================================\n",
            "Total params: 71,971\n",
            "Trainable params: 71,971\n",
            "Non-trainable params: 0\n",
            "_________________________________________________________________\n",
            "None\n"
          ],
          "name": "stdout"
        }
      ]
    },
    {
      "metadata": {
        "id": "EKG0GA6IQd7p",
        "colab_type": "code",
        "colab": {}
      },
      "cell_type": "code",
      "source": [
        "def r_square(y_true, y_pred):\n",
        "    from keras import backend as K\n",
        "    SS_res =  K.sum(K.square(y_true - y_pred)) \n",
        "    SS_tot = K.sum(K.square(y_true - K.mean(y_true))) \n",
        "    return ( 1 - SS_res/(SS_tot + K.epsilon() ) )"
      ],
      "execution_count": 0,
      "outputs": []
    },
    {
      "metadata": {
        "id": "0uKKI668funB",
        "colab_type": "code",
        "colab": {}
      },
      "cell_type": "code",
      "source": [
        "model.compile(loss='mse', optimizer='Nadam', metrics=['mse',r_square])"
      ],
      "execution_count": 0,
      "outputs": []
    },
    {
      "metadata": {
        "id": "CY0m6PMHfwAI",
        "colab_type": "code",
        "colab": {
          "base_uri": "https://localhost:8080/",
          "height": 734
        },
        "outputId": "7ed4c6c2-2129-44a7-b211-bbb8d259c50b"
      },
      "cell_type": "code",
      "source": [
        "history = model.fit(x_train, y_train, epochs=20, batch_size=32, validation_data=(x_val,y_val))"
      ],
      "execution_count": 126,
      "outputs": [
        {
          "output_type": "stream",
          "text": [
            "Train on 800 samples, validate on 263 samples\n",
            "Epoch 1/20\n",
            "800/800 [==============================] - 1s 927us/step - loss: 0.0410 - mean_squared_error: 0.0172 - r_square: 0.4683 - val_loss: 0.0300 - val_mean_squared_error: 0.0109 - val_r_square: 0.6508\n",
            "Epoch 2/20\n",
            "800/800 [==============================] - 0s 148us/step - loss: 0.0240 - mean_squared_error: 0.0082 - r_square: 0.7369 - val_loss: 0.0192 - val_mean_squared_error: 0.0063 - val_r_square: 0.7942\n",
            "Epoch 3/20\n",
            "800/800 [==============================] - 0s 144us/step - loss: 0.0161 - mean_squared_error: 0.0050 - r_square: 0.8389 - val_loss: 0.0152 - val_mean_squared_error: 0.0058 - val_r_square: 0.8073\n",
            "Epoch 4/20\n",
            "800/800 [==============================] - 0s 145us/step - loss: 0.0128 - mean_squared_error: 0.0046 - r_square: 0.8542 - val_loss: 0.0113 - val_mean_squared_error: 0.0042 - val_r_square: 0.8604\n",
            "Epoch 5/20\n",
            "800/800 [==============================] - 0s 143us/step - loss: 0.0109 - mean_squared_error: 0.0045 - r_square: 0.8567 - val_loss: 0.0097 - val_mean_squared_error: 0.0041 - val_r_square: 0.8641\n",
            "Epoch 6/20\n",
            "800/800 [==============================] - 0s 146us/step - loss: 0.0095 - mean_squared_error: 0.0044 - r_square: 0.8587 - val_loss: 0.0091 - val_mean_squared_error: 0.0045 - val_r_square: 0.8508\n",
            "Epoch 7/20\n",
            "800/800 [==============================] - 0s 146us/step - loss: 0.0085 - mean_squared_error: 0.0043 - r_square: 0.8643 - val_loss: 0.0085 - val_mean_squared_error: 0.0046 - val_r_square: 0.8460\n",
            "Epoch 8/20\n",
            "800/800 [==============================] - 0s 147us/step - loss: 0.0077 - mean_squared_error: 0.0042 - r_square: 0.8689 - val_loss: 0.0074 - val_mean_squared_error: 0.0042 - val_r_square: 0.8607\n",
            "Epoch 9/20\n",
            "800/800 [==============================] - 0s 162us/step - loss: 0.0073 - mean_squared_error: 0.0042 - r_square: 0.8652 - val_loss: 0.0076 - val_mean_squared_error: 0.0048 - val_r_square: 0.8405\n",
            "Epoch 10/20\n",
            "800/800 [==============================] - 0s 141us/step - loss: 0.0067 - mean_squared_error: 0.0040 - r_square: 0.8694 - val_loss: 0.0072 - val_mean_squared_error: 0.0048 - val_r_square: 0.8403\n",
            "Epoch 11/20\n",
            "800/800 [==============================] - 0s 148us/step - loss: 0.0064 - mean_squared_error: 0.0040 - r_square: 0.8695 - val_loss: 0.0063 - val_mean_squared_error: 0.0040 - val_r_square: 0.8650\n",
            "Epoch 12/20\n",
            "800/800 [==============================] - 0s 138us/step - loss: 0.0061 - mean_squared_error: 0.0040 - r_square: 0.8715 - val_loss: 0.0060 - val_mean_squared_error: 0.0040 - val_r_square: 0.8666\n",
            "Epoch 13/20\n",
            "800/800 [==============================] - 0s 136us/step - loss: 0.0060 - mean_squared_error: 0.0041 - r_square: 0.8697 - val_loss: 0.0059 - val_mean_squared_error: 0.0041 - val_r_square: 0.8638\n",
            "Epoch 14/20\n",
            "800/800 [==============================] - 0s 126us/step - loss: 0.0060 - mean_squared_error: 0.0042 - r_square: 0.8657 - val_loss: 0.0056 - val_mean_squared_error: 0.0038 - val_r_square: 0.8721\n",
            "Epoch 15/20\n",
            "800/800 [==============================] - 0s 132us/step - loss: 0.0057 - mean_squared_error: 0.0040 - r_square: 0.8707 - val_loss: 0.0058 - val_mean_squared_error: 0.0042 - val_r_square: 0.8591\n",
            "Epoch 16/20\n",
            "800/800 [==============================] - 0s 126us/step - loss: 0.0054 - mean_squared_error: 0.0039 - r_square: 0.8761 - val_loss: 0.0061 - val_mean_squared_error: 0.0045 - val_r_square: 0.8493\n",
            "Epoch 17/20\n",
            "800/800 [==============================] - 0s 127us/step - loss: 0.0055 - mean_squared_error: 0.0040 - r_square: 0.8717 - val_loss: 0.0055 - val_mean_squared_error: 0.0040 - val_r_square: 0.8671\n",
            "Epoch 18/20\n",
            "800/800 [==============================] - 0s 137us/step - loss: 0.0054 - mean_squared_error: 0.0040 - r_square: 0.8705 - val_loss: 0.0053 - val_mean_squared_error: 0.0039 - val_r_square: 0.8687\n",
            "Epoch 19/20\n",
            "800/800 [==============================] - 0s 124us/step - loss: 0.0053 - mean_squared_error: 0.0039 - r_square: 0.8762 - val_loss: 0.0053 - val_mean_squared_error: 0.0040 - val_r_square: 0.8682\n",
            "Epoch 20/20\n",
            "800/800 [==============================] - 0s 133us/step - loss: 0.0053 - mean_squared_error: 0.0040 - r_square: 0.8759 - val_loss: 0.0054 - val_mean_squared_error: 0.0040 - val_r_square: 0.8644\n"
          ],
          "name": "stdout"
        }
      ]
    },
    {
      "metadata": {
        "id": "gmBquaH7uP7v",
        "colab_type": "code",
        "colab": {
          "base_uri": "https://localhost:8080/",
          "height": 295
        },
        "outputId": "bd63099d-afcc-4fcf-fbc6-db8aaf7390e1"
      },
      "cell_type": "code",
      "source": [
        "epochs = range(1, len(history.history['loss']) + 1)\n",
        "# \"bo\" is for \"blue dot\"\n",
        "plt.plot(epochs, history.history['loss'], 'bo', label='Training loss')\n",
        "# b is for \"solid blue line\"\n",
        "plt.plot(epochs, history.history['val_loss'], 'b', label='Validation loss')\n",
        "plt.title('Training and validation loss')\n",
        "plt.xlabel('Epochs')\n",
        "plt.ylabel('Loss')\n",
        "plt.legend()\n",
        "plt.show()"
      ],
      "execution_count": 127,
      "outputs": [
        {
          "output_type": "display_data",
          "data": {
            "image/png": "[encoded data removed]",
            "text/plain": [
              "<Figure size 432x288 with 1 Axes>"
            ]
          },
          "metadata": {
            "tags": []
          }
        }
      ]
    },
    {
      "metadata": {
        "id": "xKpkKsfPjVWY",
        "colab_type": "code",
        "colab": {
          "base_uri": "https://localhost:8080/",
          "height": 119
        },
        "outputId": "a1fe702f-067c-4ae0-dbb6-59158e700505"
      },
      "cell_type": "code",
      "source": [
        "scores = model.evaluate(x_train, y_train)\n",
        "print(model.metrics_names)\n",
        "print(scores)\n",
        "print(\"\\n%s: %.3f\" % (model.metrics_names[1], scores[1]))\n",
        "print('R²: %.2f' % ( scores[2]))"
      ],
      "execution_count": 128,
      "outputs": [
        {
          "output_type": "stream",
          "text": [
            "800/800 [==============================] - 0s 55us/step\n",
            "['loss', 'mean_squared_error', 'r_square']\n",
            "[0.004857546342536807, 0.0035404173005372285, 0.88694096326828]\n",
            "\n",
            "mean_squared_error: 0.004\n",
            "R²: 0.89\n"
          ],
          "name": "stdout"
        }
      ]
    },
    {
      "metadata": {
        "id": "Q7ENWn5hVT3s",
        "colab_type": "code",
        "colab": {
          "base_uri": "https://localhost:8080/",
          "height": 283
        },
        "outputId": "9d4ce667-aad0-423b-cb07-7fa0d690926a"
      },
      "cell_type": "code",
      "source": [
        "y_pred =model.predict(x_test)\n",
        "fig, ax = plt.subplots()\n",
        "ax.scatter(y_test, y_pred)\n",
        "ax.plot([y_test.min(), y_test.max()], [y_test.min(), y_test.max()], 'k--', lw=4)\n",
        "ax.set_xlabel('measured')\n",
        "ax.set_ylabel('predicted')\n",
        "plt.show()"
      ],
      "execution_count": 129,
      "outputs": [
        {
          "output_type": "display_data",
          "data": {
            "image/png": "[encoded data removed]",
            "text/plain": [
              "<Figure size 432x288 with 1 Axes>"
            ]
          },
          "metadata": {
            "tags": []
          }
        }
      ]
    },
    {
      "metadata": {
        "id": "Sw1kNXkDDYeJ",
        "colab_type": "code",
        "colab": {
          "base_uri": "https://localhost:8080/",
          "height": 102
        },
        "outputId": "a2038652-031d-4fbe-c308-94e497604b25"
      },
      "cell_type": "code",
      "source": [
        "scores = model.evaluate(x_test, y_test)\n",
        "print(scores)\n",
        "print(\"\\n%s: %.3f\" % (model.metrics_names[1], scores[1]))\n",
        "print('R²: %.2f' % ( scores[2]))"
      ],
      "execution_count": 130,
      "outputs": [
        {
          "output_type": "stream",
          "text": [
            "263/263 [==============================] - 0s 87us/step\n",
            "[0.005616203424991763, 0.004299074420245088, 0.8692757423839642]\n",
            "\n",
            "mean_squared_error: 0.004\n",
            "R²: 0.87\n"
          ],
          "name": "stdout"
        }
      ]
    },
    {
      "metadata": {
        "id": "Ml4siFVQIUbN",
        "colab_type": "code",
        "colab": {
          "base_uri": "https://localhost:8080/",
          "height": 51
        },
        "outputId": "7d3549c7-66cd-4413-9e4d-4e0df4e34e10"
      },
      "cell_type": "code",
      "source": [
        "from sklearn.linear_model import LinearRegression\n",
        "from sklearn.model_selection import train_test_split\n",
        "from sklearn.metrics import mean_squared_error, r2_score\n",
        "\n",
        "reg = LinearRegression()\n",
        "\n",
        "reg.fit(x_train, y_train)"
      ],
      "execution_count": 131,
      "outputs": [
        {
          "output_type": "execute_result",
          "data": {
            "text/plain": [
              "LinearRegression(copy_X=True, fit_intercept=True, n_jobs=None,\n",
              "         normalize=False)"
            ]
          },
          "metadata": {
            "tags": []
          },
          "execution_count": 131
        }
      ]
    },
    {
      "metadata": {
        "id": "n_Da1lSrD3mI",
        "colab_type": "code",
        "colab": {
          "base_uri": "https://localhost:8080/",
          "height": 51
        },
        "outputId": "002fc8aa-6c8b-4e27-fdc3-964e3447023b"
      },
      "cell_type": "code",
      "source": [
        "y_predicted = reg.predict(x_test)\n",
        "print(\"Mean squared error: %.3f\" % mean_squared_error(y_test, y_predicted))\n",
        "print('R²: %.2f' % r2_score(y_test, y_predicted))\n"
      ],
      "execution_count": 132,
      "outputs": [
        {
          "output_type": "stream",
          "text": [
            "Mean squared error: 0.005\n",
            "R²: 0.84\n"
          ],
          "name": "stdout"
        }
      ]
    },
    {
      "metadata": {
        "id": "CdykA2-PTjeH",
        "colab_type": "code",
        "colab": {
          "base_uri": "https://localhost:8080/",
          "height": 283
        },
        "outputId": "c79b6457-c78a-45bd-bea9-8f43ce868493"
      },
      "cell_type": "code",
      "source": [
        "fig, ax = plt.subplots()\n",
        "ax.scatter(y_test, y_predicted)\n",
        "ax.plot([y_test.min(), y_test.max()], [y_test.min(), y_test.max()], 'k--', lw=4)\n",
        "ax.set_xlabel('measured')\n",
        "ax.set_ylabel('predicted')\n",
        "plt.show()"
      ],
      "execution_count": 133,
      "outputs": [
        {
          "output_type": "display_data",
          "data": {
            "image/png": "[encoded data removed]",
            "text/plain": [
              "<Figure size 432x288 with 1 Axes>"
            ]
          },
          "metadata": {
            "tags": []
          }
        }
      ]
    }
  ]
}